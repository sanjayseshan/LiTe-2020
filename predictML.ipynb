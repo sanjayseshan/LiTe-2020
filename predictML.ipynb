{
 "cells": [
  {
   "cell_type": "code",
   "execution_count": 1,
   "metadata": {
    "colab": {},
    "colab_type": "code",
    "id": "J3OtwrYMh5do"
   },
   "outputs": [
    {
     "name": "stderr",
     "output_type": "stream",
     "text": [
      "Using TensorFlow backend.\n"
     ]
    }
   ],
   "source": [
    "import numpy as np\n",
    "import keras\n",
    "from keras.datasets import imdb\n",
    "from keras.models import Sequential\n",
    "from keras.layers import LSTM\n",
    "from keras.layers.embeddings import Embedding\n",
    "from keras.preprocessing import sequence\n",
    "from sklearn.metrics import confusion_matrix, precision_score\n",
    "from sklearn.model_selection import train_test_split\n",
    "from keras.layers import Dense,Dropout\n",
    "from keras.regularizers import l2\n",
    "import matplotlib.pyplot as plt\n",
    "import pandas as pd\n",
    "\n",
    "\n"
   ]
  },
  {
   "cell_type": "code",
   "execution_count": 2,
   "metadata": {
    "colab": {
     "base_uri": "https://localhost:8080/",
     "height": 35
    },
    "colab_type": "code",
    "executionInfo": {
     "elapsed": 286,
     "status": "ok",
     "timestamp": 1582609074721,
     "user": {
      "displayName": "Srinivasan Seshan",
      "photoUrl": "",
      "userId": "06632033567786526417"
     },
     "user_tz": 300
    },
    "id": "9Hwc3b1ukDel",
    "outputId": "032c0a82-4990-43c1-d069-3d8f4f3a6288"
   },
   "outputs": [
    {
     "data": {
      "text/plain": [
       "((880, 5), (880, 6), (845, 5), (845, 6))"
      ]
     },
     "execution_count": 2,
     "metadata": {},
     "output_type": "execute_result"
    }
   ],
   "source": [
    "datafile = \"mix6ml\"\n",
    "\n",
    "x_data = pd.read_csv(datafile+\"X.csv\",names=['s1','s2','s3','s4','s5'])\n",
    "y_dataR = np.genfromtxt(datafile+\"Y.csv\",delimiter=',',dtype=int)\n",
    "num_classes = np.max(y_dataR) + 1\n",
    "y_data = keras.utils.to_categorical(y_dataR, num_classes)\n",
    "#x_train, x_test, y_train, y_test = train_test_split(x_data,y_data, test_size=0.20, random_state=0)\n",
    "x_train = x_data[:880]\n",
    "x_test = x_data[880:]\n",
    "y_train = y_data[:880]\n",
    "y_test = y_data[880:]\n",
    "x_train.shape,y_train.shape,x_test.shape,y_test.shape"
   ]
  },
  {
   "cell_type": "code",
   "execution_count": 3,
   "metadata": {
    "colab": {
     "base_uri": "https://localhost:8080/",
     "height": 1000
    },
    "colab_type": "code",
    "executionInfo": {
     "elapsed": 20285,
     "status": "ok",
     "timestamp": 1582609098680,
     "user": {
      "displayName": "Srinivasan Seshan",
      "photoUrl": "",
      "userId": "06632033567786526417"
     },
     "user_tz": 300
    },
    "id": "E1rwuze5mL10",
    "outputId": "c91ea7eb-f2f2-4dec-f4b7-749e50ad3fa3"
   },
   "outputs": [
    {
     "name": "stdout",
     "output_type": "stream",
     "text": [
      "WARNING:tensorflow:From /usr/local/lib/python3.7/dist-packages/tensorflow/python/ops/nn_impl.py:180: add_dispatch_support.<locals>.wrapper (from tensorflow.python.ops.array_ops) is deprecated and will be removed in a future version.\n",
      "Instructions for updating:\n",
      "Use tf.where in 2.0, which has the same broadcast rule as np.where\n",
      "WARNING:tensorflow:From /usr/local/lib/python3.7/dist-packages/keras/backend/tensorflow_backend.py:422: The name tf.global_variables is deprecated. Please use tf.compat.v1.global_variables instead.\n",
      "\n",
      "Train on 880 samples, validate on 845 samples\n",
      "Epoch 1/150\n",
      "880/880 [==============================] - 0s 417us/step - loss: 15.4919 - accuracy: 0.7394 - val_loss: 3.3432 - val_accuracy: 0.8187\n",
      "Epoch 2/150\n",
      "880/880 [==============================] - 0s 160us/step - loss: 6.2435 - accuracy: 0.7761 - val_loss: 1.3458 - val_accuracy: 0.8452\n",
      "Epoch 3/150\n",
      "880/880 [==============================] - 0s 151us/step - loss: 3.0500 - accuracy: 0.7729 - val_loss: 0.9950 - val_accuracy: 0.8018\n",
      "Epoch 4/150\n",
      "880/880 [==============================] - 0s 155us/step - loss: 1.7846 - accuracy: 0.7655 - val_loss: 0.9946 - val_accuracy: 0.7414\n",
      "Epoch 5/150\n",
      "880/880 [==============================] - 0s 151us/step - loss: 1.2592 - accuracy: 0.7682 - val_loss: 0.9790 - val_accuracy: 0.8385\n",
      "Epoch 6/150\n",
      "880/880 [==============================] - 0s 150us/step - loss: 1.0837 - accuracy: 0.8114 - val_loss: 0.9698 - val_accuracy: 0.8333\n",
      "Epoch 7/150\n",
      "880/880 [==============================] - 0s 155us/step - loss: 1.0110 - accuracy: 0.8205 - val_loss: 0.9138 - val_accuracy: 0.8333\n",
      "Epoch 8/150\n",
      "880/880 [==============================] - 0s 161us/step - loss: 0.9282 - accuracy: 0.8337 - val_loss: 0.8575 - val_accuracy: 0.8333\n",
      "Epoch 9/150\n",
      "880/880 [==============================] - 0s 225us/step - loss: 0.8836 - accuracy: 0.8403 - val_loss: 0.8178 - val_accuracy: 0.8357\n",
      "Epoch 10/150\n",
      "880/880 [==============================] - 0s 199us/step - loss: 0.8228 - accuracy: 0.8547 - val_loss: 0.7639 - val_accuracy: 0.8536\n",
      "Epoch 11/150\n",
      "880/880 [==============================] - 0s 167us/step - loss: 0.7984 - accuracy: 0.8557 - val_loss: 0.7587 - val_accuracy: 0.8647\n",
      "Epoch 12/150\n",
      "880/880 [==============================] - 0s 166us/step - loss: 0.7767 - accuracy: 0.8559 - val_loss: 0.7220 - val_accuracy: 0.8688\n",
      "Epoch 13/150\n",
      "880/880 [==============================] - 0s 168us/step - loss: 0.7658 - accuracy: 0.8638 - val_loss: 0.7001 - val_accuracy: 0.9138\n",
      "Epoch 14/150\n",
      "880/880 [==============================] - 0s 172us/step - loss: 0.7408 - accuracy: 0.8676 - val_loss: 0.6939 - val_accuracy: 0.8826\n",
      "Epoch 15/150\n",
      "880/880 [==============================] - 0s 163us/step - loss: 0.7171 - accuracy: 0.8712 - val_loss: 0.6751 - val_accuracy: 0.9199\n",
      "Epoch 16/150\n",
      "880/880 [==============================] - 0s 151us/step - loss: 0.7010 - accuracy: 0.8733 - val_loss: 0.6655 - val_accuracy: 0.8864\n",
      "Epoch 17/150\n",
      "880/880 [==============================] - 0s 174us/step - loss: 0.6917 - accuracy: 0.8833 - val_loss: 0.6421 - val_accuracy: 0.8939\n",
      "Epoch 18/150\n",
      "880/880 [==============================] - 0s 193us/step - loss: 0.6547 - accuracy: 0.8917 - val_loss: 0.6236 - val_accuracy: 0.9288\n",
      "Epoch 19/150\n",
      "880/880 [==============================] - 0s 170us/step - loss: 0.6330 - accuracy: 0.9015 - val_loss: 0.6119 - val_accuracy: 0.9250\n",
      "Epoch 20/150\n",
      "880/880 [==============================] - 0s 165us/step - loss: 0.6232 - accuracy: 0.9011 - val_loss: 0.5942 - val_accuracy: 0.9207\n",
      "Epoch 21/150\n",
      "880/880 [==============================] - 0s 167us/step - loss: 0.5974 - accuracy: 0.9053 - val_loss: 0.5748 - val_accuracy: 0.9300\n",
      "Epoch 22/150\n",
      "880/880 [==============================] - 0s 160us/step - loss: 0.5802 - accuracy: 0.9116 - val_loss: 0.5695 - val_accuracy: 0.9286\n",
      "Epoch 23/150\n",
      "880/880 [==============================] - 0s 173us/step - loss: 0.5687 - accuracy: 0.9161 - val_loss: 0.5527 - val_accuracy: 0.9266\n",
      "Epoch 24/150\n",
      "880/880 [==============================] - 0s 170us/step - loss: 0.5415 - accuracy: 0.9223 - val_loss: 0.5440 - val_accuracy: 0.9294\n",
      "Epoch 25/150\n",
      "880/880 [==============================] - 0s 166us/step - loss: 0.5298 - accuracy: 0.9278 - val_loss: 0.5212 - val_accuracy: 0.9314\n",
      "Epoch 26/150\n",
      "880/880 [==============================] - 0s 233us/step - loss: 0.5177 - accuracy: 0.9256 - val_loss: 0.5204 - val_accuracy: 0.9509\n",
      "Epoch 27/150\n",
      "880/880 [==============================] - 0s 173us/step - loss: 0.5006 - accuracy: 0.9383 - val_loss: 0.5030 - val_accuracy: 0.9314\n",
      "Epoch 28/150\n",
      "880/880 [==============================] - 0s 115us/step - loss: 0.4928 - accuracy: 0.9318 - val_loss: 0.5184 - val_accuracy: 0.9404\n",
      "Epoch 29/150\n",
      "880/880 [==============================] - 0s 118us/step - loss: 0.5016 - accuracy: 0.9316 - val_loss: 0.4992 - val_accuracy: 0.9296\n",
      "Epoch 30/150\n",
      "880/880 [==============================] - 0s 77us/step - loss: 0.4664 - accuracy: 0.9403 - val_loss: 0.4743 - val_accuracy: 0.9418\n",
      "Epoch 31/150\n",
      "880/880 [==============================] - 0s 77us/step - loss: 0.4580 - accuracy: 0.9407 - val_loss: 0.4638 - val_accuracy: 0.9430\n",
      "Epoch 32/150\n",
      "880/880 [==============================] - 0s 75us/step - loss: 0.4531 - accuracy: 0.9455 - val_loss: 0.4603 - val_accuracy: 0.9473\n",
      "Epoch 33/150\n",
      "880/880 [==============================] - 0s 224us/step - loss: 0.4496 - accuracy: 0.9432 - val_loss: 0.4517 - val_accuracy: 0.9412\n",
      "Epoch 34/150\n",
      "880/880 [==============================] - 0s 168us/step - loss: 0.4381 - accuracy: 0.9447 - val_loss: 0.4458 - val_accuracy: 0.9568\n",
      "Epoch 35/150\n",
      "880/880 [==============================] - 0s 158us/step - loss: 0.4324 - accuracy: 0.9473 - val_loss: 0.4382 - val_accuracy: 0.9499\n",
      "Epoch 36/150\n",
      "880/880 [==============================] - 0s 144us/step - loss: 0.4331 - accuracy: 0.9394 - val_loss: 0.4335 - val_accuracy: 0.9582\n",
      "Epoch 37/150\n",
      "880/880 [==============================] - 0s 154us/step - loss: 0.4203 - accuracy: 0.9498 - val_loss: 0.4195 - val_accuracy: 0.9568\n",
      "Epoch 38/150\n",
      "880/880 [==============================] - 0s 146us/step - loss: 0.4186 - accuracy: 0.9428 - val_loss: 0.4169 - val_accuracy: 0.9560\n",
      "Epoch 39/150\n",
      "880/880 [==============================] - 0s 135us/step - loss: 0.4023 - accuracy: 0.9506 - val_loss: 0.4214 - val_accuracy: 0.9507\n",
      "Epoch 40/150\n",
      "880/880 [==============================] - 0s 268us/step - loss: 0.3929 - accuracy: 0.9530 - val_loss: 0.4041 - val_accuracy: 0.9582\n",
      "Epoch 41/150\n",
      "880/880 [==============================] - 0s 299us/step - loss: 0.3879 - accuracy: 0.9525 - val_loss: 0.4061 - val_accuracy: 0.9540\n",
      "Epoch 42/150\n",
      "880/880 [==============================] - 0s 237us/step - loss: 0.3796 - accuracy: 0.9502 - val_loss: 0.3861 - val_accuracy: 0.9572\n",
      "Epoch 43/150\n",
      "880/880 [==============================] - 0s 241us/step - loss: 0.3628 - accuracy: 0.9559 - val_loss: 0.3840 - val_accuracy: 0.9580\n",
      "Epoch 44/150\n",
      "880/880 [==============================] - 0s 159us/step - loss: 0.3595 - accuracy: 0.9555 - val_loss: 0.3975 - val_accuracy: 0.9546\n",
      "Epoch 45/150\n",
      "880/880 [==============================] - 0s 144us/step - loss: 0.3665 - accuracy: 0.9538 - val_loss: 0.3730 - val_accuracy: 0.9564\n",
      "Epoch 46/150\n",
      "880/880 [==============================] - 0s 199us/step - loss: 0.3545 - accuracy: 0.9576 - val_loss: 0.3587 - val_accuracy: 0.9566\n",
      "Epoch 47/150\n",
      "880/880 [==============================] - 0s 156us/step - loss: 0.3461 - accuracy: 0.9587 - val_loss: 0.3574 - val_accuracy: 0.9521\n",
      "Epoch 48/150\n",
      "880/880 [==============================] - 0s 146us/step - loss: 0.3400 - accuracy: 0.9587 - val_loss: 0.3527 - val_accuracy: 0.9544\n",
      "Epoch 49/150\n",
      "880/880 [==============================] - 0s 347us/step - loss: 0.3319 - accuracy: 0.9578 - val_loss: 0.3607 - val_accuracy: 0.9523\n",
      "Epoch 50/150\n",
      "880/880 [==============================] - 0s 395us/step - loss: 0.3239 - accuracy: 0.9570 - val_loss: 0.3508 - val_accuracy: 0.9454\n",
      "Epoch 51/150\n",
      "880/880 [==============================] - 0s 290us/step - loss: 0.3195 - accuracy: 0.9619 - val_loss: 0.3640 - val_accuracy: 0.9521\n",
      "Epoch 52/150\n",
      "880/880 [==============================] - 0s 208us/step - loss: 0.3292 - accuracy: 0.9538 - val_loss: 0.3606 - val_accuracy: 0.9536\n",
      "Epoch 53/150\n"
     ]
    },
    {
     "name": "stdout",
     "output_type": "stream",
     "text": [
      "880/880 [==============================] - 0s 190us/step - loss: 0.3180 - accuracy: 0.9553 - val_loss: 0.3372 - val_accuracy: 0.9564\n",
      "Epoch 54/150\n",
      "880/880 [==============================] - 0s 176us/step - loss: 0.3137 - accuracy: 0.9563 - val_loss: 0.3346 - val_accuracy: 0.9560\n",
      "Epoch 55/150\n",
      "880/880 [==============================] - 0s 172us/step - loss: 0.3146 - accuracy: 0.9519 - val_loss: 0.3333 - val_accuracy: 0.9383\n",
      "Epoch 56/150\n",
      "880/880 [==============================] - 0s 141us/step - loss: 0.3274 - accuracy: 0.9388 - val_loss: 0.3597 - val_accuracy: 0.9176\n",
      "Epoch 57/150\n",
      "880/880 [==============================] - 0s 145us/step - loss: 0.3503 - accuracy: 0.9303 - val_loss: 0.3314 - val_accuracy: 0.9511\n",
      "Epoch 58/150\n",
      "880/880 [==============================] - 0s 151us/step - loss: 0.3196 - accuracy: 0.9441 - val_loss: 0.3217 - val_accuracy: 0.9499\n",
      "Epoch 59/150\n",
      "880/880 [==============================] - 0s 285us/step - loss: 0.3088 - accuracy: 0.9468 - val_loss: 0.3196 - val_accuracy: 0.9487\n",
      "Epoch 60/150\n",
      "880/880 [==============================] - 0s 406us/step - loss: 0.3081 - accuracy: 0.9462 - val_loss: 0.3385 - val_accuracy: 0.9446\n",
      "Epoch 61/150\n",
      "880/880 [==============================] - 0s 334us/step - loss: 0.3011 - accuracy: 0.9464 - val_loss: 0.3208 - val_accuracy: 0.9542\n",
      "Epoch 62/150\n",
      "880/880 [==============================] - 0s 262us/step - loss: 0.2929 - accuracy: 0.9504 - val_loss: 0.3000 - val_accuracy: 0.9552\n",
      "Epoch 63/150\n",
      "880/880 [==============================] - 0s 185us/step - loss: 0.2995 - accuracy: 0.9424 - val_loss: 0.3220 - val_accuracy: 0.9250\n",
      "Epoch 64/150\n",
      "880/880 [==============================] - 0s 235us/step - loss: 0.2964 - accuracy: 0.9466 - val_loss: 0.2967 - val_accuracy: 0.9552\n",
      "Epoch 65/150\n",
      "880/880 [==============================] - 0s 223us/step - loss: 0.2907 - accuracy: 0.9439 - val_loss: 0.3061 - val_accuracy: 0.9450\n",
      "Epoch 66/150\n",
      "880/880 [==============================] - 0s 221us/step - loss: 0.2870 - accuracy: 0.9453 - val_loss: 0.2926 - val_accuracy: 0.9517\n",
      "Epoch 67/150\n",
      "880/880 [==============================] - 0s 283us/step - loss: 0.2833 - accuracy: 0.9436 - val_loss: 0.2909 - val_accuracy: 0.9481\n",
      "Epoch 68/150\n",
      "880/880 [==============================] - 0s 225us/step - loss: 0.2988 - accuracy: 0.9339 - val_loss: 0.2861 - val_accuracy: 0.9592\n",
      "Epoch 69/150\n",
      "880/880 [==============================] - 0s 223us/step - loss: 0.2849 - accuracy: 0.9379 - val_loss: 0.2753 - val_accuracy: 0.9594\n",
      "Epoch 70/150\n",
      "880/880 [==============================] - 0s 207us/step - loss: 0.2747 - accuracy: 0.9455 - val_loss: 0.2749 - val_accuracy: 0.9572\n",
      "Epoch 71/150\n",
      "880/880 [==============================] - 0s 207us/step - loss: 0.2666 - accuracy: 0.9487 - val_loss: 0.2694 - val_accuracy: 0.9495\n",
      "Epoch 72/150\n",
      "880/880 [==============================] - 0s 186us/step - loss: 0.2605 - accuracy: 0.9525 - val_loss: 0.2747 - val_accuracy: 0.9535\n",
      "Epoch 73/150\n",
      "880/880 [==============================] - 0s 170us/step - loss: 0.2541 - accuracy: 0.9525 - val_loss: 0.2653 - val_accuracy: 0.9479\n",
      "Epoch 74/150\n",
      "880/880 [==============================] - 0s 151us/step - loss: 0.2588 - accuracy: 0.9487 - val_loss: 0.2693 - val_accuracy: 0.9452\n",
      "Epoch 75/150\n",
      "880/880 [==============================] - 0s 190us/step - loss: 0.2554 - accuracy: 0.9498 - val_loss: 0.2598 - val_accuracy: 0.9554\n",
      "Epoch 76/150\n",
      "880/880 [==============================] - 0s 164us/step - loss: 0.2501 - accuracy: 0.9455 - val_loss: 0.2666 - val_accuracy: 0.9428\n",
      "Epoch 77/150\n",
      "880/880 [==============================] - 0s 187us/step - loss: 0.2610 - accuracy: 0.9409 - val_loss: 0.2576 - val_accuracy: 0.9523\n",
      "Epoch 78/150\n",
      "880/880 [==============================] - 0s 159us/step - loss: 0.2492 - accuracy: 0.9472 - val_loss: 0.2528 - val_accuracy: 0.9546\n",
      "Epoch 79/150\n",
      "880/880 [==============================] - 0s 156us/step - loss: 0.2372 - accuracy: 0.9547 - val_loss: 0.2519 - val_accuracy: 0.9475\n",
      "Epoch 80/150\n",
      "880/880 [==============================] - 0s 180us/step - loss: 0.2405 - accuracy: 0.9468 - val_loss: 0.2551 - val_accuracy: 0.9460\n",
      "Epoch 81/150\n",
      "880/880 [==============================] - 0s 165us/step - loss: 0.2350 - accuracy: 0.9506 - val_loss: 0.2376 - val_accuracy: 0.9535\n",
      "Epoch 82/150\n",
      "880/880 [==============================] - 0s 148us/step - loss: 0.2285 - accuracy: 0.9538 - val_loss: 0.2424 - val_accuracy: 0.9515\n",
      "Epoch 83/150\n",
      "880/880 [==============================] - 0s 178us/step - loss: 0.2243 - accuracy: 0.9532 - val_loss: 0.2410 - val_accuracy: 0.9497\n",
      "Epoch 84/150\n",
      "880/880 [==============================] - 0s 201us/step - loss: 0.2221 - accuracy: 0.9528 - val_loss: 0.2413 - val_accuracy: 0.9475\n",
      "Epoch 85/150\n",
      "880/880 [==============================] - 0s 257us/step - loss: 0.2213 - accuracy: 0.9528 - val_loss: 0.2266 - val_accuracy: 0.9552\n",
      "Epoch 86/150\n",
      "880/880 [==============================] - 0s 211us/step - loss: 0.2193 - accuracy: 0.9532 - val_loss: 0.2292 - val_accuracy: 0.9562\n",
      "Epoch 87/150\n",
      "880/880 [==============================] - 0s 214us/step - loss: 0.2132 - accuracy: 0.9553 - val_loss: 0.2268 - val_accuracy: 0.9540\n",
      "Epoch 88/150\n",
      "880/880 [==============================] - 0s 203us/step - loss: 0.2076 - accuracy: 0.9553 - val_loss: 0.2233 - val_accuracy: 0.9548\n",
      "Epoch 89/150\n",
      "880/880 [==============================] - 0s 129us/step - loss: 0.1993 - accuracy: 0.9591 - val_loss: 0.2267 - val_accuracy: 0.9540\n",
      "Epoch 90/150\n",
      "880/880 [==============================] - 0s 158us/step - loss: 0.2055 - accuracy: 0.9532 - val_loss: 0.2286 - val_accuracy: 0.9475\n",
      "Epoch 91/150\n",
      "880/880 [==============================] - 0s 157us/step - loss: 0.2383 - accuracy: 0.9386 - val_loss: 0.2390 - val_accuracy: 0.9523\n",
      "Epoch 92/150\n",
      "880/880 [==============================] - 0s 141us/step - loss: 0.2065 - accuracy: 0.9523 - val_loss: 0.2167 - val_accuracy: 0.9554\n",
      "Epoch 93/150\n",
      "880/880 [==============================] - 0s 162us/step - loss: 0.2030 - accuracy: 0.9515 - val_loss: 0.2310 - val_accuracy: 0.9385\n",
      "Epoch 94/150\n",
      "880/880 [==============================] - 0s 145us/step - loss: 0.2046 - accuracy: 0.9517 - val_loss: 0.2318 - val_accuracy: 0.9430\n",
      "Epoch 95/150\n",
      "880/880 [==============================] - 0s 142us/step - loss: 0.2103 - accuracy: 0.9472 - val_loss: 0.2135 - val_accuracy: 0.9586\n",
      "Epoch 96/150\n",
      "880/880 [==============================] - 0s 149us/step - loss: 0.1971 - accuracy: 0.9527 - val_loss: 0.2150 - val_accuracy: 0.9576\n",
      "Epoch 97/150\n",
      "880/880 [==============================] - 0s 183us/step - loss: 0.1951 - accuracy: 0.9502 - val_loss: 0.2290 - val_accuracy: 0.9359\n",
      "Epoch 98/150\n",
      "880/880 [==============================] - 0s 160us/step - loss: 0.2020 - accuracy: 0.9509 - val_loss: 0.2413 - val_accuracy: 0.9402\n",
      "Epoch 99/150\n",
      "880/880 [==============================] - 0s 216us/step - loss: 0.1941 - accuracy: 0.9504 - val_loss: 0.2093 - val_accuracy: 0.9515\n",
      "Epoch 100/150\n",
      "880/880 [==============================] - 0s 200us/step - loss: 0.1896 - accuracy: 0.9547 - val_loss: 0.2233 - val_accuracy: 0.9349\n",
      "Epoch 101/150\n",
      "880/880 [==============================] - 0s 184us/step - loss: 0.1948 - accuracy: 0.9498 - val_loss: 0.2060 - val_accuracy: 0.9560\n",
      "Epoch 102/150\n",
      "880/880 [==============================] - 0s 159us/step - loss: 0.1892 - accuracy: 0.9509 - val_loss: 0.2092 - val_accuracy: 0.9536\n",
      "Epoch 103/150\n",
      "880/880 [==============================] - 0s 140us/step - loss: 0.1927 - accuracy: 0.9500 - val_loss: 0.2150 - val_accuracy: 0.9479\n",
      "Epoch 104/150\n",
      "880/880 [==============================] - 0s 179us/step - loss: 0.1971 - accuracy: 0.9439 - val_loss: 0.2088 - val_accuracy: 0.9464\n",
      "Epoch 105/150\n",
      "880/880 [==============================] - 0s 146us/step - loss: 0.1814 - accuracy: 0.9542 - val_loss: 0.2035 - val_accuracy: 0.9420\n",
      "Epoch 106/150\n",
      "880/880 [==============================] - 0s 167us/step - loss: 0.1820 - accuracy: 0.9545 - val_loss: 0.2073 - val_accuracy: 0.9489\n",
      "Epoch 107/150\n",
      "880/880 [==============================] - 0s 132us/step - loss: 0.1797 - accuracy: 0.9528 - val_loss: 0.1971 - val_accuracy: 0.9533\n",
      "Epoch 108/150\n",
      "880/880 [==============================] - 0s 129us/step - loss: 0.1769 - accuracy: 0.9568 - val_loss: 0.1965 - val_accuracy: 0.9473\n",
      "Epoch 109/150\n"
     ]
    },
    {
     "name": "stdout",
     "output_type": "stream",
     "text": [
      "880/880 [==============================] - 0s 127us/step - loss: 0.1789 - accuracy: 0.9540 - val_loss: 0.2281 - val_accuracy: 0.9339\n",
      "Epoch 110/150\n",
      "880/880 [==============================] - 0s 123us/step - loss: 0.1777 - accuracy: 0.9536 - val_loss: 0.1953 - val_accuracy: 0.9576\n",
      "Epoch 111/150\n",
      "880/880 [==============================] - 0s 144us/step - loss: 0.1702 - accuracy: 0.9555 - val_loss: 0.2142 - val_accuracy: 0.9432\n",
      "Epoch 112/150\n",
      "880/880 [==============================] - 0s 247us/step - loss: 0.1834 - accuracy: 0.9494 - val_loss: 0.2193 - val_accuracy: 0.9448\n",
      "Epoch 113/150\n",
      "880/880 [==============================] - 0s 187us/step - loss: 0.1893 - accuracy: 0.9481 - val_loss: 0.2204 - val_accuracy: 0.9314\n",
      "Epoch 114/150\n",
      "880/880 [==============================] - 0s 192us/step - loss: 0.1736 - accuracy: 0.9528 - val_loss: 0.1982 - val_accuracy: 0.9438\n",
      "Epoch 115/150\n",
      "880/880 [==============================] - 0s 146us/step - loss: 0.1679 - accuracy: 0.9576 - val_loss: 0.1847 - val_accuracy: 0.9566\n",
      "Epoch 116/150\n",
      "880/880 [==============================] - 0s 173us/step - loss: 0.1671 - accuracy: 0.9574 - val_loss: 0.2058 - val_accuracy: 0.9454\n",
      "Epoch 117/150\n",
      "880/880 [==============================] - 0s 187us/step - loss: 0.1659 - accuracy: 0.9566 - val_loss: 0.1895 - val_accuracy: 0.9489\n",
      "Epoch 118/150\n",
      "880/880 [==============================] - 0s 228us/step - loss: 0.1642 - accuracy: 0.9572 - val_loss: 0.1944 - val_accuracy: 0.9460\n",
      "Epoch 119/150\n",
      "880/880 [==============================] - 0s 225us/step - loss: 0.1637 - accuracy: 0.9576 - val_loss: 0.1959 - val_accuracy: 0.9465\n",
      "Epoch 120/150\n",
      "880/880 [==============================] - 0s 175us/step - loss: 0.1686 - accuracy: 0.9542 - val_loss: 0.2058 - val_accuracy: 0.9465\n",
      "Epoch 121/150\n",
      "880/880 [==============================] - 0s 149us/step - loss: 0.1716 - accuracy: 0.9515 - val_loss: 0.2084 - val_accuracy: 0.9398\n",
      "Epoch 122/150\n",
      "880/880 [==============================] - 0s 127us/step - loss: 0.1912 - accuracy: 0.9428 - val_loss: 0.1800 - val_accuracy: 0.9590\n",
      "Epoch 123/150\n",
      "880/880 [==============================] - 0s 133us/step - loss: 0.1824 - accuracy: 0.9426 - val_loss: 0.2029 - val_accuracy: 0.9373\n",
      "Epoch 124/150\n",
      "880/880 [==============================] - 0s 134us/step - loss: 0.1744 - accuracy: 0.9502 - val_loss: 0.2018 - val_accuracy: 0.9501\n",
      "Epoch 125/150\n",
      "880/880 [==============================] - 0s 146us/step - loss: 0.1715 - accuracy: 0.9532 - val_loss: 0.1800 - val_accuracy: 0.9606\n",
      "Epoch 126/150\n",
      "880/880 [==============================] - 0s 128us/step - loss: 0.1862 - accuracy: 0.9426 - val_loss: 0.1872 - val_accuracy: 0.9493\n",
      "Epoch 127/150\n",
      "880/880 [==============================] - 0s 145us/step - loss: 0.1820 - accuracy: 0.9434 - val_loss: 0.1773 - val_accuracy: 0.9527\n",
      "Epoch 128/150\n",
      "880/880 [==============================] - 0s 126us/step - loss: 0.1672 - accuracy: 0.9502 - val_loss: 0.1967 - val_accuracy: 0.9426\n",
      "Epoch 129/150\n",
      "880/880 [==============================] - 0s 124us/step - loss: 0.1665 - accuracy: 0.9542 - val_loss: 0.1826 - val_accuracy: 0.9465\n",
      "Epoch 130/150\n",
      "880/880 [==============================] - 0s 151us/step - loss: 0.1645 - accuracy: 0.9519 - val_loss: 0.1823 - val_accuracy: 0.9503\n",
      "Epoch 131/150\n",
      "880/880 [==============================] - 0s 126us/step - loss: 0.1752 - accuracy: 0.9527 - val_loss: 0.2028 - val_accuracy: 0.9452\n",
      "Epoch 132/150\n",
      "880/880 [==============================] - 0s 138us/step - loss: 0.1804 - accuracy: 0.9430 - val_loss: 0.1810 - val_accuracy: 0.9400\n",
      "Epoch 133/150\n",
      "880/880 [==============================] - 0s 142us/step - loss: 0.1843 - accuracy: 0.9388 - val_loss: 0.1845 - val_accuracy: 0.9529\n",
      "Epoch 134/150\n",
      "880/880 [==============================] - 0s 131us/step - loss: 0.1825 - accuracy: 0.9390 - val_loss: 0.1828 - val_accuracy: 0.9554\n",
      "Epoch 135/150\n",
      "880/880 [==============================] - 0s 193us/step - loss: 0.1702 - accuracy: 0.9506 - val_loss: 0.1906 - val_accuracy: 0.9418\n",
      "Epoch 136/150\n",
      "880/880 [==============================] - 0s 191us/step - loss: 0.1603 - accuracy: 0.9538 - val_loss: 0.1853 - val_accuracy: 0.9460\n",
      "Epoch 137/150\n",
      "880/880 [==============================] - 0s 196us/step - loss: 0.1640 - accuracy: 0.9519 - val_loss: 0.1800 - val_accuracy: 0.9450\n",
      "Epoch 138/150\n",
      "880/880 [==============================] - 0s 160us/step - loss: 0.1651 - accuracy: 0.9481 - val_loss: 0.1782 - val_accuracy: 0.9521\n",
      "Epoch 139/150\n",
      "880/880 [==============================] - 0s 186us/step - loss: 0.1602 - accuracy: 0.9534 - val_loss: 0.2486 - val_accuracy: 0.9243\n",
      "Epoch 140/150\n",
      "880/880 [==============================] - 0s 164us/step - loss: 0.1692 - accuracy: 0.9498 - val_loss: 0.1719 - val_accuracy: 0.9550\n",
      "Epoch 141/150\n",
      "880/880 [==============================] - 0s 187us/step - loss: 0.1575 - accuracy: 0.9547 - val_loss: 0.2127 - val_accuracy: 0.9375\n",
      "Epoch 142/150\n",
      "880/880 [==============================] - 0s 164us/step - loss: 0.1692 - accuracy: 0.9519 - val_loss: 0.1862 - val_accuracy: 0.9469\n",
      "Epoch 143/150\n",
      "880/880 [==============================] - 0s 151us/step - loss: 0.1636 - accuracy: 0.9498 - val_loss: 0.1851 - val_accuracy: 0.9469\n",
      "Epoch 144/150\n",
      "880/880 [==============================] - 0s 156us/step - loss: 0.1527 - accuracy: 0.9561 - val_loss: 0.1844 - val_accuracy: 0.9485\n",
      "Epoch 145/150\n",
      "880/880 [==============================] - 0s 158us/step - loss: 0.1600 - accuracy: 0.9508 - val_loss: 0.1681 - val_accuracy: 0.9578\n",
      "Epoch 146/150\n",
      "880/880 [==============================] - 0s 144us/step - loss: 0.1663 - accuracy: 0.9462 - val_loss: 0.1751 - val_accuracy: 0.9527\n",
      "Epoch 147/150\n",
      "880/880 [==============================] - 0s 181us/step - loss: 0.1607 - accuracy: 0.9511 - val_loss: 0.1739 - val_accuracy: 0.9479\n",
      "Epoch 148/150\n",
      "880/880 [==============================] - 0s 160us/step - loss: 0.1682 - accuracy: 0.9462 - val_loss: 0.1820 - val_accuracy: 0.9422\n",
      "Epoch 149/150\n",
      "880/880 [==============================] - 0s 166us/step - loss: 0.1830 - accuracy: 0.9420 - val_loss: 0.1817 - val_accuracy: 0.9548\n",
      "Epoch 150/150\n",
      "880/880 [==============================] - 0s 174us/step - loss: 0.1587 - accuracy: 0.9542 - val_loss: 0.1696 - val_accuracy: 0.9562\n"
     ]
    }
   ],
   "source": [
    "#defifne a sequentail Model\n",
    "model = Sequential()\n",
    "#Hidden Layer-1\n",
    "model.add(Dense(100,activation='relu',input_dim=5,kernel_regularizer=l2(0.01)))\n",
    "model.add(Dropout(0.3, noise_shape=None, seed=None))\n",
    "\n",
    "#Hidden Layer-2\n",
    "model.add(Dense(100,activation = 'relu',kernel_regularizer=l2(0.01)))\n",
    "model.add(Dropout(0.3, noise_shape=None, seed=None))\n",
    "\n",
    "#Output layer\n",
    "model.add(Dense(6,activation='sigmoid'))\n",
    "model.compile(loss='binary_crossentropy',optimizer='adam',metrics=['accuracy'])\n",
    "model_output = model.fit(x_train,y_train,epochs=150,batch_size=20,verbose=1,validation_data=(x_test,y_test),)"
   ]
  },
  {
   "cell_type": "code",
   "execution_count": 4,
   "metadata": {
    "colab": {
     "base_uri": "https://localhost:8080/",
     "height": 329
    },
    "colab_type": "code",
    "executionInfo": {
     "elapsed": 288,
     "status": "ok",
     "timestamp": 1582605199619,
     "user": {
      "displayName": "Srinivasan Seshan",
      "photoUrl": "",
      "userId": "06632033567786526417"
     },
     "user_tz": 300
    },
    "id": "TkbYdVzzClzz",
    "outputId": "f93d86c4-348b-45e4-e356-982599e76a31"
   },
   "outputs": [
    {
     "name": "stdout",
     "output_type": "stream",
     "text": [
      "Model: \"sequential_1\"\n",
      "_________________________________________________________________\n",
      "Layer (type)                 Output Shape              Param #   \n",
      "=================================================================\n",
      "dense_1 (Dense)              (None, 100)               600       \n",
      "_________________________________________________________________\n",
      "dropout_1 (Dropout)          (None, 100)               0         \n",
      "_________________________________________________________________\n",
      "dense_2 (Dense)              (None, 100)               10100     \n",
      "_________________________________________________________________\n",
      "dropout_2 (Dropout)          (None, 100)               0         \n",
      "_________________________________________________________________\n",
      "dense_3 (Dense)              (None, 6)                 606       \n",
      "=================================================================\n",
      "Total params: 11,306\n",
      "Trainable params: 11,306\n",
      "Non-trainable params: 0\n",
      "_________________________________________________________________\n"
     ]
    }
   ],
   "source": [
    "model.summary()\n"
   ]
  },
  {
   "cell_type": "code",
   "execution_count": 9,
   "metadata": {
    "colab": {
     "base_uri": "https://localhost:8080/",
     "height": 139
    },
    "colab_type": "code",
    "executionInfo": {
     "elapsed": 480,
     "status": "ok",
     "timestamp": 1582609102373,
     "user": {
      "displayName": "Srinivasan Seshan",
      "photoUrl": "",
      "userId": "06632033567786526417"
     },
     "user_tz": 300
    },
    "id": "c3yjoJHWnDmN",
    "outputId": "86c43d5a-8bf1-489e-9649-b57c0eb1fae6"
   },
   "outputs": [
    {
     "name": "stdout",
     "output_type": "stream",
     "text": [
      "Training Accuracy :  0.93329924\n",
      "Validation Accuracy :  0.9365417762597402\n"
     ]
    },
    {
     "data": {
      "text/plain": [
       "array([[256,   0,   0,   8,   0],\n",
       "       [  0, 122,   0,   0,   0],\n",
       "       [  0,   0, 183,   0,   2],\n",
       "       [  0,   0,   0, 163,   1],\n",
       "       [ 39,  16,   8,  35,  12]])"
      ]
     },
     "execution_count": 9,
     "metadata": {},
     "output_type": "execute_result"
    }
   ],
   "source": [
    "print('Training Accuracy : ' , np.mean(model_output.history[\"accuracy\"]))\n",
    "print('Validation Accuracy : ' , np.mean(model_output.history[\"val_accuracy\"]))\n",
    "y_pred = model.predict(x_test)\n",
    "rounded = [np.argmax(x) for x in y_pred]\n",
    "y_testComp = [np.argmax(x) for x in y_test]\n",
    "confusion_matrix(y_testComp,rounded)"
   ]
  },
  {
   "cell_type": "code",
   "execution_count": 10,
   "metadata": {
    "colab": {
     "base_uri": "https://localhost:8080/",
     "height": 573
    },
    "colab_type": "code",
    "executionInfo": {
     "elapsed": 661,
     "status": "ok",
     "timestamp": 1582611027779,
     "user": {
      "displayName": "Srinivasan Seshan",
      "photoUrl": "",
      "userId": "06632033567786526417"
     },
     "user_tz": 300
    },
    "id": "tmU9xIVEnHPq",
    "outputId": "f0f908fb-a98b-4d2d-902d-da480677aa6c"
   },
   "outputs": [
    {
     "data": {
      "image/png": "[encoded data removed]",
      "text/plain": [
       "<Figure size 432x288 with 1 Axes>"
      ]
     },
     "metadata": {
      "needs_background": "light"
     },
     "output_type": "display_data"
    },
    {
     "data": {
      "image/png": "[encoded data removed]",
      "text/plain": [
       "<Figure size 432x288 with 1 Axes>"
      ]
     },
     "metadata": {
      "needs_background": "light"
     },
     "output_type": "display_data"
    }
   ],
   "source": [
    "# Plot training & validation accuracy values\n",
    "plt.plot(model_output.history['accuracy'])\n",
    "plt.plot(model_output.history['val_accuracy'])\n",
    "plt.title('Model Accuracy')\n",
    "plt.ylabel('Accuracy')\n",
    "plt.xlabel('Epoch')\n",
    "plt.legend(['Train', 'Test'], loc='upper left')\n",
    "plt.show()\n",
    "\n",
    "# Plot training & validation loss values\n",
    "plt.plot(model_output.history['loss'])\n",
    "plt.plot(model_output.history['val_loss'])\n",
    "plt.title('Model Loss')\n",
    "plt.ylabel('Loss')\n",
    "plt.xlabel('Epoch')\n",
    "plt.legend(['Train', 'Test'], loc='upper left')\n",
    "plt.show()"
   ]
  },
  {
   "cell_type": "code",
   "execution_count": 11,
   "metadata": {
    "colab": {
     "base_uri": "https://localhost:8080/",
     "height": 89
    },
    "colab_type": "code",
    "executionInfo": {
     "elapsed": 347,
     "status": "ok",
     "timestamp": 1582511495326,
     "user": {
      "displayName": "Srinivasan Seshan",
      "photoUrl": "",
      "userId": "06632033567786526417"
     },
     "user_tz": 300
    },
    "id": "Ndrk72zLnQnH",
    "outputId": "fe874f09-50ab-4d21-df66-c19a76a11cce"
   },
   "outputs": [
    {
     "data": {
      "text/plain": [
       "array([0.86779661, 0.88405797, 0.95811518, 0.79126214, 0.8       ])"
      ]
     },
     "execution_count": 11,
     "metadata": {},
     "output_type": "execute_result"
    }
   ],
   "source": [
    "precision_score(y_testComp,rounded,average=None)"
   ]
  },
  {
   "cell_type": "code",
   "execution_count": 13,
   "metadata": {
    "colab": {
     "base_uri": "https://localhost:8080/",
     "height": 104
    },
    "colab_type": "code",
    "executionInfo": {
     "elapsed": 382,
     "status": "ok",
     "timestamp": 1582612311267,
     "user": {
      "displayName": "Srinivasan Seshan",
      "photoUrl": "",
      "userId": "06632033567786526417"
     },
     "user_tz": 300
    },
    "id": "WuEZmqdhoIUd",
    "outputId": "c18986b1-a020-4576-e364-ff18504ed115"
   },
   "outputs": [
    {
     "data": {
      "text/plain": [
       "array([[648,   0,   0,   9,   0],\n",
       "       [  0, 214,   0,   0,   0],\n",
       "       [  0,   0, 347,   0,   2],\n",
       "       [  0,   0,   0, 307,   1],\n",
       "       [ 56,  24,  26,  66,  25]])"
      ]
     },
     "execution_count": 13,
     "metadata": {},
     "output_type": "execute_result"
    }
   ],
   "source": [
    "testfile = \"mix6ml\"\n",
    "new_dataX = pd.read_csv(testfile+\"X.csv\",names=['s1','s2','s3','s4','s5'])\n",
    "new_dataYR = np.genfromtxt(testfile+\"Y.csv\",delimiter=',',dtype=int)\n",
    "new_dataY = keras.utils.to_categorical(new_dataYR, num_classes)\n",
    "new_dataX.shape,new_dataY.shape\n",
    "new_predYT = model.predict(new_dataX)\n",
    "new_predY = [np.argmax(x) for x in new_predYT]\n",
    "new_predYComp = [np.argmax(x) for x in new_dataY]\n",
    "confusion_matrix(new_predYComp,new_predY)"
   ]
  },
  {
   "cell_type": "code",
   "execution_count": 14,
   "metadata": {
    "colab": {
     "base_uri": "https://localhost:8080/",
     "height": 35
    },
    "colab_type": "code",
    "executionInfo": {
     "elapsed": 367,
     "status": "ok",
     "timestamp": 1582519272293,
     "user": {
      "displayName": "Srinivasan Seshan",
      "photoUrl": "",
      "userId": "06632033567786526417"
     },
     "user_tz": 300
    },
    "id": "aZxPQnds0FSL",
    "outputId": "9bd60e32-3c10-4a86-dff0-44f98ecd6511"
   },
   "outputs": [
    {
     "data": {
      "text/plain": [
       "((1000, 5), (1000, 6), (725, 5), (725, 6), (1725, 5), (1725, 6))"
      ]
     },
     "execution_count": 14,
     "metadata": {},
     "output_type": "execute_result"
    }
   ],
   "source": [
    "datafile = \"mix6ml\"\n",
    "\n",
    "test = np.genfromtxt(datafile+\"X.csv\",delimiter=',')\n",
    "y_dataR = np.genfromtxt(datafile+\"Y.csv\",delimiter=',',dtype=int)\n",
    "num_classes = np.max(y_dataR) + 1\n",
    "y_data = keras.utils.to_categorical(y_dataR, num_classes)\n",
    "x_trainT = test[:1000]\n",
    "x_testT = test[1000:]\n",
    "y_trainT = y_data[:1000]\n",
    "y_testT = y_data[1000:]\n",
    "x_trainT.shape,y_trainT.shape,x_testT.shape,y_testT.shape, test.shape, y_data.shape\n",
    "\n"
   ]
  },
  {
   "cell_type": "code",
   "execution_count": 15,
   "metadata": {
    "colab": {
     "base_uri": "https://localhost:8080/",
     "height": 35
    },
    "colab_type": "code",
    "executionInfo": {
     "elapsed": 362,
     "status": "ok",
     "timestamp": 1582519012191,
     "user": {
      "displayName": "Srinivasan Seshan",
      "photoUrl": "",
      "userId": "06632033567786526417"
     },
     "user_tz": 300
    },
    "id": "yW9dj2wbXw1W",
    "outputId": "bb1625e9-2ec3-400a-991c-131e4336b63a"
   },
   "outputs": [
    {
     "data": {
      "text/plain": [
       "(1725, 5)"
      ]
     },
     "execution_count": 15,
     "metadata": {},
     "output_type": "execute_result"
    }
   ],
   "source": [
    "x_data.shape"
   ]
  },
  {
   "cell_type": "code",
   "execution_count": 16,
   "metadata": {
    "colab": {
     "base_uri": "https://localhost:8080/",
     "height": 35
    },
    "colab_type": "code",
    "executionInfo": {
     "elapsed": 330,
     "status": "ok",
     "timestamp": 1582519294514,
     "user": {
      "displayName": "Srinivasan Seshan",
      "photoUrl": "",
      "userId": "06632033567786526417"
     },
     "user_tz": 300
    },
    "id": "Ao3NANmYV116",
    "outputId": "eb62765f-0296-423a-d73e-ff4a7e90688c"
   },
   "outputs": [
    {
     "data": {
      "text/plain": [
       "((1000, 1, 5), (1000, 1, 6), (725, 1, 5), (725, 1, 6), (1725, 5), (1725, 6))"
      ]
     },
     "execution_count": 16,
     "metadata": {},
     "output_type": "execute_result"
    }
   ],
   "source": [
    "x_data = test.reshape(test.shape[0],1,5)\n",
    "x_train = x_trainT.reshape(x_trainT.shape[0],1,5)\n",
    "x_test = x_testT.reshape(x_testT.shape[0],1,5)\n",
    "y_train = y_trainT.reshape(y_trainT.shape[0],1,6)\n",
    "y_test = y_testT.reshape(y_testT.shape[0],1,6)\n",
    "x_train.shape,y_train.shape,x_test.shape,y_test.shape, test.shape, y_data.shape\n"
   ]
  },
  {
   "cell_type": "code",
   "execution_count": 17,
   "metadata": {
    "colab": {
     "base_uri": "https://localhost:8080/",
     "height": 35
    },
    "colab_type": "code",
    "executionInfo": {
     "elapsed": 354,
     "status": "ok",
     "timestamp": 1582518945726,
     "user": {
      "displayName": "Srinivasan Seshan",
      "photoUrl": "",
      "userId": "06632033567786526417"
     },
     "user_tz": 300
    },
    "id": "uAXxVZNiXFzN",
    "outputId": "93fe49ab-279c-40ac-9f18-30e07e70bcfa"
   },
   "outputs": [
    {
     "data": {
      "text/plain": [
       "(1725, 1, 5)"
      ]
     },
     "execution_count": 17,
     "metadata": {},
     "output_type": "execute_result"
    }
   ],
   "source": [
    "x_data.shape"
   ]
  },
  {
   "cell_type": "code",
   "execution_count": 18,
   "metadata": {
    "colab": {
     "base_uri": "https://localhost:8080/",
     "height": 35
    },
    "colab_type": "code",
    "executionInfo": {
     "elapsed": 360,
     "status": "ok",
     "timestamp": 1582517538337,
     "user": {
      "displayName": "Srinivasan Seshan",
      "photoUrl": "",
      "userId": "06632033567786526417"
     },
     "user_tz": 300
    },
    "id": "trVHvxr4YNK4",
    "outputId": "3f461ebf-a805-41de-d5a2-b500df6fbd63"
   },
   "outputs": [
    {
     "name": "stdout",
     "output_type": "stream",
     "text": [
      "15\n"
     ]
    }
   ],
   "source": [
    "samples = list()\n",
    "length = 115\n",
    "for i in range(0,x_data.shape[0],length):\n",
    "\t# grab from i to i + 200\n",
    "\tsample = x_data[i:i+length]\n",
    "\tsamples.append(sample)\n",
    "print(len(samples))"
   ]
  },
  {
   "cell_type": "code",
   "execution_count": 19,
   "metadata": {
    "colab": {
     "base_uri": "https://localhost:8080/",
     "height": 1000
    },
    "colab_type": "code",
    "executionInfo": {
     "elapsed": 8845,
     "status": "ok",
     "timestamp": 1582519336534,
     "user": {
      "displayName": "Srinivasan Seshan",
      "photoUrl": "",
      "userId": "06632033567786526417"
     },
     "user_tz": 300
    },
    "id": "czYaTT7WVeSF",
    "outputId": "c181643e-188b-493f-b803-87f8c9c91aa2"
   },
   "outputs": [
    {
     "name": "stdout",
     "output_type": "stream",
     "text": [
      "Train on 1000 samples, validate on 725 samples\n",
      "Epoch 1/50\n",
      " - 0s - loss: 0.6832 - accuracy: 0.5817 - val_loss: 0.6069 - val_accuracy: 0.6179\n",
      "Epoch 2/50\n",
      " - 0s - loss: 0.5796 - accuracy: 0.6988 - val_loss: 0.5483 - val_accuracy: 0.7880\n",
      "Epoch 3/50\n",
      " - 0s - loss: 0.5181 - accuracy: 0.7943 - val_loss: 0.4952 - val_accuracy: 0.7880\n",
      "Epoch 4/50\n",
      " - 0s - loss: 0.4761 - accuracy: 0.8172 - val_loss: 0.4670 - val_accuracy: 0.7936\n",
      "Epoch 5/50\n",
      " - 0s - loss: 0.4461 - accuracy: 0.8330 - val_loss: 0.4384 - val_accuracy: 0.8333\n",
      "Epoch 6/50\n",
      " - 0s - loss: 0.4215 - accuracy: 0.8333 - val_loss: 0.4286 - val_accuracy: 0.8333\n",
      "Epoch 7/50\n",
      " - 0s - loss: 0.4108 - accuracy: 0.8333 - val_loss: 0.4223 - val_accuracy: 0.8333\n",
      "Epoch 8/50\n",
      " - 0s - loss: 0.4033 - accuracy: 0.8333 - val_loss: 0.4182 - val_accuracy: 0.8333\n",
      "Epoch 9/50\n",
      " - 0s - loss: 0.3979 - accuracy: 0.8333 - val_loss: 0.4155 - val_accuracy: 0.8333\n",
      "Epoch 10/50\n",
      " - 0s - loss: 0.3938 - accuracy: 0.8333 - val_loss: 0.4135 - val_accuracy: 0.8333\n",
      "Epoch 11/50\n",
      " - 0s - loss: 0.3906 - accuracy: 0.8333 - val_loss: 0.4120 - val_accuracy: 0.8333\n",
      "Epoch 12/50\n",
      " - 0s - loss: 0.3880 - accuracy: 0.8333 - val_loss: 0.4110 - val_accuracy: 0.8333\n",
      "Epoch 13/50\n",
      " - 0s - loss: 0.3858 - accuracy: 0.8333 - val_loss: 0.4101 - val_accuracy: 0.8333\n",
      "Epoch 14/50\n",
      " - 0s - loss: 0.3839 - accuracy: 0.8333 - val_loss: 0.4095 - val_accuracy: 0.8333\n",
      "Epoch 15/50\n",
      " - 0s - loss: 0.3823 - accuracy: 0.8333 - val_loss: 0.4089 - val_accuracy: 0.8333\n",
      "Epoch 16/50\n",
      " - 0s - loss: 0.3809 - accuracy: 0.8333 - val_loss: 0.4085 - val_accuracy: 0.8333\n",
      "Epoch 17/50\n",
      " - 0s - loss: 0.3796 - accuracy: 0.8333 - val_loss: 0.4080 - val_accuracy: 0.8333\n",
      "Epoch 18/50\n",
      " - 0s - loss: 0.3785 - accuracy: 0.8333 - val_loss: 0.4077 - val_accuracy: 0.8333\n",
      "Epoch 19/50\n",
      " - 0s - loss: 0.3774 - accuracy: 0.8333 - val_loss: 0.4073 - val_accuracy: 0.8333\n",
      "Epoch 20/50\n",
      " - 0s - loss: 0.3764 - accuracy: 0.8333 - val_loss: 0.4070 - val_accuracy: 0.8333\n",
      "Epoch 21/50\n",
      " - 0s - loss: 0.3754 - accuracy: 0.8333 - val_loss: 0.4067 - val_accuracy: 0.8333\n",
      "Epoch 22/50\n",
      " - 0s - loss: 0.3745 - accuracy: 0.8333 - val_loss: 0.4064 - val_accuracy: 0.8333\n",
      "Epoch 23/50\n",
      " - 0s - loss: 0.3736 - accuracy: 0.8333 - val_loss: 0.4061 - val_accuracy: 0.8333\n",
      "Epoch 24/50\n",
      " - 0s - loss: 0.3728 - accuracy: 0.8333 - val_loss: 0.4058 - val_accuracy: 0.8333\n",
      "Epoch 25/50\n",
      " - 0s - loss: 0.3719 - accuracy: 0.8333 - val_loss: 0.4055 - val_accuracy: 0.8333\n",
      "Epoch 26/50\n",
      " - 0s - loss: 0.3711 - accuracy: 0.8333 - val_loss: 0.4052 - val_accuracy: 0.8333\n",
      "Epoch 27/50\n",
      " - 0s - loss: 0.3704 - accuracy: 0.8333 - val_loss: 0.4050 - val_accuracy: 0.8333\n",
      "Epoch 28/50\n",
      " - 0s - loss: 0.3696 - accuracy: 0.8333 - val_loss: 0.4047 - val_accuracy: 0.8333\n",
      "Epoch 29/50\n",
      " - 0s - loss: 0.3688 - accuracy: 0.8333 - val_loss: 0.4044 - val_accuracy: 0.8333\n",
      "Epoch 30/50\n",
      " - 0s - loss: 0.3681 - accuracy: 0.8333 - val_loss: 0.4041 - val_accuracy: 0.8333\n",
      "Epoch 31/50\n",
      " - 0s - loss: 0.3674 - accuracy: 0.8333 - val_loss: 0.4039 - val_accuracy: 0.8333\n",
      "Epoch 32/50\n",
      " - 0s - loss: 0.3667 - accuracy: 0.8333 - val_loss: 0.4036 - val_accuracy: 0.8333\n",
      "Epoch 33/50\n",
      " - 0s - loss: 0.3660 - accuracy: 0.8333 - val_loss: 0.4033 - val_accuracy: 0.8333\n",
      "Epoch 34/50\n",
      " - 0s - loss: 0.3653 - accuracy: 0.8333 - val_loss: 0.4031 - val_accuracy: 0.8333\n",
      "Epoch 35/50\n",
      " - 0s - loss: 0.3646 - accuracy: 0.8333 - val_loss: 0.4028 - val_accuracy: 0.8333\n",
      "Epoch 36/50\n",
      " - 0s - loss: 0.3639 - accuracy: 0.8333 - val_loss: 0.4025 - val_accuracy: 0.8333\n",
      "Epoch 37/50\n",
      " - 0s - loss: 0.3633 - accuracy: 0.8333 - val_loss: 0.4023 - val_accuracy: 0.8333\n",
      "Epoch 38/50\n",
      " - 0s - loss: 0.3626 - accuracy: 0.8333 - val_loss: 0.4020 - val_accuracy: 0.8333\n",
      "Epoch 39/50\n",
      " - 0s - loss: 0.3620 - accuracy: 0.8333 - val_loss: 0.4018 - val_accuracy: 0.8333\n",
      "Epoch 40/50\n",
      " - 0s - loss: 0.3613 - accuracy: 0.8333 - val_loss: 0.4016 - val_accuracy: 0.8333\n",
      "Epoch 41/50\n",
      " - 0s - loss: 0.3608 - accuracy: 0.8333 - val_loss: 0.4013 - val_accuracy: 0.8333\n",
      "Epoch 42/50\n",
      " - 0s - loss: 0.3601 - accuracy: 0.8333 - val_loss: 0.4011 - val_accuracy: 0.8333\n",
      "Epoch 43/50\n",
      " - 0s - loss: 0.3596 - accuracy: 0.8333 - val_loss: 0.4008 - val_accuracy: 0.8333\n",
      "Epoch 44/50\n",
      " - 0s - loss: 0.3590 - accuracy: 0.8333 - val_loss: 0.4005 - val_accuracy: 0.8333\n",
      "Epoch 45/50\n",
      " - 0s - loss: 0.3582 - accuracy: 0.8333 - val_loss: 0.4003 - val_accuracy: 0.8333\n",
      "Epoch 46/50\n",
      " - 0s - loss: 0.3576 - accuracy: 0.8333 - val_loss: 0.4000 - val_accuracy: 0.8333\n",
      "Epoch 47/50\n",
      " - 0s - loss: 0.3570 - accuracy: 0.8333 - val_loss: 0.3998 - val_accuracy: 0.8333\n",
      "Epoch 48/50\n",
      " - 0s - loss: 0.3565 - accuracy: 0.8333 - val_loss: 0.3996 - val_accuracy: 0.8333\n",
      "Epoch 49/50\n",
      " - 0s - loss: 0.3559 - accuracy: 0.8333 - val_loss: 0.3995 - val_accuracy: 0.8333\n",
      "Epoch 50/50\n",
      " - 0s - loss: 0.3554 - accuracy: 0.8333 - val_loss: 0.3991 - val_accuracy: 0.8333\n"
     ]
    }
   ],
   "source": [
    "#Hidden Layer-1\n",
    "model = Sequential()\n",
    "model.add(LSTM(128, input_shape=(x_train.shape[1], x_train.shape[2])))\n",
    "model.add(Dense(6, activation='sigmoid'))\n",
    "model.compile(loss='binary_crossentropy',optimizer='adam',metrics=['accuracy'])\n",
    "model_output = model.fit(x_train, y_trainT, epochs=50, batch_size=72, validation_data=(x_test, y_testT), verbose=2, shuffle=False)"
   ]
  },
  {
   "cell_type": "code",
   "execution_count": 20,
   "metadata": {
    "colab": {},
    "colab_type": "code",
    "id": "9uagCKKrbdJ9"
   },
   "outputs": [
    {
     "ename": "ValueError",
     "evalue": "Input 0 is incompatible with layer lstm_2: expected ndim=3, found ndim=2",
     "output_type": "error",
     "traceback": [
      "\u001b[0;31m---------------------------------------------------------------------------\u001b[0m",
      "\u001b[0;31mValueError\u001b[0m                                Traceback (most recent call last)",
      "\u001b[0;32m<ipython-input-20-0daa300e1909>\u001b[0m in \u001b[0;36m<module>\u001b[0;34m\u001b[0m\n\u001b[0;32m----> 1\u001b[0;31m \u001b[0mmodel\u001b[0m\u001b[0;34m.\u001b[0m\u001b[0madd\u001b[0m\u001b[0;34m(\u001b[0m\u001b[0mLSTM\u001b[0m\u001b[0;34m(\u001b[0m\u001b[0;36m32\u001b[0m\u001b[0;34m,\u001b[0m \u001b[0minput_shape\u001b[0m\u001b[0;34m=\u001b[0m\u001b[0;34m(\u001b[0m\u001b[0mx_data\u001b[0m\u001b[0;34m.\u001b[0m\u001b[0mshape\u001b[0m\u001b[0;34m[\u001b[0m\u001b[0;36m1\u001b[0m\u001b[0;34m]\u001b[0m\u001b[0;34m,\u001b[0m \u001b[0mx_data\u001b[0m\u001b[0;34m.\u001b[0m\u001b[0mshape\u001b[0m\u001b[0;34m[\u001b[0m\u001b[0;36m2\u001b[0m\u001b[0;34m]\u001b[0m\u001b[0;34m)\u001b[0m\u001b[0;34m)\u001b[0m\u001b[0;34m)\u001b[0m\u001b[0;34m\u001b[0m\u001b[0;34m\u001b[0m\u001b[0m\n\u001b[0m\u001b[1;32m      2\u001b[0m \u001b[0mmodel\u001b[0m\u001b[0;34m.\u001b[0m\u001b[0madd\u001b[0m\u001b[0;34m(\u001b[0m\u001b[0mDense\u001b[0m\u001b[0;34m(\u001b[0m\u001b[0;36m6\u001b[0m\u001b[0;34m,\u001b[0m \u001b[0mactivation\u001b[0m\u001b[0;34m=\u001b[0m\u001b[0;34m'sigmoid'\u001b[0m\u001b[0;34m)\u001b[0m\u001b[0;34m)\u001b[0m\u001b[0;34m\u001b[0m\u001b[0;34m\u001b[0m\u001b[0m\n\u001b[1;32m      3\u001b[0m \u001b[0mmodel\u001b[0m\u001b[0;34m.\u001b[0m\u001b[0mcompile\u001b[0m\u001b[0;34m(\u001b[0m\u001b[0mloss\u001b[0m\u001b[0;34m=\u001b[0m\u001b[0;34m'binary_crossentropy'\u001b[0m\u001b[0;34m,\u001b[0m\u001b[0moptimizer\u001b[0m\u001b[0;34m=\u001b[0m\u001b[0;34m'adam'\u001b[0m\u001b[0;34m,\u001b[0m\u001b[0mmetrics\u001b[0m\u001b[0;34m=\u001b[0m\u001b[0;34m[\u001b[0m\u001b[0;34m'accuracy'\u001b[0m\u001b[0;34m]\u001b[0m\u001b[0;34m)\u001b[0m\u001b[0;34m\u001b[0m\u001b[0;34m\u001b[0m\u001b[0m\n\u001b[1;32m      4\u001b[0m \u001b[0mmodel_output\u001b[0m \u001b[0;34m=\u001b[0m \u001b[0mmodel\u001b[0m\u001b[0;34m.\u001b[0m\u001b[0mfit\u001b[0m\u001b[0;34m(\u001b[0m\u001b[0mx_data\u001b[0m\u001b[0;34m,\u001b[0m \u001b[0my_data\u001b[0m\u001b[0;34m,\u001b[0m \u001b[0mepochs\u001b[0m\u001b[0;34m=\u001b[0m\u001b[0;36m50\u001b[0m\u001b[0;34m,\u001b[0m \u001b[0mbatch_size\u001b[0m\u001b[0;34m=\u001b[0m\u001b[0;36m72\u001b[0m\u001b[0;34m,\u001b[0m \u001b[0mverbose\u001b[0m\u001b[0;34m=\u001b[0m\u001b[0;36m2\u001b[0m\u001b[0;34m,\u001b[0m \u001b[0mshuffle\u001b[0m\u001b[0;34m=\u001b[0m\u001b[0;32mFalse\u001b[0m\u001b[0;34m)\u001b[0m\u001b[0;34m\u001b[0m\u001b[0;34m\u001b[0m\u001b[0m\n",
      "\u001b[0;32m/usr/local/lib/python3.7/dist-packages/keras/engine/sequential.py\u001b[0m in \u001b[0;36madd\u001b[0;34m(self, layer)\u001b[0m\n\u001b[1;32m    180\u001b[0m                 \u001b[0mself\u001b[0m\u001b[0;34m.\u001b[0m\u001b[0minputs\u001b[0m \u001b[0;34m=\u001b[0m \u001b[0mnetwork\u001b[0m\u001b[0;34m.\u001b[0m\u001b[0mget_source_inputs\u001b[0m\u001b[0;34m(\u001b[0m\u001b[0mself\u001b[0m\u001b[0;34m.\u001b[0m\u001b[0moutputs\u001b[0m\u001b[0;34m[\u001b[0m\u001b[0;36m0\u001b[0m\u001b[0;34m]\u001b[0m\u001b[0;34m)\u001b[0m\u001b[0;34m\u001b[0m\u001b[0;34m\u001b[0m\u001b[0m\n\u001b[1;32m    181\u001b[0m         \u001b[0;32melif\u001b[0m \u001b[0mself\u001b[0m\u001b[0;34m.\u001b[0m\u001b[0moutputs\u001b[0m\u001b[0;34m:\u001b[0m\u001b[0;34m\u001b[0m\u001b[0;34m\u001b[0m\u001b[0m\n\u001b[0;32m--> 182\u001b[0;31m             \u001b[0moutput_tensor\u001b[0m \u001b[0;34m=\u001b[0m \u001b[0mlayer\u001b[0m\u001b[0;34m(\u001b[0m\u001b[0mself\u001b[0m\u001b[0;34m.\u001b[0m\u001b[0moutputs\u001b[0m\u001b[0;34m[\u001b[0m\u001b[0;36m0\u001b[0m\u001b[0;34m]\u001b[0m\u001b[0;34m)\u001b[0m\u001b[0;34m\u001b[0m\u001b[0;34m\u001b[0m\u001b[0m\n\u001b[0m\u001b[1;32m    183\u001b[0m             \u001b[0;32mif\u001b[0m \u001b[0misinstance\u001b[0m\u001b[0;34m(\u001b[0m\u001b[0moutput_tensor\u001b[0m\u001b[0;34m,\u001b[0m \u001b[0mlist\u001b[0m\u001b[0;34m)\u001b[0m\u001b[0;34m:\u001b[0m\u001b[0;34m\u001b[0m\u001b[0;34m\u001b[0m\u001b[0m\n\u001b[1;32m    184\u001b[0m                 raise TypeError('All layers in a Sequential model '\n",
      "\u001b[0;32m/usr/local/lib/python3.7/dist-packages/keras/layers/recurrent.py\u001b[0m in \u001b[0;36m__call__\u001b[0;34m(self, inputs, initial_state, constants, **kwargs)\u001b[0m\n\u001b[1;32m    539\u001b[0m \u001b[0;34m\u001b[0m\u001b[0m\n\u001b[1;32m    540\u001b[0m         \u001b[0;32mif\u001b[0m \u001b[0minitial_state\u001b[0m \u001b[0;32mis\u001b[0m \u001b[0;32mNone\u001b[0m \u001b[0;32mand\u001b[0m \u001b[0mconstants\u001b[0m \u001b[0;32mis\u001b[0m \u001b[0;32mNone\u001b[0m\u001b[0;34m:\u001b[0m\u001b[0;34m\u001b[0m\u001b[0;34m\u001b[0m\u001b[0m\n\u001b[0;32m--> 541\u001b[0;31m             \u001b[0;32mreturn\u001b[0m \u001b[0msuper\u001b[0m\u001b[0;34m(\u001b[0m\u001b[0mRNN\u001b[0m\u001b[0;34m,\u001b[0m \u001b[0mself\u001b[0m\u001b[0;34m)\u001b[0m\u001b[0;34m.\u001b[0m\u001b[0m__call__\u001b[0m\u001b[0;34m(\u001b[0m\u001b[0minputs\u001b[0m\u001b[0;34m,\u001b[0m \u001b[0;34m**\u001b[0m\u001b[0mkwargs\u001b[0m\u001b[0;34m)\u001b[0m\u001b[0;34m\u001b[0m\u001b[0;34m\u001b[0m\u001b[0m\n\u001b[0m\u001b[1;32m    542\u001b[0m \u001b[0;34m\u001b[0m\u001b[0m\n\u001b[1;32m    543\u001b[0m         \u001b[0;31m# If any of `initial_state` or `constants` are specified and are Keras\u001b[0m\u001b[0;34m\u001b[0m\u001b[0;34m\u001b[0m\u001b[0;34m\u001b[0m\u001b[0m\n",
      "\u001b[0;32m/usr/local/lib/python3.7/dist-packages/keras/engine/base_layer.py\u001b[0m in \u001b[0;36m__call__\u001b[0;34m(self, inputs, **kwargs)\u001b[0m\n\u001b[1;32m    444\u001b[0m                 \u001b[0;31m# Raise exceptions in case the input is not compatible\u001b[0m\u001b[0;34m\u001b[0m\u001b[0;34m\u001b[0m\u001b[0;34m\u001b[0m\u001b[0m\n\u001b[1;32m    445\u001b[0m                 \u001b[0;31m# with the input_spec specified in the layer constructor.\u001b[0m\u001b[0;34m\u001b[0m\u001b[0;34m\u001b[0m\u001b[0;34m\u001b[0m\u001b[0m\n\u001b[0;32m--> 446\u001b[0;31m                 \u001b[0mself\u001b[0m\u001b[0;34m.\u001b[0m\u001b[0massert_input_compatibility\u001b[0m\u001b[0;34m(\u001b[0m\u001b[0minputs\u001b[0m\u001b[0;34m)\u001b[0m\u001b[0;34m\u001b[0m\u001b[0;34m\u001b[0m\u001b[0m\n\u001b[0m\u001b[1;32m    447\u001b[0m \u001b[0;34m\u001b[0m\u001b[0m\n\u001b[1;32m    448\u001b[0m                 \u001b[0;31m# Collect input shapes to build layer.\u001b[0m\u001b[0;34m\u001b[0m\u001b[0;34m\u001b[0m\u001b[0;34m\u001b[0m\u001b[0m\n",
      "\u001b[0;32m/usr/local/lib/python3.7/dist-packages/keras/engine/base_layer.py\u001b[0m in \u001b[0;36massert_input_compatibility\u001b[0;34m(self, inputs)\u001b[0m\n\u001b[1;32m    340\u001b[0m                                      \u001b[0mself\u001b[0m\u001b[0;34m.\u001b[0m\u001b[0mname\u001b[0m \u001b[0;34m+\u001b[0m \u001b[0;34m': expected ndim='\u001b[0m \u001b[0;34m+\u001b[0m\u001b[0;34m\u001b[0m\u001b[0;34m\u001b[0m\u001b[0m\n\u001b[1;32m    341\u001b[0m                                      \u001b[0mstr\u001b[0m\u001b[0;34m(\u001b[0m\u001b[0mspec\u001b[0m\u001b[0;34m.\u001b[0m\u001b[0mndim\u001b[0m\u001b[0;34m)\u001b[0m \u001b[0;34m+\u001b[0m \u001b[0;34m', found ndim='\u001b[0m \u001b[0;34m+\u001b[0m\u001b[0;34m\u001b[0m\u001b[0;34m\u001b[0m\u001b[0m\n\u001b[0;32m--> 342\u001b[0;31m                                      str(K.ndim(x)))\n\u001b[0m\u001b[1;32m    343\u001b[0m             \u001b[0;32mif\u001b[0m \u001b[0mspec\u001b[0m\u001b[0;34m.\u001b[0m\u001b[0mmax_ndim\u001b[0m \u001b[0;32mis\u001b[0m \u001b[0;32mnot\u001b[0m \u001b[0;32mNone\u001b[0m\u001b[0;34m:\u001b[0m\u001b[0;34m\u001b[0m\u001b[0;34m\u001b[0m\u001b[0m\n\u001b[1;32m    344\u001b[0m                 \u001b[0mndim\u001b[0m \u001b[0;34m=\u001b[0m \u001b[0mK\u001b[0m\u001b[0;34m.\u001b[0m\u001b[0mndim\u001b[0m\u001b[0;34m(\u001b[0m\u001b[0mx\u001b[0m\u001b[0;34m)\u001b[0m\u001b[0;34m\u001b[0m\u001b[0;34m\u001b[0m\u001b[0m\n",
      "\u001b[0;31mValueError\u001b[0m: Input 0 is incompatible with layer lstm_2: expected ndim=3, found ndim=2"
     ]
    }
   ],
   "source": [
    "model.add(LSTM(32, input_shape=(x_data.shape[1], x_data.shape[2])))\n",
    "model.add(Dense(6, activation='sigmoid'))\n",
    "model.compile(loss='binary_crossentropy',optimizer='adam',metrics=['accuracy'])\n",
    "model_output = model.fit(x_data, y_data, epochs=50, batch_size=72, verbose=2, shuffle=False)"
   ]
  },
  {
   "cell_type": "code",
   "execution_count": 21,
   "metadata": {
    "colab": {
     "base_uri": "https://localhost:8080/",
     "height": 573
    },
    "colab_type": "code",
    "executionInfo": {
     "elapsed": 763,
     "status": "ok",
     "timestamp": 1582519517797,
     "user": {
      "displayName": "Srinivasan Seshan",
      "photoUrl": "",
      "userId": "06632033567786526417"
     },
     "user_tz": 300
    },
    "id": "Mwdk0D6jd6mY",
    "outputId": "baea7c90-a9b0-46cb-b1a9-0bb1573f2c14"
   },
   "outputs": [
    {
     "ename": "KeyError",
     "evalue": "'acc'",
     "output_type": "error",
     "traceback": [
      "\u001b[0;31m---------------------------------------------------------------------------\u001b[0m",
      "\u001b[0;31mKeyError\u001b[0m                                  Traceback (most recent call last)",
      "\u001b[0;32m<ipython-input-21-1fa43591fcb9>\u001b[0m in \u001b[0;36m<module>\u001b[0;34m\u001b[0m\n\u001b[0;32m----> 1\u001b[0;31m \u001b[0mplt\u001b[0m\u001b[0;34m.\u001b[0m\u001b[0mplot\u001b[0m\u001b[0;34m(\u001b[0m\u001b[0mmodel_output\u001b[0m\u001b[0;34m.\u001b[0m\u001b[0mhistory\u001b[0m\u001b[0;34m[\u001b[0m\u001b[0;34m'acc'\u001b[0m\u001b[0;34m]\u001b[0m\u001b[0;34m)\u001b[0m\u001b[0;34m\u001b[0m\u001b[0;34m\u001b[0m\u001b[0m\n\u001b[0m\u001b[1;32m      2\u001b[0m \u001b[0mplt\u001b[0m\u001b[0;34m.\u001b[0m\u001b[0mplot\u001b[0m\u001b[0;34m(\u001b[0m\u001b[0mmodel_output\u001b[0m\u001b[0;34m.\u001b[0m\u001b[0mhistory\u001b[0m\u001b[0;34m[\u001b[0m\u001b[0;34m'val_acc'\u001b[0m\u001b[0;34m]\u001b[0m\u001b[0;34m)\u001b[0m\u001b[0;34m\u001b[0m\u001b[0;34m\u001b[0m\u001b[0m\n\u001b[1;32m      3\u001b[0m \u001b[0mplt\u001b[0m\u001b[0;34m.\u001b[0m\u001b[0mtitle\u001b[0m\u001b[0;34m(\u001b[0m\u001b[0;34m'Model accuracy'\u001b[0m\u001b[0;34m)\u001b[0m\u001b[0;34m\u001b[0m\u001b[0;34m\u001b[0m\u001b[0m\n\u001b[1;32m      4\u001b[0m \u001b[0mplt\u001b[0m\u001b[0;34m.\u001b[0m\u001b[0mylabel\u001b[0m\u001b[0;34m(\u001b[0m\u001b[0;34m'Accuracy'\u001b[0m\u001b[0;34m)\u001b[0m\u001b[0;34m\u001b[0m\u001b[0;34m\u001b[0m\u001b[0m\n\u001b[1;32m      5\u001b[0m \u001b[0mplt\u001b[0m\u001b[0;34m.\u001b[0m\u001b[0mxlabel\u001b[0m\u001b[0;34m(\u001b[0m\u001b[0;34m'Epoch'\u001b[0m\u001b[0;34m)\u001b[0m\u001b[0;34m\u001b[0m\u001b[0;34m\u001b[0m\u001b[0m\n",
      "\u001b[0;31mKeyError\u001b[0m: 'acc'"
     ]
    }
   ],
   "source": [
    "plt.plot(model_output.history['acc'])\n",
    "plt.plot(model_output.history['val_acc'])\n",
    "plt.title('Model accuracy')\n",
    "plt.ylabel('Accuracy')\n",
    "plt.xlabel('Epoch')\n",
    "plt.legend(['Train', 'Test'], loc='upper left')\n",
    "plt.show()\n",
    "# Plot training & validation loss values\n",
    "plt.plot(model_output.history['loss'])\n",
    "plt.plot(model_output.history['val_loss'])\n",
    "plt.title('model_output loss')\n",
    "plt.ylabel('Loss')\n",
    "plt.xlabel('Epoch')\n",
    "plt.legend(['Train', 'Test'], loc='upper left')\n",
    "plt.show()"
   ]
  },
  {
   "cell_type": "code",
   "execution_count": 22,
   "metadata": {
    "colab": {},
    "colab_type": "code",
    "id": "nxbaK1iEhMnp"
   },
   "outputs": [
    {
     "ename": "NameError",
     "evalue": "name 'argmax' is not defined",
     "output_type": "error",
     "traceback": [
      "\u001b[0;31m---------------------------------------------------------------------------\u001b[0m",
      "\u001b[0;31mNameError\u001b[0m                                 Traceback (most recent call last)",
      "\u001b[0;32m<ipython-input-22-49b86ab511d8>\u001b[0m in \u001b[0;36m<module>\u001b[0;34m\u001b[0m\n\u001b[1;32m      1\u001b[0m \u001b[0mnew_predYT\u001b[0m\u001b[0;34m=\u001b[0m \u001b[0mmodel\u001b[0m\u001b[0;34m.\u001b[0m\u001b[0mpredict\u001b[0m\u001b[0;34m(\u001b[0m\u001b[0mx_train\u001b[0m\u001b[0;34m)\u001b[0m\u001b[0;34m\u001b[0m\u001b[0;34m\u001b[0m\u001b[0m\n\u001b[0;32m----> 2\u001b[0;31m \u001b[0mnew_predY\u001b[0m \u001b[0;34m=\u001b[0m \u001b[0;34m[\u001b[0m\u001b[0margmax\u001b[0m\u001b[0;34m(\u001b[0m\u001b[0mx\u001b[0m\u001b[0;34m)\u001b[0m \u001b[0;32mfor\u001b[0m \u001b[0mx\u001b[0m \u001b[0;32min\u001b[0m \u001b[0mnew_predYT\u001b[0m\u001b[0;34m]\u001b[0m\u001b[0;34m\u001b[0m\u001b[0;34m\u001b[0m\u001b[0m\n\u001b[0m\u001b[1;32m      3\u001b[0m \u001b[0mnew_predYComp\u001b[0m \u001b[0;34m=\u001b[0m \u001b[0;34m[\u001b[0m\u001b[0margmax\u001b[0m\u001b[0;34m(\u001b[0m\u001b[0mx\u001b[0m\u001b[0;34m)\u001b[0m \u001b[0;32mfor\u001b[0m \u001b[0mx\u001b[0m \u001b[0;32min\u001b[0m \u001b[0my_train\u001b[0m\u001b[0;34m]\u001b[0m\u001b[0;34m\u001b[0m\u001b[0;34m\u001b[0m\u001b[0m\n",
      "\u001b[0;32m<ipython-input-22-49b86ab511d8>\u001b[0m in \u001b[0;36m<listcomp>\u001b[0;34m(.0)\u001b[0m\n\u001b[1;32m      1\u001b[0m \u001b[0mnew_predYT\u001b[0m\u001b[0;34m=\u001b[0m \u001b[0mmodel\u001b[0m\u001b[0;34m.\u001b[0m\u001b[0mpredict\u001b[0m\u001b[0;34m(\u001b[0m\u001b[0mx_train\u001b[0m\u001b[0;34m)\u001b[0m\u001b[0;34m\u001b[0m\u001b[0;34m\u001b[0m\u001b[0m\n\u001b[0;32m----> 2\u001b[0;31m \u001b[0mnew_predY\u001b[0m \u001b[0;34m=\u001b[0m \u001b[0;34m[\u001b[0m\u001b[0margmax\u001b[0m\u001b[0;34m(\u001b[0m\u001b[0mx\u001b[0m\u001b[0;34m)\u001b[0m \u001b[0;32mfor\u001b[0m \u001b[0mx\u001b[0m \u001b[0;32min\u001b[0m \u001b[0mnew_predYT\u001b[0m\u001b[0;34m]\u001b[0m\u001b[0;34m\u001b[0m\u001b[0;34m\u001b[0m\u001b[0m\n\u001b[0m\u001b[1;32m      3\u001b[0m \u001b[0mnew_predYComp\u001b[0m \u001b[0;34m=\u001b[0m \u001b[0;34m[\u001b[0m\u001b[0margmax\u001b[0m\u001b[0;34m(\u001b[0m\u001b[0mx\u001b[0m\u001b[0;34m)\u001b[0m \u001b[0;32mfor\u001b[0m \u001b[0mx\u001b[0m \u001b[0;32min\u001b[0m \u001b[0my_train\u001b[0m\u001b[0;34m]\u001b[0m\u001b[0;34m\u001b[0m\u001b[0;34m\u001b[0m\u001b[0m\n",
      "\u001b[0;31mNameError\u001b[0m: name 'argmax' is not defined"
     ]
    }
   ],
   "source": [
    "new_predYT= model.predict(x_train)\n",
    "new_predY = [argmax(x) for x in new_predYT]\n",
    "new_predYComp = [argmax(x) for x in y_train]\n"
   ]
  },
  {
   "cell_type": "code",
   "execution_count": null,
   "metadata": {
    "colab": {
     "base_uri": "https://localhost:8080/",
     "height": 1000
    },
    "colab_type": "code",
    "executionInfo": {
     "elapsed": 955,
     "status": "ok",
     "timestamp": 1582519869232,
     "user": {
      "displayName": "Srinivasan Seshan",
      "photoUrl": "",
      "userId": "06632033567786526417"
     },
     "user_tz": 300
    },
    "id": "IlT8aCjlhrTX",
    "outputId": "4fc8c3ed-99dc-47f0-f2a0-c75828b34dd3"
   },
   "outputs": [],
   "source": [
    "new_predY"
   ]
  },
  {
   "cell_type": "code",
   "execution_count": null,
   "metadata": {
    "colab": {},
    "colab_type": "code",
    "id": "6XUYBerthJlZ"
   },
   "outputs": [],
   "source": [
    "testfile = \"mix6ml\"\n",
    "new_dataX = pd.read_csv(testfile+\"X.csv\",names=['s1','s2','s3','s4','s5'])\n",
    "new_dataYR = np.genfromtxt(testfile+\"Y.csv\",delimiter=',',dtype=int)\n",
    "new_dataY = keras.utils.to_categorical(new_dataYR, num_classes)\n",
    "new_dataX.shape,new_dataY.shape\n",
    "new_predYT = model.predict(new_dataX)\n",
    "new_predY = [argmax(x) for x in new_predYT]\n",
    "new_predYComp = [argmax(x) for x in new_dataY]\n",
    "confusion_matrix(new_predYComp,new_predY)"
   ]
  }
 ],
 "metadata": {
  "colab": {
   "authorship_tag": "ABX9TyMkzJA381+M5MURbjWhO/5N",
   "mount_file_id": "1EvNBzEgtFC1-c6IvCxWJOt5f2WmYxCdp",
   "name": "sanjay 2020.ipynb",
   "provenance": []
  },
  "kernelspec": {
   "display_name": "Python 3",
   "language": "python",
   "name": "python3"
  },
  "language_info": {
   "codemirror_mode": {
    "name": "ipython",
    "version": 3
   },
   "file_extension": ".py",
   "mimetype": "text/x-python",
   "name": "python",
   "nbconvert_exporter": "python",
   "pygments_lexer": "ipython3",
   "version": "3.7.3"
  }
 },
 "nbformat": 4,
 "nbformat_minor": 1
}
