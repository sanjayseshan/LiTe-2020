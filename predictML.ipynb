{
 "cells": [
  {
   "cell_type": "code",
   "execution_count": 1,
   "metadata": {
    "colab": {},
    "colab_type": "code",
    "id": "J3OtwrYMh5do"
   },
   "outputs": [],
   "source": [
    "import numpy as np\n",
    "import keras\n",
    "from keras.datasets import imdb\n",
    "from keras.models import Sequential\n",
    "from keras.layers import LSTM\n",
    "from keras.layers.embeddings import Embedding\n",
    "from keras.preprocessing import sequence\n",
    "from sklearn.metrics import confusion_matrix, precision_score\n",
    "from sklearn.model_selection import train_test_split\n",
    "from keras.layers import Dense,Dropout\n",
    "from keras.regularizers import l2\n",
    "import matplotlib.pyplot as plt\n",
    "import pandas as pd\n",
    "\n",
    "\n"
   ]
  },
  {
   "cell_type": "code",
   "execution_count": 2,
   "metadata": {
    "colab": {
     "base_uri": "https://localhost:8080/",
     "height": 35
    },
    "colab_type": "code",
    "executionInfo": {
     "elapsed": 286,
     "status": "ok",
     "timestamp": 1582609074721,
     "user": {
      "displayName": "Srinivasan Seshan",
      "photoUrl": "",
      "userId": "06632033567786526417"
     },
     "user_tz": 300
    },
    "id": "9Hwc3b1ukDel",
    "outputId": "032c0a82-4990-43c1-d069-3d8f4f3a6288"
   },
   "outputs": [
    {
     "data": {
      "text/plain": [
       "((880, 5), (880, 6), (845, 5), (845, 6))"
      ]
     },
     "execution_count": 2,
     "metadata": {},
     "output_type": "execute_result"
    }
   ],
   "source": [
    "datafile = \"splicedDataML/mix6ml\"\n",
    "\n",
    "x_data = pd.read_csv(datafile+\"X.csv\",names=['s1','s2','s3','s4','s5'])\n",
    "y_dataR = np.genfromtxt(datafile+\"Y.csv\",delimiter=',',dtype=int)\n",
    "num_classes = np.max(y_dataR) + 1\n",
    "y_data = keras.utils.to_categorical(y_dataR, num_classes)\n",
    "#x_train, x_test, y_train, y_test = train_test_split(x_data,y_data, test_size=0.20, random_state=0)\n",
    "x_train = x_data[:880]\n",
    "x_test = x_data[880:]\n",
    "y_train = y_data[:880]\n",
    "y_test = y_data[880:]\n",
    "x_train.shape,y_train.shape,x_test.shape,y_test.shape"
   ]
  },
  {
   "cell_type": "code",
   "execution_count": 3,
   "metadata": {
    "colab": {
     "base_uri": "https://localhost:8080/",
     "height": 1000
    },
    "colab_type": "code",
    "executionInfo": {
     "elapsed": 20285,
     "status": "ok",
     "timestamp": 1582609098680,
     "user": {
      "displayName": "Srinivasan Seshan",
      "photoUrl": "",
      "userId": "06632033567786526417"
     },
     "user_tz": 300
    },
    "id": "E1rwuze5mL10",
    "outputId": "c91ea7eb-f2f2-4dec-f4b7-749e50ad3fa3"
   },
   "outputs": [
    {
     "name": "stdout",
     "output_type": "stream",
     "text": [
      "Epoch 1/150\n",
      "44/44 [==============================] - 0s 4ms/step - loss: 21.4839 - accuracy: 0.3114 - val_loss: 6.2611 - val_accuracy: 0.3124\n",
      "Epoch 2/150\n",
      "44/44 [==============================] - 0s 1ms/step - loss: 10.0744 - accuracy: 0.3284 - val_loss: 2.4095 - val_accuracy: 0.4225\n",
      "Epoch 3/150\n",
      "44/44 [==============================] - 0s 2ms/step - loss: 4.8510 - accuracy: 0.3591 - val_loss: 1.1741 - val_accuracy: 0.5763\n",
      "Epoch 4/150\n",
      "44/44 [==============================] - 0s 2ms/step - loss: 3.0015 - accuracy: 0.3318 - val_loss: 1.0365 - val_accuracy: 0.3988\n",
      "Epoch 5/150\n",
      "44/44 [==============================] - 0s 1ms/step - loss: 1.8245 - accuracy: 0.3182 - val_loss: 1.0663 - val_accuracy: 0.3195\n",
      "Epoch 6/150\n",
      "44/44 [==============================] - 0s 1ms/step - loss: 1.3390 - accuracy: 0.3875 - val_loss: 1.0038 - val_accuracy: 0.3148\n",
      "Epoch 7/150\n",
      "44/44 [==============================] - 0s 1ms/step - loss: 1.1841 - accuracy: 0.3886 - val_loss: 0.9553 - val_accuracy: 0.3124\n",
      "Epoch 8/150\n",
      "44/44 [==============================] - 0s 2ms/step - loss: 1.0862 - accuracy: 0.4466 - val_loss: 0.9520 - val_accuracy: 0.3124\n",
      "Epoch 9/150\n",
      "44/44 [==============================] - 0s 2ms/step - loss: 1.0334 - accuracy: 0.4307 - val_loss: 0.9248 - val_accuracy: 0.3136\n",
      "Epoch 10/150\n",
      "44/44 [==============================] - 0s 1ms/step - loss: 0.9853 - accuracy: 0.4511 - val_loss: 0.9019 - val_accuracy: 0.3882\n",
      "Epoch 11/150\n",
      "44/44 [==============================] - 0s 1ms/step - loss: 0.9754 - accuracy: 0.4466 - val_loss: 0.9109 - val_accuracy: 0.3420\n",
      "Epoch 12/150\n",
      "44/44 [==============================] - 0s 1ms/step - loss: 0.9370 - accuracy: 0.4545 - val_loss: 0.8995 - val_accuracy: 0.3669\n",
      "Epoch 13/150\n",
      "44/44 [==============================] - 0s 1ms/step - loss: 0.9166 - accuracy: 0.4773 - val_loss: 0.8761 - val_accuracy: 0.3846\n",
      "Epoch 14/150\n",
      "44/44 [==============================] - 0s 1ms/step - loss: 0.9240 - accuracy: 0.4795 - val_loss: 0.8494 - val_accuracy: 0.4059\n",
      "Epoch 15/150\n",
      "44/44 [==============================] - 0s 1ms/step - loss: 0.8868 - accuracy: 0.4739 - val_loss: 0.8400 - val_accuracy: 0.4107\n",
      "Epoch 16/150\n",
      "44/44 [==============================] - 0s 1ms/step - loss: 0.8719 - accuracy: 0.4989 - val_loss: 0.8221 - val_accuracy: 0.4568\n",
      "Epoch 17/150\n",
      "44/44 [==============================] - 0s 2ms/step - loss: 0.8788 - accuracy: 0.4841 - val_loss: 0.8094 - val_accuracy: 0.4568\n",
      "Epoch 18/150\n",
      "44/44 [==============================] - 0s 1ms/step - loss: 0.8505 - accuracy: 0.4989 - val_loss: 0.8021 - val_accuracy: 0.4568\n",
      "Epoch 19/150\n",
      "44/44 [==============================] - 0s 1ms/step - loss: 0.8512 - accuracy: 0.4886 - val_loss: 0.7943 - val_accuracy: 0.4544\n",
      "Epoch 20/150\n",
      "44/44 [==============================] - 0s 1ms/step - loss: 0.8271 - accuracy: 0.4989 - val_loss: 0.7858 - val_accuracy: 0.4568\n",
      "Epoch 21/150\n",
      "44/44 [==============================] - 0s 1ms/step - loss: 0.8168 - accuracy: 0.5114 - val_loss: 0.7764 - val_accuracy: 0.4568\n",
      "Epoch 22/150\n",
      "44/44 [==============================] - 0s 1ms/step - loss: 0.8005 - accuracy: 0.5136 - val_loss: 0.7664 - val_accuracy: 0.4568\n",
      "Epoch 23/150\n",
      "44/44 [==============================] - 0s 1ms/step - loss: 0.7986 - accuracy: 0.5045 - val_loss: 0.7650 - val_accuracy: 0.4391\n",
      "Epoch 24/150\n",
      "44/44 [==============================] - 0s 1ms/step - loss: 0.7864 - accuracy: 0.5023 - val_loss: 0.7472 - val_accuracy: 0.4568\n",
      "Epoch 25/150\n",
      "44/44 [==============================] - 0s 1ms/step - loss: 0.7785 - accuracy: 0.5148 - val_loss: 0.7367 - val_accuracy: 0.4568\n",
      "Epoch 26/150\n",
      "44/44 [==============================] - 0s 1ms/step - loss: 0.7774 - accuracy: 0.5125 - val_loss: 0.7315 - val_accuracy: 0.4568\n",
      "Epoch 27/150\n",
      "44/44 [==============================] - 0s 2ms/step - loss: 0.7549 - accuracy: 0.5182 - val_loss: 0.7179 - val_accuracy: 0.4568\n",
      "Epoch 28/150\n",
      "44/44 [==============================] - 0s 1ms/step - loss: 0.7343 - accuracy: 0.5136 - val_loss: 0.7099 - val_accuracy: 0.4568\n",
      "Epoch 29/150\n",
      "44/44 [==============================] - 0s 1ms/step - loss: 0.7312 - accuracy: 0.5182 - val_loss: 0.7032 - val_accuracy: 0.4568\n",
      "Epoch 30/150\n",
      "44/44 [==============================] - 0s 1ms/step - loss: 0.7181 - accuracy: 0.5159 - val_loss: 0.6929 - val_accuracy: 0.4568\n",
      "Epoch 31/150\n",
      "44/44 [==============================] - 0s 1ms/step - loss: 0.7013 - accuracy: 0.5330 - val_loss: 0.6847 - val_accuracy: 0.4568\n",
      "Epoch 32/150\n",
      "44/44 [==============================] - 0s 1ms/step - loss: 0.6913 - accuracy: 0.5341 - val_loss: 0.6769 - val_accuracy: 0.4568\n",
      "Epoch 33/150\n",
      "44/44 [==============================] - 0s 1ms/step - loss: 0.6816 - accuracy: 0.5409 - val_loss: 0.6737 - val_accuracy: 0.4568\n",
      "Epoch 34/150\n",
      "44/44 [==============================] - 0s 1ms/step - loss: 0.6689 - accuracy: 0.5534 - val_loss: 0.6591 - val_accuracy: 0.4568\n",
      "Epoch 35/150\n",
      "44/44 [==============================] - 0s 1ms/step - loss: 0.6658 - accuracy: 0.5682 - val_loss: 0.6525 - val_accuracy: 0.4568\n",
      "Epoch 36/150\n",
      "44/44 [==============================] - 0s 1ms/step - loss: 0.6460 - accuracy: 0.5557 - val_loss: 0.6386 - val_accuracy: 0.4828\n",
      "Epoch 37/150\n",
      "44/44 [==============================] - 0s 1ms/step - loss: 0.6334 - accuracy: 0.5693 - val_loss: 0.6181 - val_accuracy: 0.5787\n",
      "Epoch 38/150\n",
      "44/44 [==============================] - 0s 1ms/step - loss: 0.6213 - accuracy: 0.6000 - val_loss: 0.6037 - val_accuracy: 0.6000\n",
      "Epoch 39/150\n",
      "44/44 [==============================] - 0s 1ms/step - loss: 0.6110 - accuracy: 0.6125 - val_loss: 0.5849 - val_accuracy: 0.6757\n",
      "Epoch 40/150\n",
      "44/44 [==============================] - 0s 1ms/step - loss: 0.5948 - accuracy: 0.6239 - val_loss: 0.5655 - val_accuracy: 0.6757\n",
      "Epoch 41/150\n",
      "44/44 [==============================] - 0s 1ms/step - loss: 0.5788 - accuracy: 0.6409 - val_loss: 0.5531 - val_accuracy: 0.6757\n",
      "Epoch 42/150\n",
      "44/44 [==============================] - 0s 1ms/step - loss: 0.5605 - accuracy: 0.6682 - val_loss: 0.5416 - val_accuracy: 0.6757\n",
      "Epoch 43/150\n",
      "44/44 [==============================] - 0s 1ms/step - loss: 0.5574 - accuracy: 0.6670 - val_loss: 0.5427 - val_accuracy: 0.6757\n",
      "Epoch 44/150\n",
      "44/44 [==============================] - 0s 1ms/step - loss: 0.5430 - accuracy: 0.6500 - val_loss: 0.5271 - val_accuracy: 0.6757\n",
      "Epoch 45/150\n",
      "44/44 [==============================] - 0s 1ms/step - loss: 0.5284 - accuracy: 0.6682 - val_loss: 0.5144 - val_accuracy: 0.6757\n",
      "Epoch 46/150\n",
      "44/44 [==============================] - 0s 1ms/step - loss: 0.5178 - accuracy: 0.6761 - val_loss: 0.5118 - val_accuracy: 0.6757\n",
      "Epoch 47/150\n",
      "44/44 [==============================] - 0s 1ms/step - loss: 0.5223 - accuracy: 0.6591 - val_loss: 0.5036 - val_accuracy: 0.6757\n",
      "Epoch 48/150\n",
      "44/44 [==============================] - 0s 1ms/step - loss: 0.5063 - accuracy: 0.6841 - val_loss: 0.4886 - val_accuracy: 0.6757\n",
      "Epoch 49/150\n",
      "44/44 [==============================] - 0s 1ms/step - loss: 0.4918 - accuracy: 0.6864 - val_loss: 0.4816 - val_accuracy: 0.6757\n",
      "Epoch 50/150\n",
      "44/44 [==============================] - 0s 1ms/step - loss: 0.4842 - accuracy: 0.6977 - val_loss: 0.4726 - val_accuracy: 0.6781\n",
      "Epoch 51/150\n",
      "44/44 [==============================] - 0s 1ms/step - loss: 0.4752 - accuracy: 0.7045 - val_loss: 0.4664 - val_accuracy: 0.6757\n",
      "Epoch 52/150\n",
      "44/44 [==============================] - 0s 1ms/step - loss: 0.4644 - accuracy: 0.7045 - val_loss: 0.4687 - val_accuracy: 0.6935\n",
      "Epoch 53/150\n",
      "44/44 [==============================] - 0s 1ms/step - loss: 0.4510 - accuracy: 0.7193 - val_loss: 0.4495 - val_accuracy: 0.7456\n",
      "Epoch 54/150\n",
      "44/44 [==============================] - 0s 1ms/step - loss: 0.4513 - accuracy: 0.7250 - val_loss: 0.4428 - val_accuracy: 0.8083\n",
      "Epoch 55/150\n",
      "44/44 [==============================] - 0s 1ms/step - loss: 0.4354 - accuracy: 0.7398 - val_loss: 0.4315 - val_accuracy: 0.7775\n",
      "Epoch 56/150\n",
      "44/44 [==============================] - 0s 1ms/step - loss: 0.4345 - accuracy: 0.7330 - val_loss: 0.4651 - val_accuracy: 0.6876\n",
      "Epoch 57/150\n",
      "44/44 [==============================] - 0s 1ms/step - loss: 0.4294 - accuracy: 0.7511 - val_loss: 0.4179 - val_accuracy: 0.7917\n",
      "Epoch 58/150\n",
      "44/44 [==============================] - 0s 1ms/step - loss: 0.4172 - accuracy: 0.7489 - val_loss: 0.4085 - val_accuracy: 0.7953\n"
     ]
    },
    {
     "name": "stdout",
     "output_type": "stream",
     "text": [
      "Epoch 59/150\n",
      "44/44 [==============================] - 0s 1ms/step - loss: 0.4115 - accuracy: 0.7682 - val_loss: 0.4018 - val_accuracy: 0.8201\n",
      "Epoch 60/150\n",
      "44/44 [==============================] - 0s 1ms/step - loss: 0.4053 - accuracy: 0.7773 - val_loss: 0.3936 - val_accuracy: 0.7988\n",
      "Epoch 61/150\n",
      "44/44 [==============================] - 0s 1ms/step - loss: 0.3937 - accuracy: 0.7795 - val_loss: 0.3856 - val_accuracy: 0.8568\n",
      "Epoch 62/150\n",
      "44/44 [==============================] - 0s 1ms/step - loss: 0.3909 - accuracy: 0.7830 - val_loss: 0.3849 - val_accuracy: 0.8414\n",
      "Epoch 63/150\n",
      "44/44 [==============================] - 0s 1ms/step - loss: 0.3871 - accuracy: 0.7852 - val_loss: 0.3756 - val_accuracy: 0.8249\n",
      "Epoch 64/150\n",
      "44/44 [==============================] - 0s 1ms/step - loss: 0.3752 - accuracy: 0.7636 - val_loss: 0.3779 - val_accuracy: 0.8639\n",
      "Epoch 65/150\n",
      "44/44 [==============================] - 0s 1ms/step - loss: 0.3765 - accuracy: 0.7739 - val_loss: 0.3763 - val_accuracy: 0.8651\n",
      "Epoch 66/150\n",
      "44/44 [==============================] - 0s 1ms/step - loss: 0.3779 - accuracy: 0.7636 - val_loss: 0.3742 - val_accuracy: 0.8426\n",
      "Epoch 67/150\n",
      "44/44 [==============================] - 0s 1ms/step - loss: 0.3683 - accuracy: 0.7580 - val_loss: 0.3689 - val_accuracy: 0.7361\n",
      "Epoch 68/150\n",
      "44/44 [==============================] - 0s 1ms/step - loss: 0.3640 - accuracy: 0.7727 - val_loss: 0.3534 - val_accuracy: 0.8710\n",
      "Epoch 69/150\n",
      "44/44 [==============================] - 0s 1ms/step - loss: 0.3468 - accuracy: 0.7955 - val_loss: 0.3521 - val_accuracy: 0.8521\n",
      "Epoch 70/150\n",
      "44/44 [==============================] - 0s 1ms/step - loss: 0.3367 - accuracy: 0.8068 - val_loss: 0.3430 - val_accuracy: 0.8343\n",
      "Epoch 71/150\n",
      "44/44 [==============================] - 0s 1ms/step - loss: 0.3350 - accuracy: 0.8080 - val_loss: 0.3350 - val_accuracy: 0.8544\n",
      "Epoch 72/150\n",
      "44/44 [==============================] - 0s 1ms/step - loss: 0.3397 - accuracy: 0.8000 - val_loss: 0.3435 - val_accuracy: 0.7893\n",
      "Epoch 73/150\n",
      "44/44 [==============================] - 0s 1ms/step - loss: 0.3249 - accuracy: 0.8364 - val_loss: 0.3255 - val_accuracy: 0.8473\n",
      "Epoch 74/150\n",
      "44/44 [==============================] - 0s 1ms/step - loss: 0.3132 - accuracy: 0.8375 - val_loss: 0.3159 - val_accuracy: 0.8651\n",
      "Epoch 75/150\n",
      "44/44 [==============================] - 0s 1ms/step - loss: 0.3029 - accuracy: 0.8568 - val_loss: 0.3287 - val_accuracy: 0.8533\n",
      "Epoch 76/150\n",
      "44/44 [==============================] - 0s 1ms/step - loss: 0.3101 - accuracy: 0.8364 - val_loss: 0.3208 - val_accuracy: 0.8533\n",
      "Epoch 77/150\n",
      "44/44 [==============================] - 0s 1ms/step - loss: 0.2941 - accuracy: 0.8489 - val_loss: 0.2928 - val_accuracy: 0.8663\n",
      "Epoch 78/150\n",
      "44/44 [==============================] - 0s 1ms/step - loss: 0.2929 - accuracy: 0.8557 - val_loss: 0.3024 - val_accuracy: 0.8675\n",
      "Epoch 79/150\n",
      "44/44 [==============================] - 0s 1ms/step - loss: 0.2790 - accuracy: 0.8705 - val_loss: 0.2871 - val_accuracy: 0.8651\n",
      "Epoch 80/150\n",
      "44/44 [==============================] - 0s 1ms/step - loss: 0.2747 - accuracy: 0.8750 - val_loss: 0.3007 - val_accuracy: 0.8639\n",
      "Epoch 81/150\n",
      "44/44 [==============================] - 0s 1ms/step - loss: 0.2806 - accuracy: 0.8557 - val_loss: 0.2889 - val_accuracy: 0.8533\n",
      "Epoch 82/150\n",
      "44/44 [==============================] - 0s 1ms/step - loss: 0.2678 - accuracy: 0.8648 - val_loss: 0.2808 - val_accuracy: 0.8438\n",
      "Epoch 83/150\n",
      "44/44 [==============================] - 0s 1ms/step - loss: 0.2732 - accuracy: 0.8648 - val_loss: 0.2812 - val_accuracy: 0.8675\n",
      "Epoch 84/150\n",
      "44/44 [==============================] - 0s 1ms/step - loss: 0.2646 - accuracy: 0.8580 - val_loss: 0.2722 - val_accuracy: 0.8627\n",
      "Epoch 85/150\n",
      "44/44 [==============================] - 0s 1ms/step - loss: 0.2483 - accuracy: 0.8739 - val_loss: 0.2711 - val_accuracy: 0.8675\n",
      "Epoch 86/150\n",
      "44/44 [==============================] - 0s 1ms/step - loss: 0.2454 - accuracy: 0.8818 - val_loss: 0.2686 - val_accuracy: 0.8580\n",
      "Epoch 87/150\n",
      "44/44 [==============================] - 0s 1ms/step - loss: 0.2470 - accuracy: 0.8636 - val_loss: 0.2616 - val_accuracy: 0.8710\n",
      "Epoch 88/150\n",
      "44/44 [==============================] - 0s 1ms/step - loss: 0.2407 - accuracy: 0.8716 - val_loss: 0.2659 - val_accuracy: 0.8639\n",
      "Epoch 89/150\n",
      "44/44 [==============================] - 0s 1ms/step - loss: 0.2339 - accuracy: 0.8761 - val_loss: 0.2570 - val_accuracy: 0.8675\n",
      "Epoch 90/150\n",
      "44/44 [==============================] - 0s 1ms/step - loss: 0.2397 - accuracy: 0.8807 - val_loss: 0.2672 - val_accuracy: 0.8686\n",
      "Epoch 91/150\n",
      "44/44 [==============================] - 0s 1ms/step - loss: 0.2352 - accuracy: 0.8818 - val_loss: 0.2541 - val_accuracy: 0.8473\n",
      "Epoch 92/150\n",
      "44/44 [==============================] - 0s 1ms/step - loss: 0.2295 - accuracy: 0.8795 - val_loss: 0.2525 - val_accuracy: 0.8604\n",
      "Epoch 93/150\n",
      "44/44 [==============================] - 0s 1ms/step - loss: 0.2234 - accuracy: 0.8795 - val_loss: 0.2573 - val_accuracy: 0.8639\n",
      "Epoch 94/150\n",
      "44/44 [==============================] - 0s 1ms/step - loss: 0.2256 - accuracy: 0.8693 - val_loss: 0.2553 - val_accuracy: 0.8568\n",
      "Epoch 95/150\n",
      "44/44 [==============================] - 0s 1ms/step - loss: 0.2274 - accuracy: 0.8773 - val_loss: 0.2445 - val_accuracy: 0.8651\n",
      "Epoch 96/150\n",
      "44/44 [==============================] - 0s 1ms/step - loss: 0.2231 - accuracy: 0.8761 - val_loss: 0.2361 - val_accuracy: 0.8639\n",
      "Epoch 97/150\n",
      "44/44 [==============================] - 0s 1ms/step - loss: 0.2123 - accuracy: 0.8852 - val_loss: 0.2562 - val_accuracy: 0.8107\n",
      "Epoch 98/150\n",
      "44/44 [==============================] - 0s 1ms/step - loss: 0.2123 - accuracy: 0.8807 - val_loss: 0.2435 - val_accuracy: 0.8686\n",
      "Epoch 99/150\n",
      "44/44 [==============================] - 0s 1ms/step - loss: 0.2202 - accuracy: 0.8693 - val_loss: 0.2303 - val_accuracy: 0.8663\n",
      "Epoch 100/150\n",
      "44/44 [==============================] - 0s 1ms/step - loss: 0.1985 - accuracy: 0.8955 - val_loss: 0.2349 - val_accuracy: 0.8639\n",
      "Epoch 101/150\n",
      "44/44 [==============================] - 0s 1ms/step - loss: 0.2126 - accuracy: 0.8716 - val_loss: 0.2615 - val_accuracy: 0.8580\n",
      "Epoch 102/150\n",
      "44/44 [==============================] - 0s 1ms/step - loss: 0.2112 - accuracy: 0.8693 - val_loss: 0.2256 - val_accuracy: 0.8675\n",
      "Epoch 103/150\n",
      "44/44 [==============================] - 0s 1ms/step - loss: 0.1941 - accuracy: 0.8955 - val_loss: 0.2209 - val_accuracy: 0.8734\n",
      "Epoch 104/150\n",
      "44/44 [==============================] - 0s 1ms/step - loss: 0.2077 - accuracy: 0.8659 - val_loss: 0.2174 - val_accuracy: 0.8615\n",
      "Epoch 105/150\n",
      "44/44 [==============================] - 0s 1ms/step - loss: 0.2036 - accuracy: 0.8784 - val_loss: 0.2197 - val_accuracy: 0.8722\n",
      "Epoch 106/150\n",
      "44/44 [==============================] - 0s 1ms/step - loss: 0.1959 - accuracy: 0.8909 - val_loss: 0.2221 - val_accuracy: 0.8734\n",
      "Epoch 107/150\n",
      "44/44 [==============================] - 0s 1ms/step - loss: 0.1998 - accuracy: 0.8705 - val_loss: 0.2143 - val_accuracy: 0.8675\n",
      "Epoch 108/150\n",
      "44/44 [==============================] - 0s 1ms/step - loss: 0.1960 - accuracy: 0.8784 - val_loss: 0.2258 - val_accuracy: 0.8722\n",
      "Epoch 109/150\n",
      "44/44 [==============================] - 0s 1ms/step - loss: 0.1879 - accuracy: 0.8875 - val_loss: 0.2112 - val_accuracy: 0.8675\n",
      "Epoch 110/150\n",
      "44/44 [==============================] - 0s 1ms/step - loss: 0.1904 - accuracy: 0.8841 - val_loss: 0.2129 - val_accuracy: 0.8663\n",
      "Epoch 111/150\n",
      "44/44 [==============================] - 0s 1ms/step - loss: 0.1862 - accuracy: 0.8898 - val_loss: 0.2026 - val_accuracy: 0.8615\n",
      "Epoch 112/150\n",
      "44/44 [==============================] - 0s 1ms/step - loss: 0.1778 - accuracy: 0.8898 - val_loss: 0.2202 - val_accuracy: 0.8580\n",
      "Epoch 113/150\n",
      "44/44 [==============================] - 0s 1ms/step - loss: 0.1846 - accuracy: 0.8795 - val_loss: 0.2117 - val_accuracy: 0.8734\n",
      "Epoch 114/150\n",
      "44/44 [==============================] - 0s 1ms/step - loss: 0.1940 - accuracy: 0.8773 - val_loss: 0.2197 - val_accuracy: 0.8533\n",
      "Epoch 115/150\n",
      "44/44 [==============================] - 0s 2ms/step - loss: 0.1885 - accuracy: 0.8614 - val_loss: 0.2082 - val_accuracy: 0.8663\n",
      "Epoch 116/150\n"
     ]
    },
    {
     "name": "stdout",
     "output_type": "stream",
     "text": [
      "44/44 [==============================] - 0s 1ms/step - loss: 0.1731 - accuracy: 0.8943 - val_loss: 0.2094 - val_accuracy: 0.8663\n",
      "Epoch 117/150\n",
      "44/44 [==============================] - 0s 1ms/step - loss: 0.1738 - accuracy: 0.8898 - val_loss: 0.2145 - val_accuracy: 0.8781\n",
      "Epoch 118/150\n",
      "44/44 [==============================] - 0s 1ms/step - loss: 0.1731 - accuracy: 0.8852 - val_loss: 0.2056 - val_accuracy: 0.8592\n",
      "Epoch 119/150\n",
      "44/44 [==============================] - 0s 1ms/step - loss: 0.1817 - accuracy: 0.8795 - val_loss: 0.2055 - val_accuracy: 0.8651\n",
      "Epoch 120/150\n",
      "44/44 [==============================] - 0s 1ms/step - loss: 0.1871 - accuracy: 0.8716 - val_loss: 0.2085 - val_accuracy: 0.8675\n",
      "Epoch 121/150\n",
      "44/44 [==============================] - 0s 1ms/step - loss: 0.1844 - accuracy: 0.8716 - val_loss: 0.2024 - val_accuracy: 0.8651\n",
      "Epoch 122/150\n",
      "44/44 [==============================] - 0s 1ms/step - loss: 0.1719 - accuracy: 0.8807 - val_loss: 0.2055 - val_accuracy: 0.8485\n",
      "Epoch 123/150\n",
      "44/44 [==============================] - 0s 1ms/step - loss: 0.1707 - accuracy: 0.8784 - val_loss: 0.1931 - val_accuracy: 0.8734\n",
      "Epoch 124/150\n",
      "44/44 [==============================] - 0s 1ms/step - loss: 0.1661 - accuracy: 0.8841 - val_loss: 0.2230 - val_accuracy: 0.8130\n",
      "Epoch 125/150\n",
      "44/44 [==============================] - 0s 1ms/step - loss: 0.1851 - accuracy: 0.8648 - val_loss: 0.2001 - val_accuracy: 0.8627\n",
      "Epoch 126/150\n",
      "44/44 [==============================] - 0s 1ms/step - loss: 0.1715 - accuracy: 0.8864 - val_loss: 0.2165 - val_accuracy: 0.8284\n",
      "Epoch 127/150\n",
      "44/44 [==============================] - 0s 1ms/step - loss: 0.1641 - accuracy: 0.8875 - val_loss: 0.1987 - val_accuracy: 0.8627\n",
      "Epoch 128/150\n",
      "44/44 [==============================] - 0s 1ms/step - loss: 0.1609 - accuracy: 0.8875 - val_loss: 0.2042 - val_accuracy: 0.8521\n",
      "Epoch 129/150\n",
      "44/44 [==============================] - 0s 1ms/step - loss: 0.1762 - accuracy: 0.8648 - val_loss: 0.2095 - val_accuracy: 0.8686\n",
      "Epoch 130/150\n",
      "44/44 [==============================] - 0s 1ms/step - loss: 0.1655 - accuracy: 0.8705 - val_loss: 0.1881 - val_accuracy: 0.8675\n",
      "Epoch 131/150\n",
      "44/44 [==============================] - 0s 1ms/step - loss: 0.1611 - accuracy: 0.8932 - val_loss: 0.1835 - val_accuracy: 0.8663\n",
      "Epoch 132/150\n",
      "44/44 [==============================] - 0s 1ms/step - loss: 0.1586 - accuracy: 0.8864 - val_loss: 0.1807 - val_accuracy: 0.8710\n",
      "Epoch 133/150\n",
      "44/44 [==============================] - 0s 2ms/step - loss: 0.1574 - accuracy: 0.8909 - val_loss: 0.1822 - val_accuracy: 0.8746\n",
      "Epoch 134/150\n",
      "44/44 [==============================] - 0s 2ms/step - loss: 0.1632 - accuracy: 0.8761 - val_loss: 0.1793 - val_accuracy: 0.8639\n",
      "Epoch 135/150\n",
      "44/44 [==============================] - 0s 1ms/step - loss: 0.1588 - accuracy: 0.8898 - val_loss: 0.2620 - val_accuracy: 0.7574\n",
      "Epoch 136/150\n",
      "44/44 [==============================] - 0s 1ms/step - loss: 0.1714 - accuracy: 0.8773 - val_loss: 0.1881 - val_accuracy: 0.8580\n",
      "Epoch 137/150\n",
      "44/44 [==============================] - 0s 1ms/step - loss: 0.1582 - accuracy: 0.8818 - val_loss: 0.1810 - val_accuracy: 0.8604\n",
      "Epoch 138/150\n",
      "44/44 [==============================] - 0s 2ms/step - loss: 0.1604 - accuracy: 0.8739 - val_loss: 0.2090 - val_accuracy: 0.8710\n",
      "Epoch 139/150\n",
      "44/44 [==============================] - 0s 2ms/step - loss: 0.1633 - accuracy: 0.8693 - val_loss: 0.1954 - val_accuracy: 0.8675\n",
      "Epoch 140/150\n",
      "44/44 [==============================] - 0s 2ms/step - loss: 0.1538 - accuracy: 0.8773 - val_loss: 0.1824 - val_accuracy: 0.8497\n",
      "Epoch 141/150\n",
      "44/44 [==============================] - 0s 1ms/step - loss: 0.1559 - accuracy: 0.8852 - val_loss: 0.1778 - val_accuracy: 0.8580\n",
      "Epoch 142/150\n",
      "44/44 [==============================] - 0s 1ms/step - loss: 0.1543 - accuracy: 0.8852 - val_loss: 0.1900 - val_accuracy: 0.8686\n",
      "Epoch 143/150\n",
      "44/44 [==============================] - 0s 1ms/step - loss: 0.1509 - accuracy: 0.8977 - val_loss: 0.1806 - val_accuracy: 0.8698\n",
      "Epoch 144/150\n",
      "44/44 [==============================] - 0s 2ms/step - loss: 0.1563 - accuracy: 0.8830 - val_loss: 0.1921 - val_accuracy: 0.8663\n",
      "Epoch 145/150\n",
      "44/44 [==============================] - 0s 1ms/step - loss: 0.1613 - accuracy: 0.8670 - val_loss: 0.1957 - val_accuracy: 0.8544\n",
      "Epoch 146/150\n",
      "44/44 [==============================] - 0s 1ms/step - loss: 0.1604 - accuracy: 0.8761 - val_loss: 0.1834 - val_accuracy: 0.8663\n",
      "Epoch 147/150\n",
      "44/44 [==============================] - 0s 1ms/step - loss: 0.1584 - accuracy: 0.8739 - val_loss: 0.1757 - val_accuracy: 0.8556\n",
      "Epoch 148/150\n",
      "44/44 [==============================] - 0s 1ms/step - loss: 0.1484 - accuracy: 0.8864 - val_loss: 0.1919 - val_accuracy: 0.8710\n",
      "Epoch 149/150\n",
      "44/44 [==============================] - 0s 1ms/step - loss: 0.1502 - accuracy: 0.8909 - val_loss: 0.1791 - val_accuracy: 0.8651\n",
      "Epoch 150/150\n",
      "44/44 [==============================] - 0s 1ms/step - loss: 0.1492 - accuracy: 0.8898 - val_loss: 0.1931 - val_accuracy: 0.8284\n",
      "WARNING:tensorflow:From /home/sanjay/.local/lib/python3.7/site-packages/tensorflow/python/training/tracking/tracking.py:111: Model.state_updates (from tensorflow.python.keras.engine.training) is deprecated and will be removed in a future version.\n",
      "Instructions for updating:\n",
      "This property should not be used in TensorFlow 2.0, as updates are applied automatically.\n",
      "WARNING:tensorflow:From /home/sanjay/.local/lib/python3.7/site-packages/tensorflow/python/training/tracking/tracking.py:111: Layer.updates (from tensorflow.python.keras.engine.base_layer) is deprecated and will be removed in a future version.\n",
      "Instructions for updating:\n",
      "This property should not be used in TensorFlow 2.0, as updates are applied automatically.\n",
      "INFO:tensorflow:Assets written to: modelSave/assets\n"
     ]
    }
   ],
   "source": [
    "#defifne a sequentail Model\n",
    "model = Sequential()\n",
    "#Hidden Layer-1\n",
    "model.add(Dense(100,activation='relu',input_dim=5,kernel_regularizer=l2(0.01)))\n",
    "model.add(Dropout(0.3, noise_shape=None, seed=None))\n",
    "\n",
    "#Hidden Layer-2\n",
    "model.add(Dense(100,activation = 'relu',kernel_regularizer=l2(0.01)))\n",
    "model.add(Dropout(0.3, noise_shape=None, seed=None))\n",
    "\n",
    "#Output layer\n",
    "model.add(Dense(6,activation='sigmoid'))\n",
    "model.compile(loss='binary_crossentropy',optimizer='adam',metrics=['accuracy'])\n",
    "model_output = model.fit(x_train,y_train,epochs=150,batch_size=20,verbose=1,validation_data=(x_test,y_test),)\n",
    "model.save('modelSave')\n"
   ]
  },
  {
   "cell_type": "code",
   "execution_count": 4,
   "metadata": {
    "colab": {
     "base_uri": "https://localhost:8080/",
     "height": 329
    },
    "colab_type": "code",
    "executionInfo": {
     "elapsed": 288,
     "status": "ok",
     "timestamp": 1582605199619,
     "user": {
      "displayName": "Srinivasan Seshan",
      "photoUrl": "",
      "userId": "06632033567786526417"
     },
     "user_tz": 300
    },
    "id": "TkbYdVzzClzz",
    "outputId": "f93d86c4-348b-45e4-e356-982599e76a31"
   },
   "outputs": [
    {
     "name": "stdout",
     "output_type": "stream",
     "text": [
      "Model: \"sequential\"\n",
      "_________________________________________________________________\n",
      "Layer (type)                 Output Shape              Param #   \n",
      "=================================================================\n",
      "dense (Dense)                (None, 100)               600       \n",
      "_________________________________________________________________\n",
      "dropout (Dropout)            (None, 100)               0         \n",
      "_________________________________________________________________\n",
      "dense_1 (Dense)              (None, 100)               10100     \n",
      "_________________________________________________________________\n",
      "dropout_1 (Dropout)          (None, 100)               0         \n",
      "_________________________________________________________________\n",
      "dense_2 (Dense)              (None, 6)                 606       \n",
      "=================================================================\n",
      "Total params: 11,306\n",
      "Trainable params: 11,306\n",
      "Non-trainable params: 0\n",
      "_________________________________________________________________\n"
     ]
    }
   ],
   "source": [
    "model = keras.models.load_model('modelSave')\n",
    "model.summary()\n"
   ]
  },
  {
   "cell_type": "code",
   "execution_count": 5,
   "metadata": {
    "colab": {
     "base_uri": "https://localhost:8080/",
     "height": 139
    },
    "colab_type": "code",
    "executionInfo": {
     "elapsed": 480,
     "status": "ok",
     "timestamp": 1582609102373,
     "user": {
      "displayName": "Srinivasan Seshan",
      "photoUrl": "",
      "userId": "06632033567786526417"
     },
     "user_tz": 300
    },
    "id": "c3yjoJHWnDmN",
    "outputId": "86c43d5a-8bf1-489e-9649-b57c0eb1fae6"
   },
   "outputs": [
    {
     "name": "stdout",
     "output_type": "stream",
     "text": [
      "Training Accuracy :  0.7411287860075633\n",
      "Validation Accuracy :  0.727873765428861\n"
     ]
    },
    {
     "data": {
      "text/plain": [
       "array([[262,   0,   0,   2,   0],\n",
       "       [  0, 122,   0,   0,   0],\n",
       "       [  0,   0, 185,   0,   0],\n",
       "       [  0,   0,  34, 130,   0],\n",
       "       [ 49,  21,  20,  19,   1]])"
      ]
     },
     "execution_count": 5,
     "metadata": {},
     "output_type": "execute_result"
    }
   ],
   "source": [
    "print('Training Accuracy : ' , np.mean(model_output.history[\"accuracy\"]))\n",
    "print('Validation Accuracy : ' , np.mean(model_output.history[\"val_accuracy\"]))\n",
    "y_pred = model.predict(x_test)\n",
    "rounded = [np.argmax(x) for x in y_pred]\n",
    "with open('predict.txt', 'w') as f:\n",
    "    i=0\n",
    "#     print(x_data)\n",
    "#     print(y_test)\n",
    "#     print(rounded)\n",
    "    for item in rounded:\n",
    "        f.write(str(item)+\"\\n\")\n",
    "        i=i+1\n",
    "y_testComp = [np.argmax(x) for x in y_test]\n",
    "confusion_matrix(y_testComp,rounded)\n"
   ]
  },
  {
   "cell_type": "code",
   "execution_count": 6,
   "metadata": {
    "colab": {
     "base_uri": "https://localhost:8080/",
     "height": 573
    },
    "colab_type": "code",
    "executionInfo": {
     "elapsed": 661,
     "status": "ok",
     "timestamp": 1582611027779,
     "user": {
      "displayName": "Srinivasan Seshan",
      "photoUrl": "",
      "userId": "06632033567786526417"
     },
     "user_tz": 300
    },
    "id": "tmU9xIVEnHPq",
    "outputId": "f0f908fb-a98b-4d2d-902d-da480677aa6c"
   },
   "outputs": [
    {
     "data": {
      "image/png": "[encoded data removed]",
      "text/plain": [
       "<Figure size 432x288 with 1 Axes>"
      ]
     },
     "metadata": {
      "needs_background": "light"
     },
     "output_type": "display_data"
    },
    {
     "data": {
      "image/png": "[encoded data removed]",
      "text/plain": [
       "<Figure size 432x288 with 1 Axes>"
      ]
     },
     "metadata": {
      "needs_background": "light"
     },
     "output_type": "display_data"
    }
   ],
   "source": [
    "# Plot training & validation accuracy values\n",
    "plt.plot(model_output.history['accuracy'])\n",
    "plt.plot(model_output.history['val_accuracy'])\n",
    "plt.title('Model Accuracy')\n",
    "plt.ylabel('Accuracy')\n",
    "plt.xlabel('Epoch')\n",
    "plt.legend(['Train', 'Test'], loc='upper left')\n",
    "plt.show()\n",
    "\n",
    "# Plot training & validation loss values\n",
    "plt.plot(model_output.history['loss'])\n",
    "plt.plot(model_output.history['val_loss'])\n",
    "plt.title('Model Loss')\n",
    "plt.ylabel('Loss')\n",
    "plt.xlabel('Epoch')\n",
    "plt.legend(['Train', 'Test'], loc='upper left')\n",
    "plt.show()"
   ]
  },
  {
   "cell_type": "code",
   "execution_count": 7,
   "metadata": {
    "colab": {
     "base_uri": "https://localhost:8080/",
     "height": 89
    },
    "colab_type": "code",
    "executionInfo": {
     "elapsed": 347,
     "status": "ok",
     "timestamp": 1582511495326,
     "user": {
      "displayName": "Srinivasan Seshan",
      "photoUrl": "",
      "userId": "06632033567786526417"
     },
     "user_tz": 300
    },
    "id": "Ndrk72zLnQnH",
    "outputId": "fe874f09-50ab-4d21-df66-c19a76a11cce"
   },
   "outputs": [
    {
     "data": {
      "text/plain": [
       "array([0.84244373, 0.85314685, 0.77405858, 0.86092715, 1.        ])"
      ]
     },
     "execution_count": 7,
     "metadata": {},
     "output_type": "execute_result"
    }
   ],
   "source": [
    "precision_score(y_testComp,rounded,average=None)"
   ]
  },
  {
   "cell_type": "code",
   "execution_count": 8,
   "metadata": {
    "colab": {
     "base_uri": "https://localhost:8080/",
     "height": 104
    },
    "colab_type": "code",
    "executionInfo": {
     "elapsed": 382,
     "status": "ok",
     "timestamp": 1582612311267,
     "user": {
      "displayName": "Srinivasan Seshan",
      "photoUrl": "",
      "userId": "06632033567786526417"
     },
     "user_tz": 300
    },
    "id": "WuEZmqdhoIUd",
    "outputId": "c18986b1-a020-4576-e364-ff18504ed115"
   },
   "outputs": [
    {
     "data": {
      "text/plain": [
       "array([[655,   0,   0,   2,   0],\n",
       "       [  0, 214,   0,   0,   0],\n",
       "       [  0,   0, 349,   0,   0],\n",
       "       [  0,   0,  34, 274,   0],\n",
       "       [ 73,  29,  52,  37,   6]])"
      ]
     },
     "execution_count": 8,
     "metadata": {},
     "output_type": "execute_result"
    }
   ],
   "source": [
    "testfile = \"splicedDataML/mix6ml\"\n",
    "new_dataX = pd.read_csv(testfile+\"X.csv\",names=['s1','s2','s3','s4','s5'])\n",
    "new_dataYR = np.genfromtxt(testfile+\"Y.csv\",delimiter=',',dtype=int)\n",
    "new_dataY = keras.utils.to_categorical(new_dataYR, num_classes)\n",
    "new_dataX.shape,new_dataY.shape\n",
    "new_predYT = model.predict(new_dataX)\n",
    "new_predY = [np.argmax(x) for x in new_predYT]\n",
    "new_predYComp = [np.argmax(x) for x in new_dataY]\n",
    "confusion_matrix(new_predYComp,new_predY)"
   ]
  },
  {
   "cell_type": "code",
   "execution_count": 9,
   "metadata": {
    "colab": {
     "base_uri": "https://localhost:8080/",
     "height": 35
    },
    "colab_type": "code",
    "executionInfo": {
     "elapsed": 367,
     "status": "ok",
     "timestamp": 1582519272293,
     "user": {
      "displayName": "Srinivasan Seshan",
      "photoUrl": "",
      "userId": "06632033567786526417"
     },
     "user_tz": 300
    },
    "id": "aZxPQnds0FSL",
    "outputId": "9bd60e32-3c10-4a86-dff0-44f98ecd6511"
   },
   "outputs": [
    {
     "data": {
      "text/plain": [
       "((1000, 5), (1000, 6), (725, 5), (725, 6), (1725, 5), (1725, 6))"
      ]
     },
     "execution_count": 9,
     "metadata": {},
     "output_type": "execute_result"
    }
   ],
   "source": [
    "datafile = \"splicedDataML/mix6ml\"\n",
    "\n",
    "test = np.genfromtxt(datafile+\"X.csv\",delimiter=',')\n",
    "y_dataR = np.genfromtxt(datafile+\"Y.csv\",delimiter=',',dtype=int)\n",
    "num_classes = np.max(y_dataR) + 1\n",
    "y_data = keras.utils.to_categorical(y_dataR, num_classes)\n",
    "x_trainT = test[:1000]\n",
    "x_testT = test[1000:]\n",
    "y_trainT = y_data[:1000]\n",
    "y_testT = y_data[1000:]\n",
    "x_trainT.shape,y_trainT.shape,x_testT.shape,y_testT.shape, test.shape, y_data.shape\n",
    "\n"
   ]
  },
  {
   "cell_type": "code",
   "execution_count": 10,
   "metadata": {
    "colab": {
     "base_uri": "https://localhost:8080/",
     "height": 35
    },
    "colab_type": "code",
    "executionInfo": {
     "elapsed": 362,
     "status": "ok",
     "timestamp": 1582519012191,
     "user": {
      "displayName": "Srinivasan Seshan",
      "photoUrl": "",
      "userId": "06632033567786526417"
     },
     "user_tz": 300
    },
    "id": "yW9dj2wbXw1W",
    "outputId": "bb1625e9-2ec3-400a-991c-131e4336b63a"
   },
   "outputs": [
    {
     "data": {
      "text/plain": [
       "(1725, 5)"
      ]
     },
     "execution_count": 10,
     "metadata": {},
     "output_type": "execute_result"
    }
   ],
   "source": [
    "x_data.shape"
   ]
  },
  {
   "cell_type": "code",
   "execution_count": 11,
   "metadata": {
    "colab": {
     "base_uri": "https://localhost:8080/",
     "height": 35
    },
    "colab_type": "code",
    "executionInfo": {
     "elapsed": 330,
     "status": "ok",
     "timestamp": 1582519294514,
     "user": {
      "displayName": "Srinivasan Seshan",
      "photoUrl": "",
      "userId": "06632033567786526417"
     },
     "user_tz": 300
    },
    "id": "Ao3NANmYV116",
    "outputId": "eb62765f-0296-423a-d73e-ff4a7e90688c"
   },
   "outputs": [
    {
     "data": {
      "text/plain": [
       "((1000, 1, 5), (1000, 1, 6), (725, 1, 5), (725, 1, 6), (1725, 5), (1725, 6))"
      ]
     },
     "execution_count": 11,
     "metadata": {},
     "output_type": "execute_result"
    }
   ],
   "source": [
    "x_data = test.reshape(test.shape[0],1,5)\n",
    "x_train = x_trainT.reshape(x_trainT.shape[0],1,5)\n",
    "x_test = x_testT.reshape(x_testT.shape[0],1,5)\n",
    "y_train = y_trainT.reshape(y_trainT.shape[0],1,6)\n",
    "y_test = y_testT.reshape(y_testT.shape[0],1,6)\n",
    "x_train.shape,y_train.shape,x_test.shape,y_test.shape, test.shape, y_data.shape\n"
   ]
  },
  {
   "cell_type": "code",
   "execution_count": 12,
   "metadata": {
    "colab": {
     "base_uri": "https://localhost:8080/",
     "height": 35
    },
    "colab_type": "code",
    "executionInfo": {
     "elapsed": 354,
     "status": "ok",
     "timestamp": 1582518945726,
     "user": {
      "displayName": "Srinivasan Seshan",
      "photoUrl": "",
      "userId": "06632033567786526417"
     },
     "user_tz": 300
    },
    "id": "uAXxVZNiXFzN",
    "outputId": "93fe49ab-279c-40ac-9f18-30e07e70bcfa"
   },
   "outputs": [
    {
     "data": {
      "text/plain": [
       "(1725, 1, 5)"
      ]
     },
     "execution_count": 12,
     "metadata": {},
     "output_type": "execute_result"
    }
   ],
   "source": [
    "x_data.shape"
   ]
  },
  {
   "cell_type": "code",
   "execution_count": 13,
   "metadata": {
    "colab": {
     "base_uri": "https://localhost:8080/",
     "height": 35
    },
    "colab_type": "code",
    "executionInfo": {
     "elapsed": 360,
     "status": "ok",
     "timestamp": 1582517538337,
     "user": {
      "displayName": "Srinivasan Seshan",
      "photoUrl": "",
      "userId": "06632033567786526417"
     },
     "user_tz": 300
    },
    "id": "trVHvxr4YNK4",
    "outputId": "3f461ebf-a805-41de-d5a2-b500df6fbd63"
   },
   "outputs": [
    {
     "name": "stdout",
     "output_type": "stream",
     "text": [
      "15\n"
     ]
    }
   ],
   "source": [
    "samples = list()\n",
    "length = 115\n",
    "for i in range(0,x_data.shape[0],length):\n",
    "\t# grab from i to i + 200\n",
    "\tsample = x_data[i:i+length]\n",
    "\tsamples.append(sample)\n",
    "print(len(samples))"
   ]
  },
  {
   "cell_type": "code",
   "execution_count": 14,
   "metadata": {
    "colab": {
     "base_uri": "https://localhost:8080/",
     "height": 1000
    },
    "colab_type": "code",
    "executionInfo": {
     "elapsed": 8845,
     "status": "ok",
     "timestamp": 1582519336534,
     "user": {
      "displayName": "Srinivasan Seshan",
      "photoUrl": "",
      "userId": "06632033567786526417"
     },
     "user_tz": 300
    },
    "id": "czYaTT7WVeSF",
    "outputId": "c181643e-188b-493f-b803-87f8c9c91aa2"
   },
   "outputs": [
    {
     "name": "stdout",
     "output_type": "stream",
     "text": [
      "Epoch 1/50\n",
      "14/14 - 0s - loss: 0.5421 - accuracy: 0.4420 - val_loss: 0.5161 - val_accuracy: 0.3641\n",
      "Epoch 2/50\n",
      "14/14 - 0s - loss: 0.4857 - accuracy: 0.3930 - val_loss: 0.4856 - val_accuracy: 0.3641\n",
      "Epoch 3/50\n",
      "14/14 - 0s - loss: 0.4540 - accuracy: 0.3930 - val_loss: 0.4652 - val_accuracy: 0.3641\n",
      "Epoch 4/50\n",
      "14/14 - 0s - loss: 0.4341 - accuracy: 0.3930 - val_loss: 0.4502 - val_accuracy: 0.3641\n",
      "Epoch 5/50\n",
      "14/14 - 0s - loss: 0.4187 - accuracy: 0.3930 - val_loss: 0.4333 - val_accuracy: 0.3641\n",
      "Epoch 6/50\n",
      "14/14 - 0s - loss: 0.4035 - accuracy: 0.3930 - val_loss: 0.4296 - val_accuracy: 0.3641\n",
      "Epoch 7/50\n",
      "14/14 - 0s - loss: 0.3978 - accuracy: 0.3930 - val_loss: 0.4255 - val_accuracy: 0.3641\n",
      "Epoch 8/50\n",
      "14/14 - 0s - loss: 0.3926 - accuracy: 0.3930 - val_loss: 0.4214 - val_accuracy: 0.3641\n",
      "Epoch 9/50\n",
      "14/14 - 0s - loss: 0.3880 - accuracy: 0.3930 - val_loss: 0.4177 - val_accuracy: 0.3641\n",
      "Epoch 10/50\n",
      "14/14 - 0s - loss: 0.3860 - accuracy: 0.3930 - val_loss: 0.4186 - val_accuracy: 0.3641\n",
      "Epoch 11/50\n",
      "14/14 - 0s - loss: 0.3851 - accuracy: 0.3930 - val_loss: 0.4160 - val_accuracy: 0.3641\n",
      "Epoch 12/50\n",
      "14/14 - 0s - loss: 0.3816 - accuracy: 0.3930 - val_loss: 0.4142 - val_accuracy: 0.3641\n",
      "Epoch 13/50\n",
      "14/14 - 0s - loss: 0.3794 - accuracy: 0.3930 - val_loss: 0.4129 - val_accuracy: 0.3641\n",
      "Epoch 14/50\n",
      "14/14 - 0s - loss: 0.3771 - accuracy: 0.3930 - val_loss: 0.4117 - val_accuracy: 0.3641\n",
      "Epoch 15/50\n",
      "14/14 - 0s - loss: 0.3757 - accuracy: 0.3930 - val_loss: 0.4106 - val_accuracy: 0.3641\n",
      "Epoch 16/50\n",
      "14/14 - 0s - loss: 0.3735 - accuracy: 0.3930 - val_loss: 0.4101 - val_accuracy: 0.3641\n",
      "Epoch 17/50\n",
      "14/14 - 0s - loss: 0.3717 - accuracy: 0.4500 - val_loss: 0.4090 - val_accuracy: 0.3641\n",
      "Epoch 18/50\n",
      "14/14 - 0s - loss: 0.3704 - accuracy: 0.5670 - val_loss: 0.4082 - val_accuracy: 0.3779\n",
      "Epoch 19/50\n",
      "14/14 - 0s - loss: 0.3844 - accuracy: 0.4850 - val_loss: 0.4062 - val_accuracy: 0.3641\n",
      "Epoch 20/50\n",
      "14/14 - 0s - loss: 0.3831 - accuracy: 0.3930 - val_loss: 0.4077 - val_accuracy: 0.3641\n",
      "Epoch 21/50\n",
      "14/14 - 0s - loss: 0.3803 - accuracy: 0.3930 - val_loss: 0.4053 - val_accuracy: 0.3641\n",
      "Epoch 22/50\n",
      "14/14 - 0s - loss: 0.3786 - accuracy: 0.3930 - val_loss: 0.4065 - val_accuracy: 0.3641\n",
      "Epoch 23/50\n",
      "14/14 - 0s - loss: 0.3792 - accuracy: 0.3930 - val_loss: 0.4083 - val_accuracy: 0.3641\n",
      "Epoch 24/50\n",
      "14/14 - 0s - loss: 0.3774 - accuracy: 0.3930 - val_loss: 0.4074 - val_accuracy: 0.3641\n",
      "Epoch 25/50\n",
      "14/14 - 0s - loss: 0.3749 - accuracy: 0.3930 - val_loss: 0.4062 - val_accuracy: 0.3641\n",
      "Epoch 26/50\n",
      "14/14 - 0s - loss: 0.3757 - accuracy: 0.3930 - val_loss: 0.4081 - val_accuracy: 0.3641\n",
      "Epoch 27/50\n",
      "14/14 - 0s - loss: 0.3742 - accuracy: 0.3930 - val_loss: 0.4073 - val_accuracy: 0.3641\n",
      "Epoch 28/50\n",
      "14/14 - 0s - loss: 0.3737 - accuracy: 0.3930 - val_loss: 0.4066 - val_accuracy: 0.3641\n",
      "Epoch 29/50\n",
      "14/14 - 0s - loss: 0.3723 - accuracy: 0.3930 - val_loss: 0.4069 - val_accuracy: 0.3641\n",
      "Epoch 30/50\n",
      "14/14 - 0s - loss: 0.3712 - accuracy: 0.3930 - val_loss: 0.4054 - val_accuracy: 0.3641\n",
      "Epoch 31/50\n",
      "14/14 - 0s - loss: 0.3690 - accuracy: 0.3930 - val_loss: 0.4037 - val_accuracy: 0.3641\n",
      "Epoch 32/50\n",
      "14/14 - 0s - loss: 0.3694 - accuracy: 0.3930 - val_loss: 0.4064 - val_accuracy: 0.3641\n",
      "Epoch 33/50\n",
      "14/14 - 0s - loss: 0.3687 - accuracy: 0.3930 - val_loss: 0.4061 - val_accuracy: 0.3683\n",
      "Epoch 34/50\n",
      "14/14 - 0s - loss: 0.3655 - accuracy: 0.5970 - val_loss: 0.4056 - val_accuracy: 0.3779\n",
      "Epoch 35/50\n",
      "14/14 - 0s - loss: 0.3652 - accuracy: 0.5970 - val_loss: 0.4069 - val_accuracy: 0.3779\n",
      "Epoch 36/50\n",
      "14/14 - 0s - loss: 0.3669 - accuracy: 0.5970 - val_loss: 0.4062 - val_accuracy: 0.3779\n",
      "Epoch 37/50\n",
      "14/14 - 0s - loss: 0.3659 - accuracy: 0.5970 - val_loss: 0.4049 - val_accuracy: 0.3779\n",
      "Epoch 38/50\n",
      "14/14 - 0s - loss: 0.3645 - accuracy: 0.5970 - val_loss: 0.4029 - val_accuracy: 0.3779\n",
      "Epoch 39/50\n",
      "14/14 - 0s - loss: 0.3643 - accuracy: 0.5970 - val_loss: 0.4047 - val_accuracy: 0.3779\n",
      "Epoch 40/50\n",
      "14/14 - 0s - loss: 0.3634 - accuracy: 0.5970 - val_loss: 0.4042 - val_accuracy: 0.3779\n",
      "Epoch 41/50\n",
      "14/14 - 0s - loss: 0.3626 - accuracy: 0.5970 - val_loss: 0.4039 - val_accuracy: 0.3779\n",
      "Epoch 42/50\n",
      "14/14 - 0s - loss: 0.3618 - accuracy: 0.5970 - val_loss: 0.4035 - val_accuracy: 0.3779\n",
      "Epoch 43/50\n",
      "14/14 - 0s - loss: 0.3610 - accuracy: 0.5970 - val_loss: 0.4029 - val_accuracy: 0.3779\n",
      "Epoch 44/50\n",
      "14/14 - 0s - loss: 0.3597 - accuracy: 0.5970 - val_loss: 0.4028 - val_accuracy: 0.3779\n",
      "Epoch 45/50\n",
      "14/14 - 0s - loss: 0.3593 - accuracy: 0.5970 - val_loss: 0.4015 - val_accuracy: 0.3779\n",
      "Epoch 46/50\n",
      "14/14 - 0s - loss: 0.3581 - accuracy: 0.5970 - val_loss: 0.3988 - val_accuracy: 0.3779\n",
      "Epoch 47/50\n",
      "14/14 - 0s - loss: 0.3578 - accuracy: 0.5970 - val_loss: 0.4015 - val_accuracy: 0.3779\n",
      "Epoch 48/50\n",
      "14/14 - 0s - loss: 0.3571 - accuracy: 0.5970 - val_loss: 0.3971 - val_accuracy: 0.3779\n",
      "Epoch 49/50\n",
      "14/14 - 0s - loss: 0.3548 - accuracy: 0.5970 - val_loss: 0.3972 - val_accuracy: 0.3779\n",
      "Epoch 50/50\n",
      "14/14 - 0s - loss: 0.3545 - accuracy: 0.5970 - val_loss: 0.3965 - val_accuracy: 0.3779\n"
     ]
    }
   ],
   "source": [
    "#Hidden Layer-1\n",
    "model = Sequential()\n",
    "model.add(LSTM(128, input_shape=(x_train.shape[1], x_train.shape[2])))\n",
    "model.add(Dense(6, activation='sigmoid'))\n",
    "model.compile(loss='binary_crossentropy',optimizer='adam',metrics=['accuracy'])\n",
    "model_output = model.fit(x_train, y_trainT, epochs=50, batch_size=72, validation_data=(x_test, y_testT), verbose=2, shuffle=False)"
   ]
  },
  {
   "cell_type": "code",
   "execution_count": 15,
   "metadata": {
    "colab": {},
    "colab_type": "code",
    "id": "9uagCKKrbdJ9"
   },
   "outputs": [
    {
     "ename": "ValueError",
     "evalue": "Input 0 of layer lstm_1 is incompatible with the layer: expected ndim=3, found ndim=2. Full shape received: [None, 6]",
     "output_type": "error",
     "traceback": [
      "\u001b[0;31m---------------------------------------------------------------------------\u001b[0m",
      "\u001b[0;31mValueError\u001b[0m                                Traceback (most recent call last)",
      "\u001b[0;32m<ipython-input-15-0daa300e1909>\u001b[0m in \u001b[0;36m<module>\u001b[0;34m\u001b[0m\n\u001b[0;32m----> 1\u001b[0;31m \u001b[0mmodel\u001b[0m\u001b[0;34m.\u001b[0m\u001b[0madd\u001b[0m\u001b[0;34m(\u001b[0m\u001b[0mLSTM\u001b[0m\u001b[0;34m(\u001b[0m\u001b[0;36m32\u001b[0m\u001b[0;34m,\u001b[0m \u001b[0minput_shape\u001b[0m\u001b[0;34m=\u001b[0m\u001b[0;34m(\u001b[0m\u001b[0mx_data\u001b[0m\u001b[0;34m.\u001b[0m\u001b[0mshape\u001b[0m\u001b[0;34m[\u001b[0m\u001b[0;36m1\u001b[0m\u001b[0;34m]\u001b[0m\u001b[0;34m,\u001b[0m \u001b[0mx_data\u001b[0m\u001b[0;34m.\u001b[0m\u001b[0mshape\u001b[0m\u001b[0;34m[\u001b[0m\u001b[0;36m2\u001b[0m\u001b[0;34m]\u001b[0m\u001b[0;34m)\u001b[0m\u001b[0;34m)\u001b[0m\u001b[0;34m)\u001b[0m\u001b[0;34m\u001b[0m\u001b[0;34m\u001b[0m\u001b[0m\n\u001b[0m\u001b[1;32m      2\u001b[0m \u001b[0mmodel\u001b[0m\u001b[0;34m.\u001b[0m\u001b[0madd\u001b[0m\u001b[0;34m(\u001b[0m\u001b[0mDense\u001b[0m\u001b[0;34m(\u001b[0m\u001b[0;36m6\u001b[0m\u001b[0;34m,\u001b[0m \u001b[0mactivation\u001b[0m\u001b[0;34m=\u001b[0m\u001b[0;34m'sigmoid'\u001b[0m\u001b[0;34m)\u001b[0m\u001b[0;34m)\u001b[0m\u001b[0;34m\u001b[0m\u001b[0;34m\u001b[0m\u001b[0m\n\u001b[1;32m      3\u001b[0m \u001b[0mmodel\u001b[0m\u001b[0;34m.\u001b[0m\u001b[0mcompile\u001b[0m\u001b[0;34m(\u001b[0m\u001b[0mloss\u001b[0m\u001b[0;34m=\u001b[0m\u001b[0;34m'binary_crossentropy'\u001b[0m\u001b[0;34m,\u001b[0m\u001b[0moptimizer\u001b[0m\u001b[0;34m=\u001b[0m\u001b[0;34m'adam'\u001b[0m\u001b[0;34m,\u001b[0m\u001b[0mmetrics\u001b[0m\u001b[0;34m=\u001b[0m\u001b[0;34m[\u001b[0m\u001b[0;34m'accuracy'\u001b[0m\u001b[0;34m]\u001b[0m\u001b[0;34m)\u001b[0m\u001b[0;34m\u001b[0m\u001b[0;34m\u001b[0m\u001b[0m\n\u001b[1;32m      4\u001b[0m \u001b[0mmodel_output\u001b[0m \u001b[0;34m=\u001b[0m \u001b[0mmodel\u001b[0m\u001b[0;34m.\u001b[0m\u001b[0mfit\u001b[0m\u001b[0;34m(\u001b[0m\u001b[0mx_data\u001b[0m\u001b[0;34m,\u001b[0m \u001b[0my_data\u001b[0m\u001b[0;34m,\u001b[0m \u001b[0mepochs\u001b[0m\u001b[0;34m=\u001b[0m\u001b[0;36m50\u001b[0m\u001b[0;34m,\u001b[0m \u001b[0mbatch_size\u001b[0m\u001b[0;34m=\u001b[0m\u001b[0;36m72\u001b[0m\u001b[0;34m,\u001b[0m \u001b[0mverbose\u001b[0m\u001b[0;34m=\u001b[0m\u001b[0;36m2\u001b[0m\u001b[0;34m,\u001b[0m \u001b[0mshuffle\u001b[0m\u001b[0;34m=\u001b[0m\u001b[0;32mFalse\u001b[0m\u001b[0;34m)\u001b[0m\u001b[0;34m\u001b[0m\u001b[0;34m\u001b[0m\u001b[0m\n",
      "\u001b[0;32m~/.local/lib/python3.7/site-packages/tensorflow/python/training/tracking/base.py\u001b[0m in \u001b[0;36m_method_wrapper\u001b[0;34m(self, *args, **kwargs)\u001b[0m\n\u001b[1;32m    457\u001b[0m     \u001b[0mself\u001b[0m\u001b[0;34m.\u001b[0m\u001b[0m_self_setattr_tracking\u001b[0m \u001b[0;34m=\u001b[0m \u001b[0;32mFalse\u001b[0m  \u001b[0;31m# pylint: disable=protected-access\u001b[0m\u001b[0;34m\u001b[0m\u001b[0;34m\u001b[0m\u001b[0m\n\u001b[1;32m    458\u001b[0m     \u001b[0;32mtry\u001b[0m\u001b[0;34m:\u001b[0m\u001b[0;34m\u001b[0m\u001b[0;34m\u001b[0m\u001b[0m\n\u001b[0;32m--> 459\u001b[0;31m       \u001b[0mresult\u001b[0m \u001b[0;34m=\u001b[0m \u001b[0mmethod\u001b[0m\u001b[0;34m(\u001b[0m\u001b[0mself\u001b[0m\u001b[0;34m,\u001b[0m \u001b[0;34m*\u001b[0m\u001b[0margs\u001b[0m\u001b[0;34m,\u001b[0m \u001b[0;34m**\u001b[0m\u001b[0mkwargs\u001b[0m\u001b[0;34m)\u001b[0m\u001b[0;34m\u001b[0m\u001b[0;34m\u001b[0m\u001b[0m\n\u001b[0m\u001b[1;32m    460\u001b[0m     \u001b[0;32mfinally\u001b[0m\u001b[0;34m:\u001b[0m\u001b[0;34m\u001b[0m\u001b[0;34m\u001b[0m\u001b[0m\n\u001b[1;32m    461\u001b[0m       \u001b[0mself\u001b[0m\u001b[0;34m.\u001b[0m\u001b[0m_self_setattr_tracking\u001b[0m \u001b[0;34m=\u001b[0m \u001b[0mprevious_value\u001b[0m  \u001b[0;31m# pylint: disable=protected-access\u001b[0m\u001b[0;34m\u001b[0m\u001b[0;34m\u001b[0m\u001b[0m\n",
      "\u001b[0;32m~/.local/lib/python3.7/site-packages/tensorflow/python/keras/engine/sequential.py\u001b[0m in \u001b[0;36madd\u001b[0;34m(self, layer)\u001b[0m\n\u001b[1;32m    219\u001b[0m       \u001b[0;31m# If the model is being built continuously on top of an input layer:\u001b[0m\u001b[0;34m\u001b[0m\u001b[0;34m\u001b[0m\u001b[0;34m\u001b[0m\u001b[0m\n\u001b[1;32m    220\u001b[0m       \u001b[0;31m# refresh its output.\u001b[0m\u001b[0;34m\u001b[0m\u001b[0;34m\u001b[0m\u001b[0;34m\u001b[0m\u001b[0m\n\u001b[0;32m--> 221\u001b[0;31m       \u001b[0moutput_tensor\u001b[0m \u001b[0;34m=\u001b[0m \u001b[0mlayer\u001b[0m\u001b[0;34m(\u001b[0m\u001b[0mself\u001b[0m\u001b[0;34m.\u001b[0m\u001b[0moutputs\u001b[0m\u001b[0;34m[\u001b[0m\u001b[0;36m0\u001b[0m\u001b[0;34m]\u001b[0m\u001b[0;34m)\u001b[0m\u001b[0;34m\u001b[0m\u001b[0;34m\u001b[0m\u001b[0m\n\u001b[0m\u001b[1;32m    222\u001b[0m       \u001b[0;32mif\u001b[0m \u001b[0mlen\u001b[0m\u001b[0;34m(\u001b[0m\u001b[0mnest\u001b[0m\u001b[0;34m.\u001b[0m\u001b[0mflatten\u001b[0m\u001b[0;34m(\u001b[0m\u001b[0moutput_tensor\u001b[0m\u001b[0;34m)\u001b[0m\u001b[0;34m)\u001b[0m \u001b[0;34m!=\u001b[0m \u001b[0;36m1\u001b[0m\u001b[0;34m:\u001b[0m\u001b[0;34m\u001b[0m\u001b[0;34m\u001b[0m\u001b[0m\n\u001b[1;32m    223\u001b[0m         \u001b[0;32mraise\u001b[0m \u001b[0mValueError\u001b[0m\u001b[0;34m(\u001b[0m\u001b[0mSINGLE_LAYER_OUTPUT_ERROR_MSG\u001b[0m\u001b[0;34m)\u001b[0m\u001b[0;34m\u001b[0m\u001b[0;34m\u001b[0m\u001b[0m\n",
      "\u001b[0;32m~/.local/lib/python3.7/site-packages/tensorflow/python/keras/layers/recurrent.py\u001b[0m in \u001b[0;36m__call__\u001b[0;34m(self, inputs, initial_state, constants, **kwargs)\u001b[0m\n\u001b[1;32m    662\u001b[0m \u001b[0;34m\u001b[0m\u001b[0m\n\u001b[1;32m    663\u001b[0m     \u001b[0;32mif\u001b[0m \u001b[0minitial_state\u001b[0m \u001b[0;32mis\u001b[0m \u001b[0;32mNone\u001b[0m \u001b[0;32mand\u001b[0m \u001b[0mconstants\u001b[0m \u001b[0;32mis\u001b[0m \u001b[0;32mNone\u001b[0m\u001b[0;34m:\u001b[0m\u001b[0;34m\u001b[0m\u001b[0;34m\u001b[0m\u001b[0m\n\u001b[0;32m--> 664\u001b[0;31m       \u001b[0;32mreturn\u001b[0m \u001b[0msuper\u001b[0m\u001b[0;34m(\u001b[0m\u001b[0mRNN\u001b[0m\u001b[0;34m,\u001b[0m \u001b[0mself\u001b[0m\u001b[0;34m)\u001b[0m\u001b[0;34m.\u001b[0m\u001b[0m__call__\u001b[0m\u001b[0;34m(\u001b[0m\u001b[0minputs\u001b[0m\u001b[0;34m,\u001b[0m \u001b[0;34m**\u001b[0m\u001b[0mkwargs\u001b[0m\u001b[0;34m)\u001b[0m\u001b[0;34m\u001b[0m\u001b[0;34m\u001b[0m\u001b[0m\n\u001b[0m\u001b[1;32m    665\u001b[0m \u001b[0;34m\u001b[0m\u001b[0m\n\u001b[1;32m    666\u001b[0m     \u001b[0;31m# If any of `initial_state` or `constants` are specified and are Keras\u001b[0m\u001b[0;34m\u001b[0m\u001b[0;34m\u001b[0m\u001b[0;34m\u001b[0m\u001b[0m\n",
      "\u001b[0;32m~/.local/lib/python3.7/site-packages/tensorflow/python/keras/engine/base_layer.py\u001b[0m in \u001b[0;36m__call__\u001b[0;34m(self, *args, **kwargs)\u001b[0m\n\u001b[1;32m    925\u001b[0m     \u001b[0;32mif\u001b[0m \u001b[0m_in_functional_construction_mode\u001b[0m\u001b[0;34m(\u001b[0m\u001b[0minputs\u001b[0m\u001b[0;34m,\u001b[0m \u001b[0margs\u001b[0m\u001b[0;34m,\u001b[0m \u001b[0mkwargs\u001b[0m\u001b[0;34m,\u001b[0m \u001b[0minput_list\u001b[0m\u001b[0;34m)\u001b[0m\u001b[0;34m:\u001b[0m\u001b[0;34m\u001b[0m\u001b[0;34m\u001b[0m\u001b[0m\n\u001b[1;32m    926\u001b[0m       return self._functional_construction_call(inputs, args, kwargs,\n\u001b[0;32m--> 927\u001b[0;31m                                                 input_list)\n\u001b[0m\u001b[1;32m    928\u001b[0m \u001b[0;34m\u001b[0m\u001b[0m\n\u001b[1;32m    929\u001b[0m     \u001b[0;31m# Maintains info about the `Layer.call` stack.\u001b[0m\u001b[0;34m\u001b[0m\u001b[0;34m\u001b[0m\u001b[0;34m\u001b[0m\u001b[0m\n",
      "\u001b[0;32m~/.local/lib/python3.7/site-packages/tensorflow/python/keras/engine/base_layer.py\u001b[0m in \u001b[0;36m_functional_construction_call\u001b[0;34m(self, inputs, args, kwargs, input_list)\u001b[0m\n\u001b[1;32m   1091\u001b[0m       \u001b[0;31m# TODO(reedwm): We should assert input compatibility after the inputs\u001b[0m\u001b[0;34m\u001b[0m\u001b[0;34m\u001b[0m\u001b[0;34m\u001b[0m\u001b[0m\n\u001b[1;32m   1092\u001b[0m       \u001b[0;31m# are casted, not before.\u001b[0m\u001b[0;34m\u001b[0m\u001b[0;34m\u001b[0m\u001b[0;34m\u001b[0m\u001b[0m\n\u001b[0;32m-> 1093\u001b[0;31m       \u001b[0minput_spec\u001b[0m\u001b[0;34m.\u001b[0m\u001b[0massert_input_compatibility\u001b[0m\u001b[0;34m(\u001b[0m\u001b[0mself\u001b[0m\u001b[0;34m.\u001b[0m\u001b[0minput_spec\u001b[0m\u001b[0;34m,\u001b[0m \u001b[0minputs\u001b[0m\u001b[0;34m,\u001b[0m \u001b[0mself\u001b[0m\u001b[0;34m.\u001b[0m\u001b[0mname\u001b[0m\u001b[0;34m)\u001b[0m\u001b[0;34m\u001b[0m\u001b[0;34m\u001b[0m\u001b[0m\n\u001b[0m\u001b[1;32m   1094\u001b[0m       \u001b[0mgraph\u001b[0m \u001b[0;34m=\u001b[0m \u001b[0mbackend\u001b[0m\u001b[0;34m.\u001b[0m\u001b[0mget_graph\u001b[0m\u001b[0;34m(\u001b[0m\u001b[0;34m)\u001b[0m\u001b[0;34m\u001b[0m\u001b[0;34m\u001b[0m\u001b[0m\n\u001b[1;32m   1095\u001b[0m       \u001b[0;31m# Use `self._name_scope()` to avoid auto-incrementing the name.\u001b[0m\u001b[0;34m\u001b[0m\u001b[0;34m\u001b[0m\u001b[0;34m\u001b[0m\u001b[0m\n",
      "\u001b[0;32m~/.local/lib/python3.7/site-packages/tensorflow/python/keras/engine/input_spec.py\u001b[0m in \u001b[0;36massert_input_compatibility\u001b[0;34m(input_spec, inputs, layer_name)\u001b[0m\n\u001b[1;32m    185\u001b[0m                          \u001b[0;34m'expected ndim='\u001b[0m \u001b[0;34m+\u001b[0m \u001b[0mstr\u001b[0m\u001b[0;34m(\u001b[0m\u001b[0mspec\u001b[0m\u001b[0;34m.\u001b[0m\u001b[0mndim\u001b[0m\u001b[0;34m)\u001b[0m \u001b[0;34m+\u001b[0m \u001b[0;34m', found ndim='\u001b[0m \u001b[0;34m+\u001b[0m\u001b[0;34m\u001b[0m\u001b[0;34m\u001b[0m\u001b[0m\n\u001b[1;32m    186\u001b[0m                          \u001b[0mstr\u001b[0m\u001b[0;34m(\u001b[0m\u001b[0mndim\u001b[0m\u001b[0;34m)\u001b[0m \u001b[0;34m+\u001b[0m \u001b[0;34m'. Full shape received: '\u001b[0m \u001b[0;34m+\u001b[0m\u001b[0;34m\u001b[0m\u001b[0;34m\u001b[0m\u001b[0m\n\u001b[0;32m--> 187\u001b[0;31m                          str(x.shape.as_list()))\n\u001b[0m\u001b[1;32m    188\u001b[0m     \u001b[0;32mif\u001b[0m \u001b[0mspec\u001b[0m\u001b[0;34m.\u001b[0m\u001b[0mmax_ndim\u001b[0m \u001b[0;32mis\u001b[0m \u001b[0;32mnot\u001b[0m \u001b[0;32mNone\u001b[0m\u001b[0;34m:\u001b[0m\u001b[0;34m\u001b[0m\u001b[0;34m\u001b[0m\u001b[0m\n\u001b[1;32m    189\u001b[0m       \u001b[0mndim\u001b[0m \u001b[0;34m=\u001b[0m \u001b[0mx\u001b[0m\u001b[0;34m.\u001b[0m\u001b[0mshape\u001b[0m\u001b[0;34m.\u001b[0m\u001b[0mndims\u001b[0m\u001b[0;34m\u001b[0m\u001b[0;34m\u001b[0m\u001b[0m\n",
      "\u001b[0;31mValueError\u001b[0m: Input 0 of layer lstm_1 is incompatible with the layer: expected ndim=3, found ndim=2. Full shape received: [None, 6]"
     ]
    }
   ],
   "source": [
    "model.add(LSTM(32, input_shape=(x_data.shape[1], x_data.shape[2])))\n",
    "model.add(Dense(6, activation='sigmoid'))\n",
    "model.compile(loss='binary_crossentropy',optimizer='adam',metrics=['accuracy'])\n",
    "model_output = model.fit(x_data, y_data, epochs=50, batch_size=72, verbose=2, shuffle=False)"
   ]
  },
  {
   "cell_type": "code",
   "execution_count": null,
   "metadata": {
    "colab": {
     "base_uri": "https://localhost:8080/",
     "height": 573
    },
    "colab_type": "code",
    "executionInfo": {
     "elapsed": 763,
     "status": "ok",
     "timestamp": 1582519517797,
     "user": {
      "displayName": "Srinivasan Seshan",
      "photoUrl": "",
      "userId": "06632033567786526417"
     },
     "user_tz": 300
    },
    "id": "Mwdk0D6jd6mY",
    "outputId": "baea7c90-a9b0-46cb-b1a9-0bb1573f2c14"
   },
   "outputs": [],
   "source": [
    "plt.plot(model_output.history['acc'])\n",
    "plt.plot(model_output.history['val_acc'])\n",
    "plt.title('Model accuracy')\n",
    "plt.ylabel('Accuracy')\n",
    "plt.xlabel('Epoch')\n",
    "plt.legend(['Train', 'Test'], loc='upper left')\n",
    "plt.show()\n",
    "# Plot training & validation loss values\n",
    "plt.plot(model_output.history['loss'])\n",
    "plt.plot(model_output.history['val_loss'])\n",
    "plt.title('model_output loss')\n",
    "plt.ylabel('Loss')\n",
    "plt.xlabel('Epoch')\n",
    "plt.legend(['Train', 'Test'], loc='upper left')\n",
    "plt.show()"
   ]
  },
  {
   "cell_type": "code",
   "execution_count": null,
   "metadata": {
    "colab": {},
    "colab_type": "code",
    "id": "nxbaK1iEhMnp"
   },
   "outputs": [],
   "source": [
    "new_predYT= model.predict(x_train)\n",
    "new_predY = [argmax(x) for x in new_predYT]\n",
    "new_predYComp = [argmax(x) for x in y_train]\n"
   ]
  },
  {
   "cell_type": "code",
   "execution_count": null,
   "metadata": {
    "colab": {
     "base_uri": "https://localhost:8080/",
     "height": 1000
    },
    "colab_type": "code",
    "executionInfo": {
     "elapsed": 955,
     "status": "ok",
     "timestamp": 1582519869232,
     "user": {
      "displayName": "Srinivasan Seshan",
      "photoUrl": "",
      "userId": "06632033567786526417"
     },
     "user_tz": 300
    },
    "id": "IlT8aCjlhrTX",
    "outputId": "4fc8c3ed-99dc-47f0-f2a0-c75828b34dd3"
   },
   "outputs": [],
   "source": [
    "new_predY"
   ]
  },
  {
   "cell_type": "code",
   "execution_count": null,
   "metadata": {
    "colab": {},
    "colab_type": "code",
    "id": "6XUYBerthJlZ"
   },
   "outputs": [],
   "source": [
    "testfile = \"splicedDataML/mix6ml\"\n",
    "new_dataX = pd.read_csv(testfile+\"X.csv\",names=['s1','s2','s3','s4','s5'])\n",
    "new_dataYR = np.genfromtxt(testfile+\"Y.csv\",delimiter=',',dtype=int)\n",
    "new_dataY = keras.utils.to_categorical(new_dataYR, num_classes)\n",
    "new_dataX.shape,new_dataY.shape\n",
    "new_predYT = model.predict(new_dataX)\n",
    "new_predY = [argmax(x) for x in new_predYT]\n",
    "new_predYComp = [argmax(x) for x in new_dataY]\n",
    "confusion_matrix(new_predYComp,new_predY)"
   ]
  }
 ],
 "metadata": {
  "colab": {
   "authorship_tag": "ABX9TyMkzJA381+M5MURbjWhO/5N",
   "mount_file_id": "1EvNBzEgtFC1-c6IvCxWJOt5f2WmYxCdp",
   "name": "sanjay 2020.ipynb",
   "provenance": []
  },
  "kernelspec": {
   "display_name": "Python 3",
   "language": "python",
   "name": "python3"
  },
  "language_info": {
   "codemirror_mode": {
    "name": "ipython",
    "version": 3
   },
   "file_extension": ".py",
   "mimetype": "text/x-python",
   "name": "python",
   "nbconvert_exporter": "python",
   "pygments_lexer": "ipython3",
   "version": "3.7.3"
  }
 },
 "nbformat": 4,
 "nbformat_minor": 1
}
