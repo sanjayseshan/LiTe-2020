{
 "cells": [
  {
   "cell_type": "code",
   "execution_count": 1,
   "metadata": {
    "colab": {},
    "colab_type": "code",
    "id": "J3OtwrYMh5do"
   },
   "outputs": [],
   "source": [
    "import numpy as np\n",
    "import keras\n",
    "from keras.datasets import imdb\n",
    "from keras.models import Sequential\n",
    "from keras.layers import LSTM\n",
    "from keras.layers.embeddings import Embedding\n",
    "from keras.preprocessing import sequence\n",
    "from sklearn.metrics import confusion_matrix, precision_score\n",
    "from sklearn.model_selection import train_test_split\n",
    "from keras.layers import Dense,Dropout\n",
    "from keras.regularizers import l2\n",
    "import matplotlib.pyplot as plt\n",
    "import pandas as pd\n",
    "\n",
    "\n"
   ]
  },
  {
   "cell_type": "code",
   "execution_count": 2,
   "metadata": {
    "colab": {
     "base_uri": "https://localhost:8080/",
     "height": 35
    },
    "colab_type": "code",
    "executionInfo": {
     "elapsed": 286,
     "status": "ok",
     "timestamp": 1582609074721,
     "user": {
      "displayName": "Srinivasan Seshan",
      "photoUrl": "",
      "userId": "06632033567786526417"
     },
     "user_tz": 300
    },
    "id": "9Hwc3b1ukDel",
    "outputId": "032c0a82-4990-43c1-d069-3d8f4f3a6288"
   },
   "outputs": [
    {
     "data": {
      "text/plain": [
       "((880, 5), (880, 6), (845, 5), (845, 6))"
      ]
     },
     "execution_count": 2,
     "metadata": {},
     "output_type": "execute_result"
    }
   ],
   "source": [
    "datafile = \"splicedDataML/mix6ml\"\n",
    "\n",
    "x_data = pd.read_csv(datafile+\"X.csv\",names=['s1','s2','s3','s4','s5'])\n",
    "y_dataR = np.genfromtxt(datafile+\"Y.csv\",delimiter=',',dtype=int)\n",
    "num_classes = np.max(y_dataR) + 1\n",
    "y_data = keras.utils.to_categorical(y_dataR, num_classes)\n",
    "#x_train, x_test, y_train, y_test = train_test_split(x_data,y_data, test_size=0.20, random_state=0)\n",
    "x_train = x_data[:880]\n",
    "x_test = x_data[880:]\n",
    "y_train = y_data[:880]\n",
    "y_test = y_data[880:]\n",
    "x_train.shape,y_train.shape,x_test.shape,y_test.shape"
   ]
  },
  {
   "cell_type": "code",
   "execution_count": 3,
   "metadata": {
    "colab": {
     "base_uri": "https://localhost:8080/",
     "height": 1000
    },
    "colab_type": "code",
    "executionInfo": {
     "elapsed": 20285,
     "status": "ok",
     "timestamp": 1582609098680,
     "user": {
      "displayName": "Srinivasan Seshan",
      "photoUrl": "",
      "userId": "06632033567786526417"
     },
     "user_tz": 300
    },
    "id": "E1rwuze5mL10",
    "outputId": "c91ea7eb-f2f2-4dec-f4b7-749e50ad3fa3"
   },
   "outputs": [
    {
     "name": "stdout",
     "output_type": "stream",
     "text": [
      "Epoch 1/150\n",
      "44/44 [==============================] - 0s 4ms/step - loss: 26.0591 - accuracy: 0.3284 - val_loss: 8.2109 - val_accuracy: 0.3124\n",
      "Epoch 2/150\n",
      "44/44 [==============================] - 0s 1ms/step - loss: 10.2449 - accuracy: 0.3216 - val_loss: 3.6767 - val_accuracy: 0.3953\n",
      "Epoch 3/150\n",
      "44/44 [==============================] - 0s 1ms/step - loss: 5.5182 - accuracy: 0.3352 - val_loss: 1.9308 - val_accuracy: 0.4154\n",
      "Epoch 4/150\n",
      "44/44 [==============================] - 0s 1ms/step - loss: 3.4999 - accuracy: 0.3420 - val_loss: 0.9493 - val_accuracy: 0.3302\n",
      "Epoch 5/150\n",
      "44/44 [==============================] - 0s 1ms/step - loss: 2.1320 - accuracy: 0.3545 - val_loss: 0.9220 - val_accuracy: 0.3396\n",
      "Epoch 6/150\n",
      "44/44 [==============================] - 0s 1ms/step - loss: 1.5187 - accuracy: 0.3557 - val_loss: 0.9512 - val_accuracy: 0.3124\n",
      "Epoch 7/150\n",
      "44/44 [==============================] - 0s 1ms/step - loss: 1.2243 - accuracy: 0.3943 - val_loss: 0.9070 - val_accuracy: 0.3148\n",
      "Epoch 8/150\n",
      "44/44 [==============================] - 0s 1ms/step - loss: 1.1266 - accuracy: 0.4114 - val_loss: 0.8686 - val_accuracy: 0.3124\n",
      "Epoch 9/150\n",
      "44/44 [==============================] - 0s 1ms/step - loss: 1.0058 - accuracy: 0.4477 - val_loss: 0.8530 - val_accuracy: 0.3124\n",
      "Epoch 10/150\n",
      "44/44 [==============================] - 0s 3ms/step - loss: 0.9565 - accuracy: 0.4614 - val_loss: 0.8337 - val_accuracy: 0.3243\n",
      "Epoch 11/150\n",
      "44/44 [==============================] - 0s 1ms/step - loss: 0.9334 - accuracy: 0.4580 - val_loss: 0.8212 - val_accuracy: 0.3124\n",
      "Epoch 12/150\n",
      "44/44 [==============================] - 0s 2ms/step - loss: 0.8883 - accuracy: 0.4523 - val_loss: 0.8071 - val_accuracy: 0.3858\n",
      "Epoch 13/150\n",
      "44/44 [==============================] - 0s 1ms/step - loss: 0.8614 - accuracy: 0.4807 - val_loss: 0.7984 - val_accuracy: 0.5183\n",
      "Epoch 14/150\n",
      "44/44 [==============================] - 0s 1ms/step - loss: 0.8396 - accuracy: 0.4523 - val_loss: 0.7881 - val_accuracy: 0.4012\n",
      "Epoch 15/150\n",
      "44/44 [==============================] - 0s 1ms/step - loss: 0.8299 - accuracy: 0.4864 - val_loss: 0.7788 - val_accuracy: 0.3491\n",
      "Epoch 16/150\n",
      "44/44 [==============================] - 0s 1ms/step - loss: 0.8096 - accuracy: 0.4727 - val_loss: 0.7740 - val_accuracy: 0.3645\n",
      "Epoch 17/150\n",
      "44/44 [==============================] - 0s 1ms/step - loss: 0.7925 - accuracy: 0.5080 - val_loss: 0.7586 - val_accuracy: 0.4024\n",
      "Epoch 18/150\n",
      "44/44 [==============================] - 0s 1ms/step - loss: 0.7784 - accuracy: 0.5307 - val_loss: 0.7580 - val_accuracy: 0.3314\n",
      "Epoch 19/150\n",
      "44/44 [==============================] - 0s 1ms/step - loss: 0.7639 - accuracy: 0.5432 - val_loss: 0.7160 - val_accuracy: 0.6000\n",
      "Epoch 20/150\n",
      "44/44 [==============================] - 0s 2ms/step - loss: 0.7452 - accuracy: 0.5489 - val_loss: 0.7099 - val_accuracy: 0.5491\n",
      "Epoch 21/150\n",
      "44/44 [==============================] - 0s 1ms/step - loss: 0.7446 - accuracy: 0.5670 - val_loss: 0.6984 - val_accuracy: 0.6024\n",
      "Epoch 22/150\n",
      "44/44 [==============================] - 0s 1ms/step - loss: 0.7275 - accuracy: 0.5773 - val_loss: 0.6727 - val_accuracy: 0.6284\n",
      "Epoch 23/150\n",
      "44/44 [==============================] - 0s 1ms/step - loss: 0.7056 - accuracy: 0.6102 - val_loss: 0.6544 - val_accuracy: 0.6556\n",
      "Epoch 24/150\n",
      "44/44 [==============================] - 0s 1ms/step - loss: 0.6934 - accuracy: 0.6034 - val_loss: 0.6368 - val_accuracy: 0.6757\n",
      "Epoch 25/150\n",
      "44/44 [==============================] - 0s 2ms/step - loss: 0.6751 - accuracy: 0.6330 - val_loss: 0.6294 - val_accuracy: 0.6746\n",
      "Epoch 26/150\n",
      "44/44 [==============================] - 0s 1ms/step - loss: 0.6811 - accuracy: 0.6034 - val_loss: 0.6170 - val_accuracy: 0.6757\n",
      "Epoch 27/150\n",
      "44/44 [==============================] - 0s 1ms/step - loss: 0.6682 - accuracy: 0.6409 - val_loss: 0.6224 - val_accuracy: 0.6355\n",
      "Epoch 28/150\n",
      "44/44 [==============================] - 0s 2ms/step - loss: 0.6471 - accuracy: 0.6364 - val_loss: 0.6075 - val_accuracy: 0.6734\n",
      "Epoch 29/150\n",
      "44/44 [==============================] - 0s 1ms/step - loss: 0.6291 - accuracy: 0.6500 - val_loss: 0.5938 - val_accuracy: 0.6757\n",
      "Epoch 30/150\n",
      "44/44 [==============================] - 0s 2ms/step - loss: 0.6143 - accuracy: 0.6659 - val_loss: 0.5833 - val_accuracy: 0.6757\n",
      "Epoch 31/150\n",
      "44/44 [==============================] - 0s 2ms/step - loss: 0.6276 - accuracy: 0.6455 - val_loss: 0.5746 - val_accuracy: 0.6757\n",
      "Epoch 32/150\n",
      "44/44 [==============================] - 0s 1ms/step - loss: 0.6006 - accuracy: 0.6523 - val_loss: 0.5631 - val_accuracy: 0.6757\n",
      "Epoch 33/150\n",
      "44/44 [==============================] - 0s 1ms/step - loss: 0.5980 - accuracy: 0.6580 - val_loss: 0.5597 - val_accuracy: 0.6757\n",
      "Epoch 34/150\n",
      "44/44 [==============================] - 0s 1ms/step - loss: 0.5774 - accuracy: 0.6648 - val_loss: 0.5518 - val_accuracy: 0.7183\n",
      "Epoch 35/150\n",
      "44/44 [==============================] - 0s 1ms/step - loss: 0.5777 - accuracy: 0.6727 - val_loss: 0.5363 - val_accuracy: 0.7420\n",
      "Epoch 36/150\n",
      "44/44 [==============================] - 0s 1ms/step - loss: 0.5589 - accuracy: 0.6761 - val_loss: 0.5288 - val_accuracy: 0.7621\n",
      "Epoch 37/150\n",
      "44/44 [==============================] - 0s 1ms/step - loss: 0.5604 - accuracy: 0.6682 - val_loss: 0.5292 - val_accuracy: 0.7834\n",
      "Epoch 38/150\n",
      "44/44 [==============================] - 0s 1ms/step - loss: 0.5343 - accuracy: 0.6989 - val_loss: 0.5105 - val_accuracy: 0.8036\n",
      "Epoch 39/150\n",
      "44/44 [==============================] - 0s 1ms/step - loss: 0.5227 - accuracy: 0.7102 - val_loss: 0.5034 - val_accuracy: 0.7669\n",
      "Epoch 40/150\n",
      "44/44 [==============================] - 0s 1ms/step - loss: 0.5126 - accuracy: 0.7114 - val_loss: 0.4957 - val_accuracy: 0.7953\n",
      "Epoch 41/150\n",
      "44/44 [==============================] - 0s 1ms/step - loss: 0.5041 - accuracy: 0.7034 - val_loss: 0.4882 - val_accuracy: 0.7953\n",
      "Epoch 42/150\n",
      "44/44 [==============================] - 0s 1ms/step - loss: 0.5027 - accuracy: 0.7182 - val_loss: 0.4803 - val_accuracy: 0.8473\n",
      "Epoch 43/150\n",
      "44/44 [==============================] - 0s 1ms/step - loss: 0.5015 - accuracy: 0.7216 - val_loss: 0.4780 - val_accuracy: 0.7834\n",
      "Epoch 44/150\n",
      "44/44 [==============================] - 0s 1ms/step - loss: 0.4821 - accuracy: 0.7261 - val_loss: 0.4683 - val_accuracy: 0.7988\n",
      "Epoch 45/150\n",
      "44/44 [==============================] - 0s 1ms/step - loss: 0.4675 - accuracy: 0.7523 - val_loss: 0.4685 - val_accuracy: 0.7089\n",
      "Epoch 46/150\n",
      "44/44 [==============================] - 0s 1ms/step - loss: 0.4619 - accuracy: 0.7602 - val_loss: 0.4584 - val_accuracy: 0.7740\n",
      "Epoch 47/150\n",
      "44/44 [==============================] - 0s 1ms/step - loss: 0.4512 - accuracy: 0.7557 - val_loss: 0.4482 - val_accuracy: 0.8391\n",
      "Epoch 48/150\n",
      "44/44 [==============================] - 0s 1ms/step - loss: 0.4332 - accuracy: 0.7818 - val_loss: 0.4645 - val_accuracy: 0.8355\n",
      "Epoch 49/150\n",
      "44/44 [==============================] - 0s 1ms/step - loss: 0.4488 - accuracy: 0.7602 - val_loss: 0.4339 - val_accuracy: 0.8000\n",
      "Epoch 50/150\n",
      "44/44 [==============================] - 0s 1ms/step - loss: 0.4334 - accuracy: 0.7955 - val_loss: 0.4237 - val_accuracy: 0.8059\n",
      "Epoch 51/150\n",
      "44/44 [==============================] - 0s 1ms/step - loss: 0.4202 - accuracy: 0.8205 - val_loss: 0.4336 - val_accuracy: 0.8000\n",
      "Epoch 52/150\n",
      "44/44 [==============================] - 0s 2ms/step - loss: 0.4067 - accuracy: 0.8205 - val_loss: 0.4189 - val_accuracy: 0.7976\n",
      "Epoch 53/150\n",
      "44/44 [==============================] - 0s 2ms/step - loss: 0.4041 - accuracy: 0.8307 - val_loss: 0.4119 - val_accuracy: 0.8367\n",
      "Epoch 54/150\n",
      "44/44 [==============================] - 0s 2ms/step - loss: 0.4017 - accuracy: 0.8205 - val_loss: 0.4181 - val_accuracy: 0.8343\n",
      "Epoch 55/150\n",
      "44/44 [==============================] - 0s 1ms/step - loss: 0.3899 - accuracy: 0.8170 - val_loss: 0.3946 - val_accuracy: 0.8178\n",
      "Epoch 56/150\n",
      "44/44 [==============================] - 0s 1ms/step - loss: 0.3857 - accuracy: 0.8250 - val_loss: 0.4167 - val_accuracy: 0.7183\n",
      "Epoch 57/150\n",
      "44/44 [==============================] - 0s 1ms/step - loss: 0.3748 - accuracy: 0.8432 - val_loss: 0.3812 - val_accuracy: 0.8509\n",
      "Epoch 58/150\n",
      "44/44 [==============================] - 0s 1ms/step - loss: 0.3587 - accuracy: 0.8591 - val_loss: 0.3682 - val_accuracy: 0.8604\n"
     ]
    },
    {
     "name": "stdout",
     "output_type": "stream",
     "text": [
      "Epoch 59/150\n",
      "44/44 [==============================] - 0s 1ms/step - loss: 0.3538 - accuracy: 0.8523 - val_loss: 0.3686 - val_accuracy: 0.8568\n",
      "Epoch 60/150\n",
      "44/44 [==============================] - 0s 1ms/step - loss: 0.3566 - accuracy: 0.8625 - val_loss: 0.3638 - val_accuracy: 0.8604\n",
      "Epoch 61/150\n",
      "44/44 [==============================] - 0s 1ms/step - loss: 0.3528 - accuracy: 0.8511 - val_loss: 0.3549 - val_accuracy: 0.8604\n",
      "Epoch 62/150\n",
      "44/44 [==============================] - 0s 1ms/step - loss: 0.3375 - accuracy: 0.8693 - val_loss: 0.3505 - val_accuracy: 0.8651\n",
      "Epoch 63/150\n",
      "44/44 [==============================] - 0s 1ms/step - loss: 0.3371 - accuracy: 0.8682 - val_loss: 0.3429 - val_accuracy: 0.8686\n",
      "Epoch 64/150\n",
      "44/44 [==============================] - 0s 1ms/step - loss: 0.3316 - accuracy: 0.8534 - val_loss: 0.3418 - val_accuracy: 0.8651\n",
      "Epoch 65/150\n",
      "44/44 [==============================] - 0s 2ms/step - loss: 0.3191 - accuracy: 0.8750 - val_loss: 0.3334 - val_accuracy: 0.8568\n",
      "Epoch 66/150\n",
      "44/44 [==============================] - 0s 1ms/step - loss: 0.3135 - accuracy: 0.8773 - val_loss: 0.3289 - val_accuracy: 0.8663\n",
      "Epoch 67/150\n",
      "44/44 [==============================] - 0s 1ms/step - loss: 0.3188 - accuracy: 0.8591 - val_loss: 0.3368 - val_accuracy: 0.8639\n",
      "Epoch 68/150\n",
      "44/44 [==============================] - 0s 1ms/step - loss: 0.2999 - accuracy: 0.8784 - val_loss: 0.3396 - val_accuracy: 0.8485\n",
      "Epoch 69/150\n",
      "44/44 [==============================] - 0s 1ms/step - loss: 0.3067 - accuracy: 0.8693 - val_loss: 0.3231 - val_accuracy: 0.8615\n",
      "Epoch 70/150\n",
      "44/44 [==============================] - 0s 1ms/step - loss: 0.2983 - accuracy: 0.8750 - val_loss: 0.3392 - val_accuracy: 0.8604\n",
      "Epoch 71/150\n",
      "44/44 [==============================] - 0s 1ms/step - loss: 0.3020 - accuracy: 0.8602 - val_loss: 0.3150 - val_accuracy: 0.8651\n",
      "Epoch 72/150\n",
      "44/44 [==============================] - 0s 1ms/step - loss: 0.2916 - accuracy: 0.8773 - val_loss: 0.3123 - val_accuracy: 0.8615\n",
      "Epoch 73/150\n",
      "44/44 [==============================] - 0s 1ms/step - loss: 0.2918 - accuracy: 0.8807 - val_loss: 0.3064 - val_accuracy: 0.8710\n",
      "Epoch 74/150\n",
      "44/44 [==============================] - 0s 1ms/step - loss: 0.2873 - accuracy: 0.8830 - val_loss: 0.3272 - val_accuracy: 0.8414\n",
      "Epoch 75/150\n",
      "44/44 [==============================] - 0s 1ms/step - loss: 0.2866 - accuracy: 0.8625 - val_loss: 0.3004 - val_accuracy: 0.8627\n",
      "Epoch 76/150\n",
      "44/44 [==============================] - 0s 1ms/step - loss: 0.2908 - accuracy: 0.8648 - val_loss: 0.3291 - val_accuracy: 0.8497\n",
      "Epoch 77/150\n",
      "44/44 [==============================] - 0s 1ms/step - loss: 0.2857 - accuracy: 0.8659 - val_loss: 0.2980 - val_accuracy: 0.8675\n",
      "Epoch 78/150\n",
      "44/44 [==============================] - 0s 1ms/step - loss: 0.2822 - accuracy: 0.8727 - val_loss: 0.3040 - val_accuracy: 0.8509\n",
      "Epoch 79/150\n",
      "44/44 [==============================] - 0s 1ms/step - loss: 0.2992 - accuracy: 0.8409 - val_loss: 0.2999 - val_accuracy: 0.8651\n",
      "Epoch 80/150\n",
      "44/44 [==============================] - 0s 1ms/step - loss: 0.2955 - accuracy: 0.8443 - val_loss: 0.3184 - val_accuracy: 0.7976\n",
      "Epoch 81/150\n",
      "44/44 [==============================] - 0s 1ms/step - loss: 0.2888 - accuracy: 0.8455 - val_loss: 0.3154 - val_accuracy: 0.8225\n",
      "Epoch 82/150\n",
      "44/44 [==============================] - 0s 1ms/step - loss: 0.3098 - accuracy: 0.8250 - val_loss: 0.3085 - val_accuracy: 0.8107\n",
      "Epoch 83/150\n",
      "44/44 [==============================] - 0s 1ms/step - loss: 0.2894 - accuracy: 0.8432 - val_loss: 0.3046 - val_accuracy: 0.8462\n",
      "Epoch 84/150\n",
      "44/44 [==============================] - 0s 1ms/step - loss: 0.2883 - accuracy: 0.8352 - val_loss: 0.2946 - val_accuracy: 0.8568\n",
      "Epoch 85/150\n",
      "44/44 [==============================] - 0s 1ms/step - loss: 0.2875 - accuracy: 0.8295 - val_loss: 0.3034 - val_accuracy: 0.7893\n",
      "Epoch 86/150\n",
      "44/44 [==============================] - 0s 1ms/step - loss: 0.2856 - accuracy: 0.8159 - val_loss: 0.3078 - val_accuracy: 0.8367\n",
      "Epoch 87/150\n",
      "44/44 [==============================] - 0s 1ms/step - loss: 0.2938 - accuracy: 0.8148 - val_loss: 0.2733 - val_accuracy: 0.8651\n",
      "Epoch 88/150\n",
      "44/44 [==============================] - 0s 1ms/step - loss: 0.2750 - accuracy: 0.8477 - val_loss: 0.2827 - val_accuracy: 0.8568\n",
      "Epoch 89/150\n",
      "44/44 [==============================] - 0s 1ms/step - loss: 0.2679 - accuracy: 0.8443 - val_loss: 0.2885 - val_accuracy: 0.8036\n",
      "Epoch 90/150\n",
      "44/44 [==============================] - 0s 1ms/step - loss: 0.2701 - accuracy: 0.8273 - val_loss: 0.2733 - val_accuracy: 0.8615\n",
      "Epoch 91/150\n",
      "44/44 [==============================] - 0s 2ms/step - loss: 0.2459 - accuracy: 0.8670 - val_loss: 0.2662 - val_accuracy: 0.8651\n",
      "Epoch 92/150\n",
      "44/44 [==============================] - 0s 1ms/step - loss: 0.2491 - accuracy: 0.8659 - val_loss: 0.2564 - val_accuracy: 0.8604\n",
      "Epoch 93/150\n",
      "44/44 [==============================] - 0s 1ms/step - loss: 0.2542 - accuracy: 0.8534 - val_loss: 0.2621 - val_accuracy: 0.8663\n",
      "Epoch 94/150\n",
      "44/44 [==============================] - 0s 1ms/step - loss: 0.2438 - accuracy: 0.8557 - val_loss: 0.2550 - val_accuracy: 0.8521\n",
      "Epoch 95/150\n",
      "44/44 [==============================] - 0s 1ms/step - loss: 0.2567 - accuracy: 0.8409 - val_loss: 0.2738 - val_accuracy: 0.7917\n",
      "Epoch 96/150\n",
      "44/44 [==============================] - 0s 1ms/step - loss: 0.2450 - accuracy: 0.8398 - val_loss: 0.2625 - val_accuracy: 0.8544\n",
      "Epoch 97/150\n",
      "44/44 [==============================] - 0s 1ms/step - loss: 0.2371 - accuracy: 0.8432 - val_loss: 0.2518 - val_accuracy: 0.8627\n",
      "Epoch 98/150\n",
      "44/44 [==============================] - 0s 1ms/step - loss: 0.2479 - accuracy: 0.8455 - val_loss: 0.2628 - val_accuracy: 0.8462\n",
      "Epoch 99/150\n",
      "44/44 [==============================] - 0s 1ms/step - loss: 0.2374 - accuracy: 0.8398 - val_loss: 0.2562 - val_accuracy: 0.8592\n",
      "Epoch 100/150\n",
      "44/44 [==============================] - 0s 1ms/step - loss: 0.2388 - accuracy: 0.8443 - val_loss: 0.2620 - val_accuracy: 0.7964\n",
      "Epoch 101/150\n",
      "44/44 [==============================] - 0s 1ms/step - loss: 0.2310 - accuracy: 0.8477 - val_loss: 0.2357 - val_accuracy: 0.8568\n",
      "Epoch 102/150\n",
      "44/44 [==============================] - 0s 1ms/step - loss: 0.2304 - accuracy: 0.8489 - val_loss: 0.2404 - val_accuracy: 0.8675\n",
      "Epoch 103/150\n",
      "44/44 [==============================] - 0s 1ms/step - loss: 0.2215 - accuracy: 0.8648 - val_loss: 0.2372 - val_accuracy: 0.8544\n",
      "Epoch 104/150\n",
      "44/44 [==============================] - 0s 1ms/step - loss: 0.2259 - accuracy: 0.8489 - val_loss: 0.2403 - val_accuracy: 0.8130\n",
      "Epoch 105/150\n",
      "44/44 [==============================] - 0s 1ms/step - loss: 0.2209 - accuracy: 0.8568 - val_loss: 0.2319 - val_accuracy: 0.8485\n",
      "Epoch 106/150\n",
      "44/44 [==============================] - 0s 1ms/step - loss: 0.2159 - accuracy: 0.8602 - val_loss: 0.2390 - val_accuracy: 0.8639\n",
      "Epoch 107/150\n",
      "44/44 [==============================] - 0s 1ms/step - loss: 0.2218 - accuracy: 0.8568 - val_loss: 0.2310 - val_accuracy: 0.8615\n",
      "Epoch 108/150\n",
      "44/44 [==============================] - 0s 1ms/step - loss: 0.2163 - accuracy: 0.8602 - val_loss: 0.2279 - val_accuracy: 0.8473\n",
      "Epoch 109/150\n",
      "44/44 [==============================] - 0s 1ms/step - loss: 0.2082 - accuracy: 0.8523 - val_loss: 0.2245 - val_accuracy: 0.8651\n",
      "Epoch 110/150\n",
      "44/44 [==============================] - 0s 1ms/step - loss: 0.2075 - accuracy: 0.8614 - val_loss: 0.2289 - val_accuracy: 0.8391\n",
      "Epoch 111/150\n",
      "44/44 [==============================] - 0s 2ms/step - loss: 0.2033 - accuracy: 0.8602 - val_loss: 0.2240 - val_accuracy: 0.8734\n",
      "Epoch 112/150\n",
      "44/44 [==============================] - 0s 1ms/step - loss: 0.2098 - accuracy: 0.8489 - val_loss: 0.2253 - val_accuracy: 0.8225\n",
      "Epoch 113/150\n",
      "44/44 [==============================] - 0s 1ms/step - loss: 0.1995 - accuracy: 0.8625 - val_loss: 0.2213 - val_accuracy: 0.8533\n",
      "Epoch 114/150\n",
      "44/44 [==============================] - 0s 1ms/step - loss: 0.2019 - accuracy: 0.8670 - val_loss: 0.2275 - val_accuracy: 0.8249\n",
      "Epoch 115/150\n",
      "44/44 [==============================] - 0s 1ms/step - loss: 0.2049 - accuracy: 0.8511 - val_loss: 0.2334 - val_accuracy: 0.8012\n",
      "Epoch 116/150\n"
     ]
    },
    {
     "name": "stdout",
     "output_type": "stream",
     "text": [
      "44/44 [==============================] - 0s 1ms/step - loss: 0.2009 - accuracy: 0.8625 - val_loss: 0.2125 - val_accuracy: 0.8686\n",
      "Epoch 117/150\n",
      "44/44 [==============================] - 0s 1ms/step - loss: 0.2162 - accuracy: 0.8364 - val_loss: 0.2253 - val_accuracy: 0.8462\n",
      "Epoch 118/150\n",
      "44/44 [==============================] - 0s 1ms/step - loss: 0.1887 - accuracy: 0.8693 - val_loss: 0.2116 - val_accuracy: 0.8568\n",
      "Epoch 119/150\n",
      "44/44 [==============================] - 0s 1ms/step - loss: 0.1838 - accuracy: 0.8716 - val_loss: 0.2193 - val_accuracy: 0.8426\n",
      "Epoch 120/150\n",
      "44/44 [==============================] - 0s 1ms/step - loss: 0.1920 - accuracy: 0.8568 - val_loss: 0.2050 - val_accuracy: 0.8639\n",
      "Epoch 121/150\n",
      "44/44 [==============================] - 0s 1ms/step - loss: 0.1958 - accuracy: 0.8557 - val_loss: 0.2027 - val_accuracy: 0.8604\n",
      "Epoch 122/150\n",
      "44/44 [==============================] - 0s 1ms/step - loss: 0.1855 - accuracy: 0.8739 - val_loss: 0.2001 - val_accuracy: 0.8639\n",
      "Epoch 123/150\n",
      "44/44 [==============================] - 0s 1ms/step - loss: 0.1914 - accuracy: 0.8648 - val_loss: 0.2221 - val_accuracy: 0.8355\n",
      "Epoch 124/150\n",
      "44/44 [==============================] - 0s 1ms/step - loss: 0.1999 - accuracy: 0.8341 - val_loss: 0.1981 - val_accuracy: 0.8639\n",
      "Epoch 125/150\n",
      "44/44 [==============================] - 0s 1ms/step - loss: 0.1985 - accuracy: 0.8420 - val_loss: 0.2002 - val_accuracy: 0.8604\n",
      "Epoch 126/150\n",
      "44/44 [==============================] - 0s 1ms/step - loss: 0.1813 - accuracy: 0.8739 - val_loss: 0.2218 - val_accuracy: 0.8485\n",
      "Epoch 127/150\n",
      "44/44 [==============================] - 0s 1ms/step - loss: 0.1884 - accuracy: 0.8602 - val_loss: 0.2155 - val_accuracy: 0.8260\n",
      "Epoch 128/150\n",
      "44/44 [==============================] - 0s 1ms/step - loss: 0.1921 - accuracy: 0.8670 - val_loss: 0.2063 - val_accuracy: 0.8426\n",
      "Epoch 129/150\n",
      "44/44 [==============================] - 0s 1ms/step - loss: 0.1802 - accuracy: 0.8693 - val_loss: 0.2058 - val_accuracy: 0.8686\n",
      "Epoch 130/150\n",
      "44/44 [==============================] - 0s 1ms/step - loss: 0.1811 - accuracy: 0.8557 - val_loss: 0.1994 - val_accuracy: 0.8769\n",
      "Epoch 131/150\n",
      "44/44 [==============================] - 0s 2ms/step - loss: 0.1780 - accuracy: 0.8625 - val_loss: 0.2046 - val_accuracy: 0.8639\n",
      "Epoch 132/150\n",
      "44/44 [==============================] - 0s 1ms/step - loss: 0.1782 - accuracy: 0.8636 - val_loss: 0.1986 - val_accuracy: 0.8710\n",
      "Epoch 133/150\n",
      "44/44 [==============================] - 0s 1ms/step - loss: 0.1852 - accuracy: 0.8511 - val_loss: 0.2180 - val_accuracy: 0.8331\n",
      "Epoch 134/150\n",
      "44/44 [==============================] - 0s 1ms/step - loss: 0.1723 - accuracy: 0.8682 - val_loss: 0.2086 - val_accuracy: 0.8426\n",
      "Epoch 135/150\n",
      "44/44 [==============================] - 0s 1ms/step - loss: 0.1824 - accuracy: 0.8466 - val_loss: 0.1990 - val_accuracy: 0.8592\n",
      "Epoch 136/150\n",
      "44/44 [==============================] - 0s 1ms/step - loss: 0.1800 - accuracy: 0.8557 - val_loss: 0.1945 - val_accuracy: 0.8639\n",
      "Epoch 137/150\n",
      "44/44 [==============================] - 0s 1ms/step - loss: 0.1725 - accuracy: 0.8648 - val_loss: 0.1915 - val_accuracy: 0.8698\n",
      "Epoch 138/150\n",
      "44/44 [==============================] - 0s 1ms/step - loss: 0.1767 - accuracy: 0.8602 - val_loss: 0.2210 - val_accuracy: 0.7941\n",
      "Epoch 139/150\n",
      "44/44 [==============================] - 0s 1ms/step - loss: 0.1729 - accuracy: 0.8545 - val_loss: 0.2167 - val_accuracy: 0.7870\n",
      "Epoch 140/150\n",
      "44/44 [==============================] - 0s 1ms/step - loss: 0.1793 - accuracy: 0.8386 - val_loss: 0.1861 - val_accuracy: 0.8663\n",
      "Epoch 141/150\n",
      "44/44 [==============================] - 0s 1ms/step - loss: 0.1680 - accuracy: 0.8682 - val_loss: 0.1864 - val_accuracy: 0.8485\n",
      "Epoch 142/150\n",
      "44/44 [==============================] - 0s 1ms/step - loss: 0.1668 - accuracy: 0.8784 - val_loss: 0.1933 - val_accuracy: 0.8651\n",
      "Epoch 143/150\n",
      "44/44 [==============================] - 0s 1ms/step - loss: 0.1735 - accuracy: 0.8670 - val_loss: 0.1779 - val_accuracy: 0.8592\n",
      "Epoch 144/150\n",
      "44/44 [==============================] - 0s 1ms/step - loss: 0.1654 - accuracy: 0.8750 - val_loss: 0.1778 - val_accuracy: 0.8533\n",
      "Epoch 145/150\n",
      "44/44 [==============================] - 0s 1ms/step - loss: 0.1617 - accuracy: 0.8659 - val_loss: 0.2090 - val_accuracy: 0.8047\n",
      "Epoch 146/150\n",
      "44/44 [==============================] - 0s 1ms/step - loss: 0.1694 - accuracy: 0.8750 - val_loss: 0.1866 - val_accuracy: 0.8651\n",
      "Epoch 147/150\n",
      "44/44 [==============================] - 0s 1ms/step - loss: 0.1697 - accuracy: 0.8591 - val_loss: 0.1884 - val_accuracy: 0.8639\n",
      "Epoch 148/150\n",
      "44/44 [==============================] - 0s 1ms/step - loss: 0.1627 - accuracy: 0.8636 - val_loss: 0.1821 - val_accuracy: 0.8651\n",
      "Epoch 149/150\n",
      "44/44 [==============================] - 0s 1ms/step - loss: 0.1533 - accuracy: 0.8909 - val_loss: 0.1804 - val_accuracy: 0.8544\n",
      "Epoch 150/150\n",
      "44/44 [==============================] - 0s 1ms/step - loss: 0.1611 - accuracy: 0.8727 - val_loss: 0.1815 - val_accuracy: 0.8663\n"
     ]
    }
   ],
   "source": [
    "#defifne a sequentail Model\n",
    "model = Sequential()\n",
    "#Hidden Layer-1\n",
    "model.add(Dense(100,activation='relu',input_dim=5,kernel_regularizer=l2(0.01)))\n",
    "model.add(Dropout(0.3, noise_shape=None, seed=None))\n",
    "\n",
    "#Hidden Layer-2\n",
    "model.add(Dense(100,activation = 'relu',kernel_regularizer=l2(0.01)))\n",
    "model.add(Dropout(0.3, noise_shape=None, seed=None))\n",
    "\n",
    "#Output layer\n",
    "model.add(Dense(6,activation='sigmoid'))\n",
    "model.compile(loss='binary_crossentropy',optimizer='adam',metrics=['accuracy'])\n",
    "model_output = model.fit(x_train,y_train,epochs=150,batch_size=20,verbose=1,validation_data=(x_test,y_test),)"
   ]
  },
  {
   "cell_type": "code",
   "execution_count": 4,
   "metadata": {
    "colab": {
     "base_uri": "https://localhost:8080/",
     "height": 329
    },
    "colab_type": "code",
    "executionInfo": {
     "elapsed": 288,
     "status": "ok",
     "timestamp": 1582605199619,
     "user": {
      "displayName": "Srinivasan Seshan",
      "photoUrl": "",
      "userId": "06632033567786526417"
     },
     "user_tz": 300
    },
    "id": "TkbYdVzzClzz",
    "outputId": "f93d86c4-348b-45e4-e356-982599e76a31"
   },
   "outputs": [
    {
     "name": "stdout",
     "output_type": "stream",
     "text": [
      "Model: \"sequential\"\n",
      "_________________________________________________________________\n",
      "Layer (type)                 Output Shape              Param #   \n",
      "=================================================================\n",
      "dense (Dense)                (None, 100)               600       \n",
      "_________________________________________________________________\n",
      "dropout (Dropout)            (None, 100)               0         \n",
      "_________________________________________________________________\n",
      "dense_1 (Dense)              (None, 100)               10100     \n",
      "_________________________________________________________________\n",
      "dropout_1 (Dropout)          (None, 100)               0         \n",
      "_________________________________________________________________\n",
      "dense_2 (Dense)              (None, 6)                 606       \n",
      "=================================================================\n",
      "Total params: 11,306\n",
      "Trainable params: 11,306\n",
      "Non-trainable params: 0\n",
      "_________________________________________________________________\n"
     ]
    }
   ],
   "source": [
    "model.summary()\n"
   ]
  },
  {
   "cell_type": "code",
   "execution_count": 22,
   "metadata": {
    "colab": {
     "base_uri": "https://localhost:8080/",
     "height": 139
    },
    "colab_type": "code",
    "executionInfo": {
     "elapsed": 480,
     "status": "ok",
     "timestamp": 1582609102373,
     "user": {
      "displayName": "Srinivasan Seshan",
      "photoUrl": "",
      "userId": "06632033567786526417"
     },
     "user_tz": 300
    },
    "id": "c3yjoJHWnDmN",
    "outputId": "86c43d5a-8bf1-489e-9649-b57c0eb1fae6"
   },
   "outputs": [
    {
     "name": "stdout",
     "output_type": "stream",
     "text": [
      "Training Accuracy :  0.7642121245463689\n",
      "Validation Accuracy :  0.7616173565387726\n",
      "       s1   s2   s3   s4   s5\n",
      "0     422  882  559  675  303\n",
      "1     420  882  559  675  301\n",
      "2     419  880  558  673  297\n",
      "3     422  882  557  674  302\n",
      "4     421  882  559  675  303\n",
      "...   ...  ...  ...  ...  ...\n",
      "1720  413  883  561  661  297\n",
      "1721  413  883  559  668  298\n",
      "1722  417  883  560  669  301\n",
      "1723  415  882  559  668  299\n",
      "1724  415  883  555  667  298\n",
      "\n",
      "[1725 rows x 5 columns]\n",
      "[[0. 0. 0. 0. 0. 1.]\n",
      " [0. 0. 0. 0. 0. 1.]\n",
      " [0. 0. 0. 0. 0. 1.]\n",
      " ...\n",
      " [0. 1. 0. 0. 0. 0.]\n",
      " [0. 1. 0. 0. 0. 0.]\n",
      " [0. 1. 0. 0. 0. 0.]]\n",
      "[3, 3, 2, 2, 2, 2, 2, 2, 2, 2, 2, 2, 2, 2, 2, 2, 2, 2, 2, 2, 2, 2, 2, 2, 2, 2, 2, 2, 2, 2, 2, 2, 2, 2, 2, 2, 2, 2, 2, 2, 2, 2, 2, 2, 2, 2, 2, 2, 2, 2, 2, 2, 2, 2, 2, 2, 2, 2, 2, 2, 2, 2, 2, 2, 2, 2, 2, 2, 2, 2, 2, 2, 2, 2, 2, 2, 2, 2, 2, 2, 2, 2, 2, 2, 2, 2, 2, 2, 2, 2, 2, 2, 2, 2, 2, 2, 2, 2, 2, 2, 2, 2, 2, 2, 2, 2, 2, 2, 2, 2, 2, 2, 2, 2, 2, 2, 2, 2, 2, 2, 2, 2, 2, 2, 2, 2, 2, 2, 2, 2, 2, 2, 2, 2, 2, 2, 2, 2, 2, 2, 2, 2, 2, 2, 2, 3, 3, 3, 3, 3, 4, 4, 4, 4, 4, 4, 4, 1, 1, 1, 1, 1, 1, 1, 1, 1, 1, 1, 1, 1, 1, 1, 1, 1, 1, 1, 1, 1, 1, 1, 1, 1, 1, 1, 1, 1, 1, 1, 1, 1, 1, 1, 1, 1, 1, 1, 1, 1, 1, 1, 1, 1, 1, 1, 1, 1, 1, 1, 1, 1, 1, 1, 1, 1, 1, 1, 1, 1, 1, 1, 1, 1, 1, 1, 1, 1, 1, 1, 1, 1, 1, 1, 1, 1, 1, 1, 1, 1, 1, 1, 1, 1, 1, 1, 1, 1, 1, 1, 1, 1, 1, 1, 1, 1, 1, 1, 1, 1, 1, 1, 1, 1, 1, 1, 1, 1, 1, 1, 1, 1, 1, 4, 4, 4, 4, 4, 4, 3, 3, 3, 3, 3, 3, 3, 3, 3, 3, 3, 3, 3, 3, 3, 3, 3, 3, 3, 3, 3, 3, 3, 3, 3, 3, 3, 3, 3, 3, 3, 3, 3, 3, 3, 3, 3, 3, 3, 3, 3, 3, 3, 3, 3, 3, 3, 3, 3, 3, 3, 3, 3, 3, 3, 3, 3, 3, 3, 3, 3, 3, 3, 3, 3, 3, 3, 3, 3, 3, 3, 3, 3, 3, 3, 3, 3, 3, 3, 3, 3, 3, 3, 3, 3, 3, 3, 3, 3, 3, 3, 3, 3, 3, 3, 3, 3, 3, 3, 3, 3, 3, 3, 3, 3, 3, 3, 3, 3, 3, 3, 3, 3, 3, 3, 3, 3, 3, 3, 3, 3, 3, 3, 3, 3, 3, 3, 3, 3, 3, 3, 3, 3, 3, 3, 3, 3, 3, 3, 3, 3, 3, 3, 3, 3, 3, 3, 3, 3, 3, 3, 3, 3, 3, 3, 3, 3, 3, 3, 3, 3, 3, 3, 3, 3, 3, 3, 3, 3, 3, 3, 3, 3, 3, 3, 3, 3, 3, 3, 3, 3, 3, 3, 3, 3, 3, 5, 5, 5, 5, 4, 4, 4, 4, 4, 4, 4, 4, 4, 4, 4, 4, 4, 4, 4, 1, 1, 1, 1, 1, 1, 1, 1, 1, 1, 1, 1, 1, 1, 1, 1, 1, 1, 1, 1, 1, 1, 1, 1, 1, 1, 1, 1, 1, 1, 1, 1, 1, 1, 1, 1, 1, 1, 1, 1, 1, 1, 1, 1, 1, 1, 1, 1, 1, 1, 1, 1, 1, 1, 1, 1, 1, 1, 1, 1, 1, 1, 1, 1, 1, 1, 1, 1, 1, 1, 1, 1, 1, 1, 1, 1, 1, 1, 1, 1, 1, 1, 1, 1, 1, 1, 1, 1, 1, 1, 1, 1, 1, 1, 1, 1, 1, 1, 1, 1, 1, 1, 1, 1, 1, 1, 1, 1, 1, 1, 1, 1, 1, 1, 1, 1, 1, 1, 1, 1, 1, 1, 1, 1, 1, 1, 1, 1, 1, 1, 1, 1, 1, 1, 1, 1, 1, 1, 1, 1, 1, 1, 1, 1, 1, 1, 1, 1, 1, 1, 1, 1, 1, 1, 1, 1, 1, 1, 1, 1, 1, 1, 1, 1, 1, 1, 1, 1, 1, 1, 1, 1, 4, 4, 4, 4, 4, 4, 4, 4, 4, 4, 4, 4, 4, 4, 4, 4, 4, 4, 4, 4, 4, 4, 4, 4, 4, 4, 4, 4, 4, 4, 4, 4, 4, 4, 4, 4, 4, 4, 4, 4, 4, 4, 4, 4, 4, 4, 4, 4, 4, 4, 4, 4, 4, 4, 4, 4, 4, 4, 4, 4, 4, 4, 4, 4, 4, 4, 4, 4, 4, 4, 4, 4, 4, 4, 4, 4, 4, 4, 4, 4, 4, 4, 4, 4, 4, 4, 4, 4, 4, 4, 4, 4, 4, 4, 4, 4, 4, 4, 4, 4, 4, 4, 4, 4, 4, 4, 4, 4, 4, 4, 4, 4, 4, 4, 4, 4, 4, 4, 4, 4, 4, 4, 4, 4, 4, 4, 4, 4, 4, 4, 4, 4, 4, 4, 4, 4, 4, 4, 4, 4, 4, 4, 4, 4, 4, 4, 4, 4, 4, 4, 4, 4, 4, 4, 4, 4, 4, 4, 4, 4, 4, 4, 4, 4, 4, 4, 4, 4, 4, 1, 1, 1, 1, 1, 1, 1, 1, 1, 1, 1, 1, 1, 1, 1, 1, 1, 1, 1, 1, 1, 1]\n"
     ]
    },
    {
     "ename": "KeyError",
     "evalue": "0",
     "output_type": "error",
     "traceback": [
      "\u001b[0;31m---------------------------------------------------------------------------\u001b[0m",
      "\u001b[0;31mKeyError\u001b[0m                                  Traceback (most recent call last)",
      "\u001b[0;32m/usr/local/lib/python3.7/dist-packages/pandas/core/indexes/base.py\u001b[0m in \u001b[0;36mget_loc\u001b[0;34m(self, key, method, tolerance)\u001b[0m\n\u001b[1;32m   2645\u001b[0m             \u001b[0;32mtry\u001b[0m\u001b[0;34m:\u001b[0m\u001b[0;34m\u001b[0m\u001b[0;34m\u001b[0m\u001b[0m\n\u001b[0;32m-> 2646\u001b[0;31m                 \u001b[0;32mreturn\u001b[0m \u001b[0mself\u001b[0m\u001b[0;34m.\u001b[0m\u001b[0m_engine\u001b[0m\u001b[0;34m.\u001b[0m\u001b[0mget_loc\u001b[0m\u001b[0;34m(\u001b[0m\u001b[0mkey\u001b[0m\u001b[0;34m)\u001b[0m\u001b[0;34m\u001b[0m\u001b[0;34m\u001b[0m\u001b[0m\n\u001b[0m\u001b[1;32m   2647\u001b[0m             \u001b[0;32mexcept\u001b[0m \u001b[0mKeyError\u001b[0m\u001b[0;34m:\u001b[0m\u001b[0;34m\u001b[0m\u001b[0;34m\u001b[0m\u001b[0m\n",
      "\u001b[0;32mpandas/_libs/index.pyx\u001b[0m in \u001b[0;36mpandas._libs.index.IndexEngine.get_loc\u001b[0;34m()\u001b[0m\n",
      "\u001b[0;32mpandas/_libs/index.pyx\u001b[0m in \u001b[0;36mpandas._libs.index.IndexEngine.get_loc\u001b[0;34m()\u001b[0m\n",
      "\u001b[0;32mpandas/_libs/hashtable_class_helper.pxi\u001b[0m in \u001b[0;36mpandas._libs.hashtable.PyObjectHashTable.get_item\u001b[0;34m()\u001b[0m\n",
      "\u001b[0;32mpandas/_libs/hashtable_class_helper.pxi\u001b[0m in \u001b[0;36mpandas._libs.hashtable.PyObjectHashTable.get_item\u001b[0;34m()\u001b[0m\n",
      "\u001b[0;31mKeyError\u001b[0m: 0",
      "\nDuring handling of the above exception, another exception occurred:\n",
      "\u001b[0;31mKeyError\u001b[0m                                  Traceback (most recent call last)",
      "\u001b[0;32m<ipython-input-22-a644963cf5ff>\u001b[0m in \u001b[0;36m<module>\u001b[0;34m\u001b[0m\n\u001b[1;32m     12\u001b[0m     \u001b[0mprint\u001b[0m\u001b[0;34m(\u001b[0m\u001b[0mrounded\u001b[0m\u001b[0;34m)\u001b[0m\u001b[0;34m\u001b[0m\u001b[0;34m\u001b[0m\u001b[0m\n\u001b[1;32m     13\u001b[0m     \u001b[0;32mfor\u001b[0m \u001b[0mitem\u001b[0m \u001b[0;32min\u001b[0m \u001b[0mrounded\u001b[0m\u001b[0;34m:\u001b[0m\u001b[0;34m\u001b[0m\u001b[0;34m\u001b[0m\u001b[0m\n\u001b[0;32m---> 14\u001b[0;31m         \u001b[0mf\u001b[0m\u001b[0;34m.\u001b[0m\u001b[0mwrite\u001b[0m\u001b[0;34m(\u001b[0m\u001b[0mstr\u001b[0m\u001b[0;34m(\u001b[0m\u001b[0mx_train\u001b[0m\u001b[0;34m[\u001b[0m\u001b[0mi\u001b[0m\u001b[0;34m]\u001b[0m\u001b[0;34m[\u001b[0m\u001b[0;36m0\u001b[0m\u001b[0;34m]\u001b[0m\u001b[0;34m[\u001b[0m\u001b[0;36m0\u001b[0m\u001b[0;34m]\u001b[0m\u001b[0;34m)\u001b[0m \u001b[0;34m+\u001b[0m\u001b[0;34m\",\"\u001b[0m\u001b[0;34m+\u001b[0m \u001b[0mstr\u001b[0m\u001b[0;34m(\u001b[0m\u001b[0mx_train\u001b[0m\u001b[0;34m[\u001b[0m\u001b[0mi\u001b[0m\u001b[0;34m]\u001b[0m\u001b[0;34m[\u001b[0m\u001b[0;36m0\u001b[0m\u001b[0;34m]\u001b[0m\u001b[0;34m[\u001b[0m\u001b[0;36m1\u001b[0m\u001b[0;34m]\u001b[0m\u001b[0;34m)\u001b[0m \u001b[0;34m+\u001b[0m\u001b[0;34m\",\"\u001b[0m\u001b[0;34m+\u001b[0m \u001b[0mstr\u001b[0m\u001b[0;34m(\u001b[0m\u001b[0mx_train\u001b[0m\u001b[0;34m[\u001b[0m\u001b[0mi\u001b[0m\u001b[0;34m]\u001b[0m\u001b[0;34m[\u001b[0m\u001b[0;36m0\u001b[0m\u001b[0;34m]\u001b[0m\u001b[0;34m[\u001b[0m\u001b[0;36m2\u001b[0m\u001b[0;34m]\u001b[0m\u001b[0;34m)\u001b[0m \u001b[0;34m+\u001b[0m\u001b[0;34m\",\"\u001b[0m\u001b[0;34m+\u001b[0m \u001b[0mstr\u001b[0m\u001b[0;34m(\u001b[0m\u001b[0mx_train\u001b[0m\u001b[0;34m[\u001b[0m\u001b[0mi\u001b[0m\u001b[0;34m]\u001b[0m\u001b[0;34m[\u001b[0m\u001b[0;36m0\u001b[0m\u001b[0;34m]\u001b[0m\u001b[0;34m[\u001b[0m\u001b[0;36m3\u001b[0m\u001b[0;34m]\u001b[0m\u001b[0;34m)\u001b[0m \u001b[0;34m+\u001b[0m\u001b[0;34m\",\"\u001b[0m\u001b[0;34m+\u001b[0m \u001b[0mstr\u001b[0m\u001b[0;34m(\u001b[0m\u001b[0mx_train\u001b[0m\u001b[0;34m[\u001b[0m\u001b[0mi\u001b[0m\u001b[0;34m]\u001b[0m\u001b[0;34m[\u001b[0m\u001b[0;36m0\u001b[0m\u001b[0;34m]\u001b[0m\u001b[0;34m[\u001b[0m\u001b[0;36m4\u001b[0m\u001b[0;34m]\u001b[0m\u001b[0;34m)\u001b[0m\u001b[0;34m+\u001b[0m\u001b[0;34m\",\"\u001b[0m\u001b[0;34m+\u001b[0m \u001b[0mstr\u001b[0m\u001b[0;34m(\u001b[0m\u001b[0mitem\u001b[0m\u001b[0;34m)\u001b[0m\u001b[0;34m+\u001b[0m\u001b[0;34m\",\"\u001b[0m\u001b[0;34m+\u001b[0m\u001b[0mstr\u001b[0m\u001b[0;34m(\u001b[0m\u001b[0my_test\u001b[0m\u001b[0;34m[\u001b[0m\u001b[0mi\u001b[0m\u001b[0;34m]\u001b[0m\u001b[0;34m[\u001b[0m\u001b[0;36m0\u001b[0m\u001b[0;34m]\u001b[0m\u001b[0;34m[\u001b[0m\u001b[0;36m0\u001b[0m\u001b[0;34m]\u001b[0m\u001b[0;34m)\u001b[0m\u001b[0;34m+\u001b[0m\u001b[0;34m\"\\n\"\u001b[0m\u001b[0;34m)\u001b[0m\u001b[0;34m\u001b[0m\u001b[0;34m\u001b[0m\u001b[0m\n\u001b[0m\u001b[1;32m     15\u001b[0m         \u001b[0mi\u001b[0m\u001b[0;34m=\u001b[0m\u001b[0mi\u001b[0m\u001b[0;34m+\u001b[0m\u001b[0;36m1\u001b[0m\u001b[0;34m\u001b[0m\u001b[0;34m\u001b[0m\u001b[0m\n",
      "\u001b[0;32m/usr/local/lib/python3.7/dist-packages/pandas/core/frame.py\u001b[0m in \u001b[0;36m__getitem__\u001b[0;34m(self, key)\u001b[0m\n\u001b[1;32m   2798\u001b[0m             \u001b[0;32mif\u001b[0m \u001b[0mself\u001b[0m\u001b[0;34m.\u001b[0m\u001b[0mcolumns\u001b[0m\u001b[0;34m.\u001b[0m\u001b[0mnlevels\u001b[0m \u001b[0;34m>\u001b[0m \u001b[0;36m1\u001b[0m\u001b[0;34m:\u001b[0m\u001b[0;34m\u001b[0m\u001b[0;34m\u001b[0m\u001b[0m\n\u001b[1;32m   2799\u001b[0m                 \u001b[0;32mreturn\u001b[0m \u001b[0mself\u001b[0m\u001b[0;34m.\u001b[0m\u001b[0m_getitem_multilevel\u001b[0m\u001b[0;34m(\u001b[0m\u001b[0mkey\u001b[0m\u001b[0;34m)\u001b[0m\u001b[0;34m\u001b[0m\u001b[0;34m\u001b[0m\u001b[0m\n\u001b[0;32m-> 2800\u001b[0;31m             \u001b[0mindexer\u001b[0m \u001b[0;34m=\u001b[0m \u001b[0mself\u001b[0m\u001b[0;34m.\u001b[0m\u001b[0mcolumns\u001b[0m\u001b[0;34m.\u001b[0m\u001b[0mget_loc\u001b[0m\u001b[0;34m(\u001b[0m\u001b[0mkey\u001b[0m\u001b[0;34m)\u001b[0m\u001b[0;34m\u001b[0m\u001b[0;34m\u001b[0m\u001b[0m\n\u001b[0m\u001b[1;32m   2801\u001b[0m             \u001b[0;32mif\u001b[0m \u001b[0mis_integer\u001b[0m\u001b[0;34m(\u001b[0m\u001b[0mindexer\u001b[0m\u001b[0;34m)\u001b[0m\u001b[0;34m:\u001b[0m\u001b[0;34m\u001b[0m\u001b[0;34m\u001b[0m\u001b[0m\n\u001b[1;32m   2802\u001b[0m                 \u001b[0mindexer\u001b[0m \u001b[0;34m=\u001b[0m \u001b[0;34m[\u001b[0m\u001b[0mindexer\u001b[0m\u001b[0;34m]\u001b[0m\u001b[0;34m\u001b[0m\u001b[0;34m\u001b[0m\u001b[0m\n",
      "\u001b[0;32m/usr/local/lib/python3.7/dist-packages/pandas/core/indexes/base.py\u001b[0m in \u001b[0;36mget_loc\u001b[0;34m(self, key, method, tolerance)\u001b[0m\n\u001b[1;32m   2646\u001b[0m                 \u001b[0;32mreturn\u001b[0m \u001b[0mself\u001b[0m\u001b[0;34m.\u001b[0m\u001b[0m_engine\u001b[0m\u001b[0;34m.\u001b[0m\u001b[0mget_loc\u001b[0m\u001b[0;34m(\u001b[0m\u001b[0mkey\u001b[0m\u001b[0;34m)\u001b[0m\u001b[0;34m\u001b[0m\u001b[0;34m\u001b[0m\u001b[0m\n\u001b[1;32m   2647\u001b[0m             \u001b[0;32mexcept\u001b[0m \u001b[0mKeyError\u001b[0m\u001b[0;34m:\u001b[0m\u001b[0;34m\u001b[0m\u001b[0;34m\u001b[0m\u001b[0m\n\u001b[0;32m-> 2648\u001b[0;31m                 \u001b[0;32mreturn\u001b[0m \u001b[0mself\u001b[0m\u001b[0;34m.\u001b[0m\u001b[0m_engine\u001b[0m\u001b[0;34m.\u001b[0m\u001b[0mget_loc\u001b[0m\u001b[0;34m(\u001b[0m\u001b[0mself\u001b[0m\u001b[0;34m.\u001b[0m\u001b[0m_maybe_cast_indexer\u001b[0m\u001b[0;34m(\u001b[0m\u001b[0mkey\u001b[0m\u001b[0;34m)\u001b[0m\u001b[0;34m)\u001b[0m\u001b[0;34m\u001b[0m\u001b[0;34m\u001b[0m\u001b[0m\n\u001b[0m\u001b[1;32m   2649\u001b[0m         \u001b[0mindexer\u001b[0m \u001b[0;34m=\u001b[0m \u001b[0mself\u001b[0m\u001b[0;34m.\u001b[0m\u001b[0mget_indexer\u001b[0m\u001b[0;34m(\u001b[0m\u001b[0;34m[\u001b[0m\u001b[0mkey\u001b[0m\u001b[0;34m]\u001b[0m\u001b[0;34m,\u001b[0m \u001b[0mmethod\u001b[0m\u001b[0;34m=\u001b[0m\u001b[0mmethod\u001b[0m\u001b[0;34m,\u001b[0m \u001b[0mtolerance\u001b[0m\u001b[0;34m=\u001b[0m\u001b[0mtolerance\u001b[0m\u001b[0;34m)\u001b[0m\u001b[0;34m\u001b[0m\u001b[0;34m\u001b[0m\u001b[0m\n\u001b[1;32m   2650\u001b[0m         \u001b[0;32mif\u001b[0m \u001b[0mindexer\u001b[0m\u001b[0;34m.\u001b[0m\u001b[0mndim\u001b[0m \u001b[0;34m>\u001b[0m \u001b[0;36m1\u001b[0m \u001b[0;32mor\u001b[0m \u001b[0mindexer\u001b[0m\u001b[0;34m.\u001b[0m\u001b[0msize\u001b[0m \u001b[0;34m>\u001b[0m \u001b[0;36m1\u001b[0m\u001b[0;34m:\u001b[0m\u001b[0;34m\u001b[0m\u001b[0;34m\u001b[0m\u001b[0m\n",
      "\u001b[0;32mpandas/_libs/index.pyx\u001b[0m in \u001b[0;36mpandas._libs.index.IndexEngine.get_loc\u001b[0;34m()\u001b[0m\n",
      "\u001b[0;32mpandas/_libs/index.pyx\u001b[0m in \u001b[0;36mpandas._libs.index.IndexEngine.get_loc\u001b[0;34m()\u001b[0m\n",
      "\u001b[0;32mpandas/_libs/hashtable_class_helper.pxi\u001b[0m in \u001b[0;36mpandas._libs.hashtable.PyObjectHashTable.get_item\u001b[0;34m()\u001b[0m\n",
      "\u001b[0;32mpandas/_libs/hashtable_class_helper.pxi\u001b[0m in \u001b[0;36mpandas._libs.hashtable.PyObjectHashTable.get_item\u001b[0;34m()\u001b[0m\n",
      "\u001b[0;31mKeyError\u001b[0m: 0"
     ]
    }
   ],
   "source": [
    "print('Training Accuracy : ' , np.mean(model_output.history[\"accuracy\"]))\n",
    "print('Validation Accuracy : ' , np.mean(model_output.history[\"val_accuracy\"]))\n",
    "y_pred = model.predict(x_test)\n",
    "rounded = [np.argmax(x) for x in y_pred]\n",
    "\n",
    "y_testComp = [np.argmax(x) for x in y_test]\n",
    "confusion_matrix(y_testComp,rounded)\n",
    "with open('predict.txt', 'w') as f:\n",
    "    i=0\n",
    "#     print(x_data)\n",
    "#     print(y_test)\n",
    "#     print(rounded)\n",
    "    for item in rounded:\n",
    "        f.write(str(item)+\",\"+str(y_test[i][0][0])+\"\\n\")\n",
    "        i=i+1"
   ]
  },
  {
   "cell_type": "code",
   "execution_count": null,
   "metadata": {
    "colab": {
     "base_uri": "https://localhost:8080/",
     "height": 573
    },
    "colab_type": "code",
    "executionInfo": {
     "elapsed": 661,
     "status": "ok",
     "timestamp": 1582611027779,
     "user": {
      "displayName": "Srinivasan Seshan",
      "photoUrl": "",
      "userId": "06632033567786526417"
     },
     "user_tz": 300
    },
    "id": "tmU9xIVEnHPq",
    "outputId": "f0f908fb-a98b-4d2d-902d-da480677aa6c"
   },
   "outputs": [],
   "source": [
    "# Plot training & validation accuracy values\n",
    "plt.plot(model_output.history['accuracy'])\n",
    "plt.plot(model_output.history['val_accuracy'])\n",
    "plt.title('Model Accuracy')\n",
    "plt.ylabel('Accuracy')\n",
    "plt.xlabel('Epoch')\n",
    "plt.legend(['Train', 'Test'], loc='upper left')\n",
    "plt.show()\n",
    "\n",
    "# Plot training & validation loss values\n",
    "plt.plot(model_output.history['loss'])\n",
    "plt.plot(model_output.history['val_loss'])\n",
    "plt.title('Model Loss')\n",
    "plt.ylabel('Loss')\n",
    "plt.xlabel('Epoch')\n",
    "plt.legend(['Train', 'Test'], loc='upper left')\n",
    "plt.show()"
   ]
  },
  {
   "cell_type": "code",
   "execution_count": null,
   "metadata": {
    "colab": {
     "base_uri": "https://localhost:8080/",
     "height": 89
    },
    "colab_type": "code",
    "executionInfo": {
     "elapsed": 347,
     "status": "ok",
     "timestamp": 1582511495326,
     "user": {
      "displayName": "Srinivasan Seshan",
      "photoUrl": "",
      "userId": "06632033567786526417"
     },
     "user_tz": 300
    },
    "id": "Ndrk72zLnQnH",
    "outputId": "fe874f09-50ab-4d21-df66-c19a76a11cce"
   },
   "outputs": [],
   "source": [
    "precision_score(y_testComp,rounded,average=None)"
   ]
  },
  {
   "cell_type": "code",
   "execution_count": null,
   "metadata": {
    "colab": {
     "base_uri": "https://localhost:8080/",
     "height": 104
    },
    "colab_type": "code",
    "executionInfo": {
     "elapsed": 382,
     "status": "ok",
     "timestamp": 1582612311267,
     "user": {
      "displayName": "Srinivasan Seshan",
      "photoUrl": "",
      "userId": "06632033567786526417"
     },
     "user_tz": 300
    },
    "id": "WuEZmqdhoIUd",
    "outputId": "c18986b1-a020-4576-e364-ff18504ed115"
   },
   "outputs": [],
   "source": [
    "testfile = \"splicedDataML/mix6ml\"\n",
    "new_dataX = pd.read_csv(testfile+\"X.csv\",names=['s1','s2','s3','s4','s5'])\n",
    "new_dataYR = np.genfromtxt(testfile+\"Y.csv\",delimiter=',',dtype=int)\n",
    "new_dataY = keras.utils.to_categorical(new_dataYR, num_classes)\n",
    "new_dataX.shape,new_dataY.shape\n",
    "new_predYT = model.predict(new_dataX)\n",
    "new_predY = [np.argmax(x) for x in new_predYT]\n",
    "new_predYComp = [np.argmax(x) for x in new_dataY]\n",
    "confusion_matrix(new_predYComp,new_predY)"
   ]
  },
  {
   "cell_type": "code",
   "execution_count": null,
   "metadata": {
    "colab": {
     "base_uri": "https://localhost:8080/",
     "height": 35
    },
    "colab_type": "code",
    "executionInfo": {
     "elapsed": 367,
     "status": "ok",
     "timestamp": 1582519272293,
     "user": {
      "displayName": "Srinivasan Seshan",
      "photoUrl": "",
      "userId": "06632033567786526417"
     },
     "user_tz": 300
    },
    "id": "aZxPQnds0FSL",
    "outputId": "9bd60e32-3c10-4a86-dff0-44f98ecd6511"
   },
   "outputs": [],
   "source": [
    "datafile = \"splicedDataML/mix6ml\"\n",
    "\n",
    "test = np.genfromtxt(datafile+\"X.csv\",delimiter=',')\n",
    "y_dataR = np.genfromtxt(datafile+\"Y.csv\",delimiter=',',dtype=int)\n",
    "num_classes = np.max(y_dataR) + 1\n",
    "y_data = keras.utils.to_categorical(y_dataR, num_classes)\n",
    "x_trainT = test[:1000]\n",
    "x_testT = test[1000:]\n",
    "y_trainT = y_data[:1000]\n",
    "y_testT = y_data[1000:]\n",
    "x_trainT.shape,y_trainT.shape,x_testT.shape,y_testT.shape, test.shape, y_data.shape\n",
    "\n"
   ]
  },
  {
   "cell_type": "code",
   "execution_count": null,
   "metadata": {
    "colab": {
     "base_uri": "https://localhost:8080/",
     "height": 35
    },
    "colab_type": "code",
    "executionInfo": {
     "elapsed": 362,
     "status": "ok",
     "timestamp": 1582519012191,
     "user": {
      "displayName": "Srinivasan Seshan",
      "photoUrl": "",
      "userId": "06632033567786526417"
     },
     "user_tz": 300
    },
    "id": "yW9dj2wbXw1W",
    "outputId": "bb1625e9-2ec3-400a-991c-131e4336b63a"
   },
   "outputs": [],
   "source": [
    "x_data.shape"
   ]
  },
  {
   "cell_type": "code",
   "execution_count": null,
   "metadata": {
    "colab": {
     "base_uri": "https://localhost:8080/",
     "height": 35
    },
    "colab_type": "code",
    "executionInfo": {
     "elapsed": 330,
     "status": "ok",
     "timestamp": 1582519294514,
     "user": {
      "displayName": "Srinivasan Seshan",
      "photoUrl": "",
      "userId": "06632033567786526417"
     },
     "user_tz": 300
    },
    "id": "Ao3NANmYV116",
    "outputId": "eb62765f-0296-423a-d73e-ff4a7e90688c"
   },
   "outputs": [],
   "source": [
    "x_data = test.reshape(test.shape[0],1,5)\n",
    "x_train = x_trainT.reshape(x_trainT.shape[0],1,5)\n",
    "x_test = x_testT.reshape(x_testT.shape[0],1,5)\n",
    "y_train = y_trainT.reshape(y_trainT.shape[0],1,6)\n",
    "y_test = y_testT.reshape(y_testT.shape[0],1,6)\n",
    "x_train.shape,y_train.shape,x_test.shape,y_test.shape, test.shape, y_data.shape\n"
   ]
  },
  {
   "cell_type": "code",
   "execution_count": null,
   "metadata": {
    "colab": {
     "base_uri": "https://localhost:8080/",
     "height": 35
    },
    "colab_type": "code",
    "executionInfo": {
     "elapsed": 354,
     "status": "ok",
     "timestamp": 1582518945726,
     "user": {
      "displayName": "Srinivasan Seshan",
      "photoUrl": "",
      "userId": "06632033567786526417"
     },
     "user_tz": 300
    },
    "id": "uAXxVZNiXFzN",
    "outputId": "93fe49ab-279c-40ac-9f18-30e07e70bcfa"
   },
   "outputs": [],
   "source": [
    "x_data.shape"
   ]
  },
  {
   "cell_type": "code",
   "execution_count": null,
   "metadata": {
    "colab": {
     "base_uri": "https://localhost:8080/",
     "height": 35
    },
    "colab_type": "code",
    "executionInfo": {
     "elapsed": 360,
     "status": "ok",
     "timestamp": 1582517538337,
     "user": {
      "displayName": "Srinivasan Seshan",
      "photoUrl": "",
      "userId": "06632033567786526417"
     },
     "user_tz": 300
    },
    "id": "trVHvxr4YNK4",
    "outputId": "3f461ebf-a805-41de-d5a2-b500df6fbd63"
   },
   "outputs": [],
   "source": [
    "samples = list()\n",
    "length = 115\n",
    "for i in range(0,x_data.shape[0],length):\n",
    "\t# grab from i to i + 200\n",
    "\tsample = x_data[i:i+length]\n",
    "\tsamples.append(sample)\n",
    "print(len(samples))"
   ]
  },
  {
   "cell_type": "code",
   "execution_count": null,
   "metadata": {
    "colab": {
     "base_uri": "https://localhost:8080/",
     "height": 1000
    },
    "colab_type": "code",
    "executionInfo": {
     "elapsed": 8845,
     "status": "ok",
     "timestamp": 1582519336534,
     "user": {
      "displayName": "Srinivasan Seshan",
      "photoUrl": "",
      "userId": "06632033567786526417"
     },
     "user_tz": 300
    },
    "id": "czYaTT7WVeSF",
    "outputId": "c181643e-188b-493f-b803-87f8c9c91aa2"
   },
   "outputs": [],
   "source": [
    "#Hidden Layer-1\n",
    "model = Sequential()\n",
    "model.add(LSTM(128, input_shape=(x_train.shape[1], x_train.shape[2])))\n",
    "model.add(Dense(6, activation='sigmoid'))\n",
    "model.compile(loss='binary_crossentropy',optimizer='adam',metrics=['accuracy'])\n",
    "model_output = model.fit(x_train, y_trainT, epochs=50, batch_size=72, validation_data=(x_test, y_testT), verbose=2, shuffle=False)"
   ]
  },
  {
   "cell_type": "code",
   "execution_count": null,
   "metadata": {
    "colab": {},
    "colab_type": "code",
    "id": "9uagCKKrbdJ9"
   },
   "outputs": [],
   "source": [
    "model.add(LSTM(32, input_shape=(x_data.shape[1], x_data.shape[2])))\n",
    "model.add(Dense(6, activation='sigmoid'))\n",
    "model.compile(loss='binary_crossentropy',optimizer='adam',metrics=['accuracy'])\n",
    "model_output = model.fit(x_data, y_data, epochs=50, batch_size=72, verbose=2, shuffle=False)"
   ]
  },
  {
   "cell_type": "code",
   "execution_count": null,
   "metadata": {
    "colab": {
     "base_uri": "https://localhost:8080/",
     "height": 573
    },
    "colab_type": "code",
    "executionInfo": {
     "elapsed": 763,
     "status": "ok",
     "timestamp": 1582519517797,
     "user": {
      "displayName": "Srinivasan Seshan",
      "photoUrl": "",
      "userId": "06632033567786526417"
     },
     "user_tz": 300
    },
    "id": "Mwdk0D6jd6mY",
    "outputId": "baea7c90-a9b0-46cb-b1a9-0bb1573f2c14"
   },
   "outputs": [],
   "source": [
    "plt.plot(model_output.history['acc'])\n",
    "plt.plot(model_output.history['val_acc'])\n",
    "plt.title('Model accuracy')\n",
    "plt.ylabel('Accuracy')\n",
    "plt.xlabel('Epoch')\n",
    "plt.legend(['Train', 'Test'], loc='upper left')\n",
    "plt.show()\n",
    "# Plot training & validation loss values\n",
    "plt.plot(model_output.history['loss'])\n",
    "plt.plot(model_output.history['val_loss'])\n",
    "plt.title('model_output loss')\n",
    "plt.ylabel('Loss')\n",
    "plt.xlabel('Epoch')\n",
    "plt.legend(['Train', 'Test'], loc='upper left')\n",
    "plt.show()"
   ]
  },
  {
   "cell_type": "code",
   "execution_count": null,
   "metadata": {
    "colab": {},
    "colab_type": "code",
    "id": "nxbaK1iEhMnp"
   },
   "outputs": [],
   "source": [
    "new_predYT= model.predict(x_train)\n",
    "new_predY = [argmax(x) for x in new_predYT]\n",
    "new_predYComp = [argmax(x) for x in y_train]\n"
   ]
  },
  {
   "cell_type": "code",
   "execution_count": null,
   "metadata": {
    "colab": {
     "base_uri": "https://localhost:8080/",
     "height": 1000
    },
    "colab_type": "code",
    "executionInfo": {
     "elapsed": 955,
     "status": "ok",
     "timestamp": 1582519869232,
     "user": {
      "displayName": "Srinivasan Seshan",
      "photoUrl": "",
      "userId": "06632033567786526417"
     },
     "user_tz": 300
    },
    "id": "IlT8aCjlhrTX",
    "outputId": "4fc8c3ed-99dc-47f0-f2a0-c75828b34dd3"
   },
   "outputs": [],
   "source": [
    "new_predY"
   ]
  },
  {
   "cell_type": "code",
   "execution_count": null,
   "metadata": {
    "colab": {},
    "colab_type": "code",
    "id": "6XUYBerthJlZ"
   },
   "outputs": [],
   "source": [
    "testfile = \"splicedDataML/mix6ml\"\n",
    "new_dataX = pd.read_csv(testfile+\"X.csv\",names=['s1','s2','s3','s4','s5'])\n",
    "new_dataYR = np.genfromtxt(testfile+\"Y.csv\",delimiter=',',dtype=int)\n",
    "new_dataY = keras.utils.to_categorical(new_dataYR, num_classes)\n",
    "new_dataX.shape,new_dataY.shape\n",
    "new_predYT = model.predict(new_dataX)\n",
    "new_predY = [argmax(x) for x in new_predYT]\n",
    "new_predYComp = [argmax(x) for x in new_dataY]\n",
    "confusion_matrix(new_predYComp,new_predY)"
   ]
  }
 ],
 "metadata": {
  "colab": {
   "authorship_tag": "ABX9TyMkzJA381+M5MURbjWhO/5N",
   "mount_file_id": "1EvNBzEgtFC1-c6IvCxWJOt5f2WmYxCdp",
   "name": "sanjay 2020.ipynb",
   "provenance": []
  },
  "kernelspec": {
   "display_name": "Python 3",
   "language": "python",
   "name": "python3"
  },
  "language_info": {
   "codemirror_mode": {
    "name": "ipython",
    "version": 3
   },
   "file_extension": ".py",
   "mimetype": "text/x-python",
   "name": "python",
   "nbconvert_exporter": "python",
   "pygments_lexer": "ipython3",
   "version": "3.7.3"
  }
 },
 "nbformat": 4,
 "nbformat_minor": 1
}
